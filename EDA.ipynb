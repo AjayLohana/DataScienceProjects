{
 "cells": [
  {
   "cell_type": "markdown",
   "metadata": {},
   "source": [
    "## **Libraries**"
   ]
  },
  {
   "cell_type": "code",
   "execution_count": 1,
   "metadata": {},
   "outputs": [],
   "source": [
    "import pandas as pd \n",
    "import numpy as np \n",
    "import seaborn as sns \n",
    "import matplotlib.pyplot as plt \n",
    "import plotly.express as px"
   ]
  },
  {
   "cell_type": "markdown",
   "metadata": {},
   "source": [
    "## **Dataset (Loading)**"
   ]
  },
  {
   "cell_type": "code",
   "execution_count": 2,
   "metadata": {},
   "outputs": [],
   "source": [
    "df = pd.read_csv('Survey from MUET FM 92.6.csv')"
   ]
  },
  {
   "cell_type": "code",
   "execution_count": 3,
   "metadata": {},
   "outputs": [
    {
     "data": {
      "text/html": [
       "<div>\n",
       "<style scoped>\n",
       "    .dataframe tbody tr th:only-of-type {\n",
       "        vertical-align: middle;\n",
       "    }\n",
       "\n",
       "    .dataframe tbody tr th {\n",
       "        vertical-align: top;\n",
       "    }\n",
       "\n",
       "    .dataframe thead th {\n",
       "        text-align: right;\n",
       "    }\n",
       "</style>\n",
       "<table border=\"1\" class=\"dataframe\">\n",
       "  <thead>\n",
       "    <tr style=\"text-align: right;\">\n",
       "      <th></th>\n",
       "      <th>Timestamp</th>\n",
       "      <th>Username</th>\n",
       "      <th>What is your Age?</th>\n",
       "      <th>Gender</th>\n",
       "      <th>Have you heard about MUET FM 92.6? If yes then from which platform.</th>\n",
       "      <th>What do you listen on MUET FM 92.6?</th>\n",
       "      <th>What do you want to listen on MUET FM 92.6?</th>\n",
       "      <th>At What time do you listen MUET FM 92.6?</th>\n",
       "      <th>How many hours do you listen FM?</th>\n",
       "      <th>On what social media platform you are / wish to follow us?</th>\n",
       "      <th>Are you interested to offer your services to MUET Campus Radio? If yes in what capacity?</th>\n",
       "      <th>Are you interested in the prize winning Competitions conducted by MUET FM 92.6?</th>\n",
       "      <th>Any Suggestions for MUET FM 92.6?</th>\n",
       "    </tr>\n",
       "  </thead>\n",
       "  <tbody>\n",
       "    <tr>\n",
       "      <th>0</th>\n",
       "      <td>2022/07/17 12:55:23 AM GMT+5</td>\n",
       "      <td>bakhtawarsaweda979@gmail.com</td>\n",
       "      <td>21</td>\n",
       "      <td>Female</td>\n",
       "      <td>Other</td>\n",
       "      <td>None</td>\n",
       "      <td>Motivational Talks;Technology Information</td>\n",
       "      <td>Evening</td>\n",
       "      <td>1 hour</td>\n",
       "      <td>Twitter</td>\n",
       "      <td>Content Writer;Outdoor Coverage</td>\n",
       "      <td>Yes</td>\n",
       "      <td>Don't have suggestions because I just have lit...</td>\n",
       "    </tr>\n",
       "    <tr>\n",
       "      <th>1</th>\n",
       "      <td>2022/07/17 1:08:48 AM GMT+5</td>\n",
       "      <td>shahzadshaikh725@gmail.com</td>\n",
       "      <td>21</td>\n",
       "      <td>Male</td>\n",
       "      <td>WhatsApp;Facebook;Other</td>\n",
       "      <td>Podcast;Motivational Talks;Campus News;Interviews</td>\n",
       "      <td>Interviews of Speakers;Motivational Talks;Tech...</td>\n",
       "      <td>Night</td>\n",
       "      <td>1 hour</td>\n",
       "      <td>Facebook;Instagram</td>\n",
       "      <td>Social Media Manager;Outdoor Coverage;Other</td>\n",
       "      <td>Yes</td>\n",
       "      <td>I'm also looking forward to work with MUET FM,...</td>\n",
       "    </tr>\n",
       "    <tr>\n",
       "      <th>2</th>\n",
       "      <td>2022/07/17 1:10:51 AM GMT+5</td>\n",
       "      <td>roshni24mustafa@gmail.com</td>\n",
       "      <td>26</td>\n",
       "      <td>Female</td>\n",
       "      <td>Facebook</td>\n",
       "      <td>Podcast</td>\n",
       "      <td>Motivational Talks;Technology Information;Succ...</td>\n",
       "      <td>Night</td>\n",
       "      <td>1 hour</td>\n",
       "      <td>Facebook</td>\n",
       "      <td>Other</td>\n",
       "      <td>Yes</td>\n",
       "      <td>No</td>\n",
       "    </tr>\n",
       "    <tr>\n",
       "      <th>3</th>\n",
       "      <td>2022/07/17 1:12:26 AM GMT+5</td>\n",
       "      <td>isoomro179@gmail.com</td>\n",
       "      <td>20</td>\n",
       "      <td>Male</td>\n",
       "      <td>WhatsApp;Facebook</td>\n",
       "      <td>Campus News</td>\n",
       "      <td>Podcasts;Interviews of Speakers;Motivational T...</td>\n",
       "      <td>Evening</td>\n",
       "      <td>0 hours</td>\n",
       "      <td>Facebook;YouTube;LinkedIn</td>\n",
       "      <td>Social Media Manager</td>\n",
       "      <td>Yes</td>\n",
       "      <td>FM 92.6 should be expanded on social platforms...</td>\n",
       "    </tr>\n",
       "    <tr>\n",
       "      <th>4</th>\n",
       "      <td>2022/07/17 1:20:18 AM GMT+5</td>\n",
       "      <td>sahiljatoi744@gmail.com</td>\n",
       "      <td>21</td>\n",
       "      <td>Male</td>\n",
       "      <td>WhatsApp;Facebook;Other</td>\n",
       "      <td>None</td>\n",
       "      <td>Podcasts;Interviews of Teachers/Professors;Int...</td>\n",
       "      <td>Night</td>\n",
       "      <td>0 hours</td>\n",
       "      <td>Facebook;YouTube;LinkedIn</td>\n",
       "      <td>RJ / Presenter;Other</td>\n",
       "      <td>Yes</td>\n",
       "      <td>We should be having podcasts and success stori...</td>\n",
       "    </tr>\n",
       "    <tr>\n",
       "      <th>...</th>\n",
       "      <td>...</td>\n",
       "      <td>...</td>\n",
       "      <td>...</td>\n",
       "      <td>...</td>\n",
       "      <td>...</td>\n",
       "      <td>...</td>\n",
       "      <td>...</td>\n",
       "      <td>...</td>\n",
       "      <td>...</td>\n",
       "      <td>...</td>\n",
       "      <td>...</td>\n",
       "      <td>...</td>\n",
       "      <td>...</td>\n",
       "    </tr>\n",
       "    <tr>\n",
       "      <th>323</th>\n",
       "      <td>2022/07/19 10:11:33 AM GMT+5</td>\n",
       "      <td>shakeelothosb@gmail.com</td>\n",
       "      <td>22</td>\n",
       "      <td>Male</td>\n",
       "      <td>WhatsApp</td>\n",
       "      <td>Jumma Special;Interviews</td>\n",
       "      <td>Interviews of Speakers;Tilawat Quran Majeed</td>\n",
       "      <td>Morning;Night</td>\n",
       "      <td>2 hours</td>\n",
       "      <td>Facebook;Twitter;YouTube</td>\n",
       "      <td>RJ / Presenter;Audio Engineer</td>\n",
       "      <td>Yes</td>\n",
       "      <td>Students should be given opportunities to talk...</td>\n",
       "    </tr>\n",
       "    <tr>\n",
       "      <th>324</th>\n",
       "      <td>2022/07/19 12:07:00 PM GMT+5</td>\n",
       "      <td>qaboolio356@gmail.com</td>\n",
       "      <td>21</td>\n",
       "      <td>Male</td>\n",
       "      <td>Facebook</td>\n",
       "      <td>None</td>\n",
       "      <td>Motivational Talks</td>\n",
       "      <td>Night</td>\n",
       "      <td>0 hours</td>\n",
       "      <td>Facebook</td>\n",
       "      <td>Social Media Manager</td>\n",
       "      <td>Yes</td>\n",
       "      <td>none</td>\n",
       "    </tr>\n",
       "    <tr>\n",
       "      <th>325</th>\n",
       "      <td>2022/07/19 2:26:22 PM GMT+5</td>\n",
       "      <td>mshuja789@gmail.com</td>\n",
       "      <td>20</td>\n",
       "      <td>Male</td>\n",
       "      <td>WhatsApp</td>\n",
       "      <td>None</td>\n",
       "      <td>Technology Information</td>\n",
       "      <td>Night</td>\n",
       "      <td>0 hours</td>\n",
       "      <td>Facebook</td>\n",
       "      <td>None</td>\n",
       "      <td>No</td>\n",
       "      <td>No</td>\n",
       "    </tr>\n",
       "    <tr>\n",
       "      <th>326</th>\n",
       "      <td>2022/07/19 6:49:12 PM GMT+5</td>\n",
       "      <td>kumaripiryanka497@gmail.com</td>\n",
       "      <td>21</td>\n",
       "      <td>Female</td>\n",
       "      <td>WhatsApp</td>\n",
       "      <td>None</td>\n",
       "      <td>Success Stories</td>\n",
       "      <td>Night</td>\n",
       "      <td>1 hour</td>\n",
       "      <td>YouTube</td>\n",
       "      <td>Content Writer</td>\n",
       "      <td>Yes</td>\n",
       "      <td>No</td>\n",
       "    </tr>\n",
       "    <tr>\n",
       "      <th>327</th>\n",
       "      <td>2022/07/20 1:20:46 AM GMT+5</td>\n",
       "      <td>Sara28295@gmail.com</td>\n",
       "      <td>21</td>\n",
       "      <td>Female</td>\n",
       "      <td>WhatsApp;Facebook</td>\n",
       "      <td>Podcast;Campus News</td>\n",
       "      <td>Podcasts;Interviews of Teachers/Professors;Int...</td>\n",
       "      <td>Evening</td>\n",
       "      <td>1 hour</td>\n",
       "      <td>Facebook</td>\n",
       "      <td>RJ / Presenter</td>\n",
       "      <td>Yes</td>\n",
       "      <td>Work on signal management</td>\n",
       "    </tr>\n",
       "  </tbody>\n",
       "</table>\n",
       "<p>328 rows × 13 columns</p>\n",
       "</div>"
      ],
      "text/plain": [
       "                        Timestamp                      Username  \\\n",
       "0    2022/07/17 12:55:23 AM GMT+5  bakhtawarsaweda979@gmail.com   \n",
       "1     2022/07/17 1:08:48 AM GMT+5    shahzadshaikh725@gmail.com   \n",
       "2     2022/07/17 1:10:51 AM GMT+5     roshni24mustafa@gmail.com   \n",
       "3     2022/07/17 1:12:26 AM GMT+5          isoomro179@gmail.com   \n",
       "4     2022/07/17 1:20:18 AM GMT+5       sahiljatoi744@gmail.com   \n",
       "..                            ...                           ...   \n",
       "323  2022/07/19 10:11:33 AM GMT+5       shakeelothosb@gmail.com   \n",
       "324  2022/07/19 12:07:00 PM GMT+5         qaboolio356@gmail.com   \n",
       "325   2022/07/19 2:26:22 PM GMT+5           mshuja789@gmail.com   \n",
       "326   2022/07/19 6:49:12 PM GMT+5   kumaripiryanka497@gmail.com   \n",
       "327   2022/07/20 1:20:46 AM GMT+5           Sara28295@gmail.com   \n",
       "\n",
       "     What is your Age?  Gender  \\\n",
       "0                   21  Female   \n",
       "1                   21    Male   \n",
       "2                   26  Female   \n",
       "3                   20    Male   \n",
       "4                   21    Male   \n",
       "..                 ...     ...   \n",
       "323                 22    Male   \n",
       "324                 21    Male   \n",
       "325                 20    Male   \n",
       "326                 21  Female   \n",
       "327                 21  Female   \n",
       "\n",
       "    Have you heard about MUET FM 92.6? If yes then from which platform.  \\\n",
       "0                                                Other                    \n",
       "1                              WhatsApp;Facebook;Other                    \n",
       "2                                             Facebook                    \n",
       "3                                    WhatsApp;Facebook                    \n",
       "4                              WhatsApp;Facebook;Other                    \n",
       "..                                                 ...                    \n",
       "323                                           WhatsApp                    \n",
       "324                                           Facebook                    \n",
       "325                                           WhatsApp                    \n",
       "326                                           WhatsApp                    \n",
       "327                                  WhatsApp;Facebook                    \n",
       "\n",
       "                   What do you listen on MUET FM 92.6?  \\\n",
       "0                                                 None   \n",
       "1    Podcast;Motivational Talks;Campus News;Interviews   \n",
       "2                                              Podcast   \n",
       "3                                          Campus News   \n",
       "4                                                 None   \n",
       "..                                                 ...   \n",
       "323                           Jumma Special;Interviews   \n",
       "324                                               None   \n",
       "325                                               None   \n",
       "326                                               None   \n",
       "327                                Podcast;Campus News   \n",
       "\n",
       "           What do you want to listen on MUET FM 92.6?  \\\n",
       "0            Motivational Talks;Technology Information   \n",
       "1    Interviews of Speakers;Motivational Talks;Tech...   \n",
       "2    Motivational Talks;Technology Information;Succ...   \n",
       "3    Podcasts;Interviews of Speakers;Motivational T...   \n",
       "4    Podcasts;Interviews of Teachers/Professors;Int...   \n",
       "..                                                 ...   \n",
       "323        Interviews of Speakers;Tilawat Quran Majeed   \n",
       "324                                 Motivational Talks   \n",
       "325                             Technology Information   \n",
       "326                                    Success Stories   \n",
       "327  Podcasts;Interviews of Teachers/Professors;Int...   \n",
       "\n",
       "    At What time do you listen MUET FM 92.6? How many hours do you listen FM?  \\\n",
       "0                                    Evening                           1 hour   \n",
       "1                                      Night                           1 hour   \n",
       "2                                      Night                           1 hour   \n",
       "3                                    Evening                          0 hours   \n",
       "4                                      Night                          0 hours   \n",
       "..                                       ...                              ...   \n",
       "323                            Morning;Night                          2 hours   \n",
       "324                                    Night                          0 hours   \n",
       "325                                    Night                          0 hours   \n",
       "326                                    Night                           1 hour   \n",
       "327                                  Evening                           1 hour   \n",
       "\n",
       "    On what social media platform you are / wish to follow us?  \\\n",
       "0                                              Twitter           \n",
       "1                                   Facebook;Instagram           \n",
       "2                                             Facebook           \n",
       "3                            Facebook;YouTube;LinkedIn           \n",
       "4                            Facebook;YouTube;LinkedIn           \n",
       "..                                                 ...           \n",
       "323                           Facebook;Twitter;YouTube           \n",
       "324                                           Facebook           \n",
       "325                                           Facebook           \n",
       "326                                            YouTube           \n",
       "327                                           Facebook           \n",
       "\n",
       "    Are you interested to offer your services to MUET Campus Radio? If yes in what capacity?  \\\n",
       "0                      Content Writer;Outdoor Coverage                                         \n",
       "1          Social Media Manager;Outdoor Coverage;Other                                         \n",
       "2                                                Other                                         \n",
       "3                                 Social Media Manager                                         \n",
       "4                                 RJ / Presenter;Other                                         \n",
       "..                                                 ...                                         \n",
       "323                      RJ / Presenter;Audio Engineer                                         \n",
       "324                               Social Media Manager                                         \n",
       "325                                               None                                         \n",
       "326                                     Content Writer                                         \n",
       "327                                     RJ / Presenter                                         \n",
       "\n",
       "    Are you interested in the prize winning Competitions conducted by MUET FM 92.6?  \\\n",
       "0                                                  Yes                                \n",
       "1                                                  Yes                                \n",
       "2                                                  Yes                                \n",
       "3                                                  Yes                                \n",
       "4                                                  Yes                                \n",
       "..                                                 ...                                \n",
       "323                                                Yes                                \n",
       "324                                                Yes                                \n",
       "325                                                 No                                \n",
       "326                                                Yes                                \n",
       "327                                                Yes                                \n",
       "\n",
       "                     Any Suggestions for MUET FM 92.6?  \n",
       "0    Don't have suggestions because I just have lit...  \n",
       "1    I'm also looking forward to work with MUET FM,...  \n",
       "2                                                   No  \n",
       "3    FM 92.6 should be expanded on social platforms...  \n",
       "4    We should be having podcasts and success stori...  \n",
       "..                                                 ...  \n",
       "323  Students should be given opportunities to talk...  \n",
       "324                                              none   \n",
       "325                                                 No  \n",
       "326                                                 No  \n",
       "327                         Work on signal management   \n",
       "\n",
       "[328 rows x 13 columns]"
      ]
     },
     "execution_count": 3,
     "metadata": {},
     "output_type": "execute_result"
    }
   ],
   "source": [
    "df"
   ]
  },
  {
   "cell_type": "markdown",
   "metadata": {},
   "source": [
    "## **Data wrangling and visualization**"
   ]
  },
  {
   "cell_type": "code",
   "execution_count": 4,
   "metadata": {},
   "outputs": [
    {
     "data": {
      "text/plain": [
       "Index(['Timestamp', 'Username', ' What is your Age?', 'Gender',\n",
       "       'Have you heard about MUET FM 92.6? If yes then from which platform.',\n",
       "       'What do you listen on MUET FM 92.6?',\n",
       "       'What do you want to listen on MUET FM 92.6?',\n",
       "       'At What time do you listen MUET FM 92.6?',\n",
       "       'How many hours do you listen FM?',\n",
       "       'On what social media platform you are / wish to follow us?',\n",
       "       'Are you interested to offer your services to MUET Campus Radio? If yes in what capacity?',\n",
       "       'Are you interested in the prize winning Competitions conducted by MUET FM 92.6?',\n",
       "       'Any Suggestions for MUET FM 92.6?'],\n",
       "      dtype='object')"
      ]
     },
     "execution_count": 4,
     "metadata": {},
     "output_type": "execute_result"
    }
   ],
   "source": [
    "df.columns"
   ]
  },
  {
   "cell_type": "code",
   "execution_count": 3,
   "metadata": {},
   "outputs": [
    {
     "data": {
      "text/html": [
       "<div>\n",
       "<style scoped>\n",
       "    .dataframe tbody tr th:only-of-type {\n",
       "        vertical-align: middle;\n",
       "    }\n",
       "\n",
       "    .dataframe tbody tr th {\n",
       "        vertical-align: top;\n",
       "    }\n",
       "\n",
       "    .dataframe thead th {\n",
       "        text-align: right;\n",
       "    }\n",
       "</style>\n",
       "<table border=\"1\" class=\"dataframe\">\n",
       "  <thead>\n",
       "    <tr style=\"text-align: right;\">\n",
       "      <th></th>\n",
       "      <th>What is your Age?</th>\n",
       "      <th>Gender</th>\n",
       "      <th>Have you heard about MUET FM 92.6? If yes then from which platform.</th>\n",
       "      <th>What do you listen on MUET FM 92.6?</th>\n",
       "      <th>What do you want to listen on MUET FM 92.6?</th>\n",
       "      <th>At What time do you listen MUET FM 92.6?</th>\n",
       "      <th>How many hours do you listen FM?</th>\n",
       "      <th>On what social media platform you are / wish to follow us?</th>\n",
       "      <th>Are you interested to offer your services to MUET Campus Radio? If yes in what capacity?</th>\n",
       "      <th>Are you interested in the prize winning Competitions conducted by MUET FM 92.6?</th>\n",
       "    </tr>\n",
       "  </thead>\n",
       "  <tbody>\n",
       "    <tr>\n",
       "      <th>0</th>\n",
       "      <td>21</td>\n",
       "      <td>Female</td>\n",
       "      <td>Other</td>\n",
       "      <td>None</td>\n",
       "      <td>Motivational Talks;Technology Information</td>\n",
       "      <td>Evening</td>\n",
       "      <td>1 hour</td>\n",
       "      <td>Twitter</td>\n",
       "      <td>Content Writer;Outdoor Coverage</td>\n",
       "      <td>Yes</td>\n",
       "    </tr>\n",
       "    <tr>\n",
       "      <th>1</th>\n",
       "      <td>21</td>\n",
       "      <td>Male</td>\n",
       "      <td>WhatsApp;Facebook;Other</td>\n",
       "      <td>Podcast;Motivational Talks;Campus News;Interviews</td>\n",
       "      <td>Interviews of Speakers;Motivational Talks;Tech...</td>\n",
       "      <td>Night</td>\n",
       "      <td>1 hour</td>\n",
       "      <td>Facebook;Instagram</td>\n",
       "      <td>Social Media Manager;Outdoor Coverage;Other</td>\n",
       "      <td>Yes</td>\n",
       "    </tr>\n",
       "    <tr>\n",
       "      <th>2</th>\n",
       "      <td>26</td>\n",
       "      <td>Female</td>\n",
       "      <td>Facebook</td>\n",
       "      <td>Podcast</td>\n",
       "      <td>Motivational Talks;Technology Information;Succ...</td>\n",
       "      <td>Night</td>\n",
       "      <td>1 hour</td>\n",
       "      <td>Facebook</td>\n",
       "      <td>Other</td>\n",
       "      <td>Yes</td>\n",
       "    </tr>\n",
       "    <tr>\n",
       "      <th>3</th>\n",
       "      <td>20</td>\n",
       "      <td>Male</td>\n",
       "      <td>WhatsApp;Facebook</td>\n",
       "      <td>Campus News</td>\n",
       "      <td>Podcasts;Interviews of Speakers;Motivational T...</td>\n",
       "      <td>Evening</td>\n",
       "      <td>0 hours</td>\n",
       "      <td>Facebook;YouTube;LinkedIn</td>\n",
       "      <td>Social Media Manager</td>\n",
       "      <td>Yes</td>\n",
       "    </tr>\n",
       "    <tr>\n",
       "      <th>4</th>\n",
       "      <td>21</td>\n",
       "      <td>Male</td>\n",
       "      <td>WhatsApp;Facebook;Other</td>\n",
       "      <td>None</td>\n",
       "      <td>Podcasts;Interviews of Teachers/Professors;Int...</td>\n",
       "      <td>Night</td>\n",
       "      <td>0 hours</td>\n",
       "      <td>Facebook;YouTube;LinkedIn</td>\n",
       "      <td>RJ / Presenter;Other</td>\n",
       "      <td>Yes</td>\n",
       "    </tr>\n",
       "    <tr>\n",
       "      <th>...</th>\n",
       "      <td>...</td>\n",
       "      <td>...</td>\n",
       "      <td>...</td>\n",
       "      <td>...</td>\n",
       "      <td>...</td>\n",
       "      <td>...</td>\n",
       "      <td>...</td>\n",
       "      <td>...</td>\n",
       "      <td>...</td>\n",
       "      <td>...</td>\n",
       "    </tr>\n",
       "    <tr>\n",
       "      <th>323</th>\n",
       "      <td>22</td>\n",
       "      <td>Male</td>\n",
       "      <td>WhatsApp</td>\n",
       "      <td>Jumma Special;Interviews</td>\n",
       "      <td>Interviews of Speakers;Tilawat Quran Majeed</td>\n",
       "      <td>Morning;Night</td>\n",
       "      <td>2 hours</td>\n",
       "      <td>Facebook;Twitter;YouTube</td>\n",
       "      <td>RJ / Presenter;Audio Engineer</td>\n",
       "      <td>Yes</td>\n",
       "    </tr>\n",
       "    <tr>\n",
       "      <th>324</th>\n",
       "      <td>21</td>\n",
       "      <td>Male</td>\n",
       "      <td>Facebook</td>\n",
       "      <td>None</td>\n",
       "      <td>Motivational Talks</td>\n",
       "      <td>Night</td>\n",
       "      <td>0 hours</td>\n",
       "      <td>Facebook</td>\n",
       "      <td>Social Media Manager</td>\n",
       "      <td>Yes</td>\n",
       "    </tr>\n",
       "    <tr>\n",
       "      <th>325</th>\n",
       "      <td>20</td>\n",
       "      <td>Male</td>\n",
       "      <td>WhatsApp</td>\n",
       "      <td>None</td>\n",
       "      <td>Technology Information</td>\n",
       "      <td>Night</td>\n",
       "      <td>0 hours</td>\n",
       "      <td>Facebook</td>\n",
       "      <td>None</td>\n",
       "      <td>No</td>\n",
       "    </tr>\n",
       "    <tr>\n",
       "      <th>326</th>\n",
       "      <td>21</td>\n",
       "      <td>Female</td>\n",
       "      <td>WhatsApp</td>\n",
       "      <td>None</td>\n",
       "      <td>Success Stories</td>\n",
       "      <td>Night</td>\n",
       "      <td>1 hour</td>\n",
       "      <td>YouTube</td>\n",
       "      <td>Content Writer</td>\n",
       "      <td>Yes</td>\n",
       "    </tr>\n",
       "    <tr>\n",
       "      <th>327</th>\n",
       "      <td>21</td>\n",
       "      <td>Female</td>\n",
       "      <td>WhatsApp;Facebook</td>\n",
       "      <td>Podcast;Campus News</td>\n",
       "      <td>Podcasts;Interviews of Teachers/Professors;Int...</td>\n",
       "      <td>Evening</td>\n",
       "      <td>1 hour</td>\n",
       "      <td>Facebook</td>\n",
       "      <td>RJ / Presenter</td>\n",
       "      <td>Yes</td>\n",
       "    </tr>\n",
       "  </tbody>\n",
       "</table>\n",
       "<p>328 rows × 10 columns</p>\n",
       "</div>"
      ],
      "text/plain": [
       "     What is your Age?  Gender  \\\n",
       "0                   21  Female   \n",
       "1                   21    Male   \n",
       "2                   26  Female   \n",
       "3                   20    Male   \n",
       "4                   21    Male   \n",
       "..                 ...     ...   \n",
       "323                 22    Male   \n",
       "324                 21    Male   \n",
       "325                 20    Male   \n",
       "326                 21  Female   \n",
       "327                 21  Female   \n",
       "\n",
       "    Have you heard about MUET FM 92.6? If yes then from which platform.  \\\n",
       "0                                                Other                    \n",
       "1                              WhatsApp;Facebook;Other                    \n",
       "2                                             Facebook                    \n",
       "3                                    WhatsApp;Facebook                    \n",
       "4                              WhatsApp;Facebook;Other                    \n",
       "..                                                 ...                    \n",
       "323                                           WhatsApp                    \n",
       "324                                           Facebook                    \n",
       "325                                           WhatsApp                    \n",
       "326                                           WhatsApp                    \n",
       "327                                  WhatsApp;Facebook                    \n",
       "\n",
       "                   What do you listen on MUET FM 92.6?  \\\n",
       "0                                                 None   \n",
       "1    Podcast;Motivational Talks;Campus News;Interviews   \n",
       "2                                              Podcast   \n",
       "3                                          Campus News   \n",
       "4                                                 None   \n",
       "..                                                 ...   \n",
       "323                           Jumma Special;Interviews   \n",
       "324                                               None   \n",
       "325                                               None   \n",
       "326                                               None   \n",
       "327                                Podcast;Campus News   \n",
       "\n",
       "           What do you want to listen on MUET FM 92.6?  \\\n",
       "0            Motivational Talks;Technology Information   \n",
       "1    Interviews of Speakers;Motivational Talks;Tech...   \n",
       "2    Motivational Talks;Technology Information;Succ...   \n",
       "3    Podcasts;Interviews of Speakers;Motivational T...   \n",
       "4    Podcasts;Interviews of Teachers/Professors;Int...   \n",
       "..                                                 ...   \n",
       "323        Interviews of Speakers;Tilawat Quran Majeed   \n",
       "324                                 Motivational Talks   \n",
       "325                             Technology Information   \n",
       "326                                    Success Stories   \n",
       "327  Podcasts;Interviews of Teachers/Professors;Int...   \n",
       "\n",
       "    At What time do you listen MUET FM 92.6? How many hours do you listen FM?  \\\n",
       "0                                    Evening                           1 hour   \n",
       "1                                      Night                           1 hour   \n",
       "2                                      Night                           1 hour   \n",
       "3                                    Evening                          0 hours   \n",
       "4                                      Night                          0 hours   \n",
       "..                                       ...                              ...   \n",
       "323                            Morning;Night                          2 hours   \n",
       "324                                    Night                          0 hours   \n",
       "325                                    Night                          0 hours   \n",
       "326                                    Night                           1 hour   \n",
       "327                                  Evening                           1 hour   \n",
       "\n",
       "    On what social media platform you are / wish to follow us?  \\\n",
       "0                                              Twitter           \n",
       "1                                   Facebook;Instagram           \n",
       "2                                             Facebook           \n",
       "3                            Facebook;YouTube;LinkedIn           \n",
       "4                            Facebook;YouTube;LinkedIn           \n",
       "..                                                 ...           \n",
       "323                           Facebook;Twitter;YouTube           \n",
       "324                                           Facebook           \n",
       "325                                           Facebook           \n",
       "326                                            YouTube           \n",
       "327                                           Facebook           \n",
       "\n",
       "    Are you interested to offer your services to MUET Campus Radio? If yes in what capacity?  \\\n",
       "0                      Content Writer;Outdoor Coverage                                         \n",
       "1          Social Media Manager;Outdoor Coverage;Other                                         \n",
       "2                                                Other                                         \n",
       "3                                 Social Media Manager                                         \n",
       "4                                 RJ / Presenter;Other                                         \n",
       "..                                                 ...                                         \n",
       "323                      RJ / Presenter;Audio Engineer                                         \n",
       "324                               Social Media Manager                                         \n",
       "325                                               None                                         \n",
       "326                                     Content Writer                                         \n",
       "327                                     RJ / Presenter                                         \n",
       "\n",
       "    Are you interested in the prize winning Competitions conducted by MUET FM 92.6?  \n",
       "0                                                  Yes                               \n",
       "1                                                  Yes                               \n",
       "2                                                  Yes                               \n",
       "3                                                  Yes                               \n",
       "4                                                  Yes                               \n",
       "..                                                 ...                               \n",
       "323                                                Yes                               \n",
       "324                                                Yes                               \n",
       "325                                                 No                               \n",
       "326                                                Yes                               \n",
       "327                                                Yes                               \n",
       "\n",
       "[328 rows x 10 columns]"
      ]
     },
     "execution_count": 3,
     "metadata": {},
     "output_type": "execute_result"
    }
   ],
   "source": [
    "df = df.drop('Timestamp', axis=1)\n",
    "df = df.drop('Username', axis=1)\n",
    "df = df.drop('Any Suggestions for MUET FM 92.6?', axis=1)\n",
    "df"
   ]
  },
  {
   "cell_type": "code",
   "execution_count": 4,
   "metadata": {},
   "outputs": [],
   "source": [
    "df = df.rename(columns={' What is your Age?':'Age'})\n",
    "df = df.rename(columns={'Have you heard about MUET FM 92.6? If yes then from which platform.':'Heard_from_plateform'})\n",
    "df = df.rename(columns={'What do you listen on MUET FM 92.6?':'Listening'})\n",
    "df = df.rename(columns={'What do you want to listen on MUET FM 92.6?':'Listening_wish'})\n",
    "df = df.rename(columns={'At What time do you listen MUET FM 92.6?':'Listening_time'})\n",
    "df = df.rename(columns={'How many hours do you listen FM?':'Duration'})\n",
    "df = df.rename(columns={'On what social media platform you are / wish to follow us?':'Plateform_from_you_wantToFollow'})\n",
    "df = df.rename(columns={'Are you interested to offer your services to MUET Campus Radio? If yes in what capacity?':'Your_Service'})\n",
    "df = df.rename(columns={'Are you interested in the prize winning Competitions conducted by MUET FM 92.6?':'Competitions?'})"
   ]
  },
  {
   "cell_type": "code",
   "execution_count": 11,
   "metadata": {},
   "outputs": [
    {
     "data": {
      "text/html": [
       "<div>\n",
       "<style scoped>\n",
       "    .dataframe tbody tr th:only-of-type {\n",
       "        vertical-align: middle;\n",
       "    }\n",
       "\n",
       "    .dataframe tbody tr th {\n",
       "        vertical-align: top;\n",
       "    }\n",
       "\n",
       "    .dataframe thead th {\n",
       "        text-align: right;\n",
       "    }\n",
       "</style>\n",
       "<table border=\"1\" class=\"dataframe\">\n",
       "  <thead>\n",
       "    <tr style=\"text-align: right;\">\n",
       "      <th></th>\n",
       "      <th>Age</th>\n",
       "      <th>Gender</th>\n",
       "      <th>Heard_from_plateform</th>\n",
       "      <th>Listening</th>\n",
       "      <th>Listening_wish</th>\n",
       "      <th>Listening_time</th>\n",
       "      <th>Duration</th>\n",
       "      <th>Plateform_from_you_wantToFollow</th>\n",
       "      <th>Your_Service</th>\n",
       "      <th>Competitions?</th>\n",
       "    </tr>\n",
       "  </thead>\n",
       "  <tbody>\n",
       "    <tr>\n",
       "      <th>0</th>\n",
       "      <td>21</td>\n",
       "      <td>Female</td>\n",
       "      <td>Other</td>\n",
       "      <td>None</td>\n",
       "      <td>Motivational Talks;Technology Information</td>\n",
       "      <td>Evening</td>\n",
       "      <td>1</td>\n",
       "      <td>Twitter</td>\n",
       "      <td>Content Writer;Outdoor Coverage</td>\n",
       "      <td>Yes</td>\n",
       "    </tr>\n",
       "    <tr>\n",
       "      <th>1</th>\n",
       "      <td>21</td>\n",
       "      <td>Male</td>\n",
       "      <td>WhatsApp;Facebook;Other</td>\n",
       "      <td>Podcast;Motivational Talks;Campus News;Interviews</td>\n",
       "      <td>Interviews of Speakers;Motivational Talks;Tech...</td>\n",
       "      <td>Night</td>\n",
       "      <td>1</td>\n",
       "      <td>Facebook;Instagram</td>\n",
       "      <td>Social Media Manager;Outdoor Coverage;Other</td>\n",
       "      <td>Yes</td>\n",
       "    </tr>\n",
       "    <tr>\n",
       "      <th>2</th>\n",
       "      <td>26</td>\n",
       "      <td>Female</td>\n",
       "      <td>Facebook</td>\n",
       "      <td>Podcast</td>\n",
       "      <td>Motivational Talks;Technology Information;Succ...</td>\n",
       "      <td>Night</td>\n",
       "      <td>1</td>\n",
       "      <td>Facebook</td>\n",
       "      <td>Other</td>\n",
       "      <td>Yes</td>\n",
       "    </tr>\n",
       "    <tr>\n",
       "      <th>3</th>\n",
       "      <td>20</td>\n",
       "      <td>Male</td>\n",
       "      <td>WhatsApp;Facebook</td>\n",
       "      <td>Campus News</td>\n",
       "      <td>Podcasts;Interviews of Speakers;Motivational T...</td>\n",
       "      <td>Evening</td>\n",
       "      <td>0</td>\n",
       "      <td>Facebook;YouTube;LinkedIn</td>\n",
       "      <td>Social Media Manager</td>\n",
       "      <td>Yes</td>\n",
       "    </tr>\n",
       "    <tr>\n",
       "      <th>4</th>\n",
       "      <td>21</td>\n",
       "      <td>Male</td>\n",
       "      <td>WhatsApp;Facebook;Other</td>\n",
       "      <td>None</td>\n",
       "      <td>Podcasts;Interviews of Teachers/Professors;Int...</td>\n",
       "      <td>Night</td>\n",
       "      <td>0</td>\n",
       "      <td>Facebook;YouTube;LinkedIn</td>\n",
       "      <td>RJ / Presenter;Other</td>\n",
       "      <td>Yes</td>\n",
       "    </tr>\n",
       "    <tr>\n",
       "      <th>...</th>\n",
       "      <td>...</td>\n",
       "      <td>...</td>\n",
       "      <td>...</td>\n",
       "      <td>...</td>\n",
       "      <td>...</td>\n",
       "      <td>...</td>\n",
       "      <td>...</td>\n",
       "      <td>...</td>\n",
       "      <td>...</td>\n",
       "      <td>...</td>\n",
       "    </tr>\n",
       "    <tr>\n",
       "      <th>323</th>\n",
       "      <td>22</td>\n",
       "      <td>Male</td>\n",
       "      <td>WhatsApp</td>\n",
       "      <td>Jumma Special;Interviews</td>\n",
       "      <td>Interviews of Speakers;Tilawat Quran Majeed</td>\n",
       "      <td>Morning;Night</td>\n",
       "      <td>2</td>\n",
       "      <td>Facebook;Twitter;YouTube</td>\n",
       "      <td>RJ / Presenter;Audio Engineer</td>\n",
       "      <td>Yes</td>\n",
       "    </tr>\n",
       "    <tr>\n",
       "      <th>324</th>\n",
       "      <td>21</td>\n",
       "      <td>Male</td>\n",
       "      <td>Facebook</td>\n",
       "      <td>None</td>\n",
       "      <td>Motivational Talks</td>\n",
       "      <td>Night</td>\n",
       "      <td>0</td>\n",
       "      <td>Facebook</td>\n",
       "      <td>Social Media Manager</td>\n",
       "      <td>Yes</td>\n",
       "    </tr>\n",
       "    <tr>\n",
       "      <th>325</th>\n",
       "      <td>20</td>\n",
       "      <td>Male</td>\n",
       "      <td>WhatsApp</td>\n",
       "      <td>None</td>\n",
       "      <td>Technology Information</td>\n",
       "      <td>Night</td>\n",
       "      <td>0</td>\n",
       "      <td>Facebook</td>\n",
       "      <td>None</td>\n",
       "      <td>No</td>\n",
       "    </tr>\n",
       "    <tr>\n",
       "      <th>326</th>\n",
       "      <td>21</td>\n",
       "      <td>Female</td>\n",
       "      <td>WhatsApp</td>\n",
       "      <td>None</td>\n",
       "      <td>Success Stories</td>\n",
       "      <td>Night</td>\n",
       "      <td>1</td>\n",
       "      <td>YouTube</td>\n",
       "      <td>Content Writer</td>\n",
       "      <td>Yes</td>\n",
       "    </tr>\n",
       "    <tr>\n",
       "      <th>327</th>\n",
       "      <td>21</td>\n",
       "      <td>Female</td>\n",
       "      <td>WhatsApp;Facebook</td>\n",
       "      <td>Podcast;Campus News</td>\n",
       "      <td>Podcasts;Interviews of Teachers/Professors;Int...</td>\n",
       "      <td>Evening</td>\n",
       "      <td>1</td>\n",
       "      <td>Facebook</td>\n",
       "      <td>RJ / Presenter</td>\n",
       "      <td>Yes</td>\n",
       "    </tr>\n",
       "  </tbody>\n",
       "</table>\n",
       "<p>328 rows × 10 columns</p>\n",
       "</div>"
      ],
      "text/plain": [
       "    Age  Gender     Heard_from_plateform  \\\n",
       "0    21  Female                    Other   \n",
       "1    21    Male  WhatsApp;Facebook;Other   \n",
       "2    26  Female                 Facebook   \n",
       "3    20    Male        WhatsApp;Facebook   \n",
       "4    21    Male  WhatsApp;Facebook;Other   \n",
       "..   ..     ...                      ...   \n",
       "323  22    Male                 WhatsApp   \n",
       "324  21    Male                 Facebook   \n",
       "325  20    Male                 WhatsApp   \n",
       "326  21  Female                 WhatsApp   \n",
       "327  21  Female        WhatsApp;Facebook   \n",
       "\n",
       "                                             Listening  \\\n",
       "0                                                 None   \n",
       "1    Podcast;Motivational Talks;Campus News;Interviews   \n",
       "2                                              Podcast   \n",
       "3                                          Campus News   \n",
       "4                                                 None   \n",
       "..                                                 ...   \n",
       "323                           Jumma Special;Interviews   \n",
       "324                                               None   \n",
       "325                                               None   \n",
       "326                                               None   \n",
       "327                                Podcast;Campus News   \n",
       "\n",
       "                                        Listening_wish Listening_time  \\\n",
       "0            Motivational Talks;Technology Information        Evening   \n",
       "1    Interviews of Speakers;Motivational Talks;Tech...          Night   \n",
       "2    Motivational Talks;Technology Information;Succ...          Night   \n",
       "3    Podcasts;Interviews of Speakers;Motivational T...        Evening   \n",
       "4    Podcasts;Interviews of Teachers/Professors;Int...          Night   \n",
       "..                                                 ...            ...   \n",
       "323        Interviews of Speakers;Tilawat Quran Majeed  Morning;Night   \n",
       "324                                 Motivational Talks          Night   \n",
       "325                             Technology Information          Night   \n",
       "326                                    Success Stories          Night   \n",
       "327  Podcasts;Interviews of Teachers/Professors;Int...        Evening   \n",
       "\n",
       "    Duration Plateform_from_you_wantToFollow  \\\n",
       "0         1                          Twitter   \n",
       "1         1               Facebook;Instagram   \n",
       "2         1                         Facebook   \n",
       "3         0        Facebook;YouTube;LinkedIn   \n",
       "4         0        Facebook;YouTube;LinkedIn   \n",
       "..       ...                             ...   \n",
       "323       2         Facebook;Twitter;YouTube   \n",
       "324       0                         Facebook   \n",
       "325       0                         Facebook   \n",
       "326       1                          YouTube   \n",
       "327       1                         Facebook   \n",
       "\n",
       "                                    Your_Service Competitions?  \n",
       "0                Content Writer;Outdoor Coverage           Yes  \n",
       "1    Social Media Manager;Outdoor Coverage;Other           Yes  \n",
       "2                                          Other           Yes  \n",
       "3                           Social Media Manager           Yes  \n",
       "4                           RJ / Presenter;Other           Yes  \n",
       "..                                           ...           ...  \n",
       "323                RJ / Presenter;Audio Engineer           Yes  \n",
       "324                         Social Media Manager           Yes  \n",
       "325                                         None            No  \n",
       "326                               Content Writer           Yes  \n",
       "327                               RJ / Presenter           Yes  \n",
       "\n",
       "[328 rows x 10 columns]"
      ]
     },
     "execution_count": 11,
     "metadata": {},
     "output_type": "execute_result"
    }
   ],
   "source": [
    "df"
   ]
  },
  {
   "cell_type": "code",
   "execution_count": 12,
   "metadata": {},
   "outputs": [
    {
     "data": {
      "text/plain": [
       "Index(['Age', 'Gender', 'Heard_from_plateform', 'Listening', 'Listening_wish',\n",
       "       'Listening_time', 'Duration', 'Plateform_from_you_wantToFollow',\n",
       "       'Your_Service', 'Competitions?'],\n",
       "      dtype='object')"
      ]
     },
     "execution_count": 12,
     "metadata": {},
     "output_type": "execute_result"
    }
   ],
   "source": [
    "df.columns"
   ]
  },
  {
   "cell_type": "code",
   "execution_count": 12,
   "metadata": {},
   "outputs": [
    {
     "name": "stdout",
     "output_type": "stream",
     "text": [
      "<class 'pandas.core.frame.DataFrame'>\n",
      "RangeIndex: 328 entries, 0 to 327\n",
      "Data columns (total 10 columns):\n",
      " #   Column                           Non-Null Count  Dtype \n",
      "---  ------                           --------------  ----- \n",
      " 0   Age                              328 non-null    object\n",
      " 1   Gender                           328 non-null    object\n",
      " 2   Heard_from_plateform             328 non-null    object\n",
      " 3   Listening                        328 non-null    object\n",
      " 4   Listening_wish                   328 non-null    object\n",
      " 5   Listening_time                   328 non-null    object\n",
      " 6   Duration                         328 non-null    object\n",
      " 7   Plateform_from_you_wantToFollow  328 non-null    object\n",
      " 8   Your_Service                     328 non-null    object\n",
      " 9   Competitions?                    328 non-null    object\n",
      "dtypes: object(10)\n",
      "memory usage: 25.8+ KB\n"
     ]
    }
   ],
   "source": [
    "df.info()"
   ]
  },
  {
   "cell_type": "code",
   "execution_count": 13,
   "metadata": {},
   "outputs": [
    {
     "data": {
      "text/plain": [
       "Age                                0\n",
       "Gender                             0\n",
       "Heard_from_plateform               0\n",
       "Listening                          0\n",
       "Listening_wish                     0\n",
       "Listening_time                     0\n",
       "Duration                           0\n",
       "Plateform_from_you_wantToFollow    0\n",
       "Your_Service                       0\n",
       "Competitions?                      0\n",
       "dtype: int64"
      ]
     },
     "execution_count": 13,
     "metadata": {},
     "output_type": "execute_result"
    }
   ],
   "source": [
    "df.isnull().sum()"
   ]
  },
  {
   "cell_type": "code",
   "execution_count": 14,
   "metadata": {},
   "outputs": [
    {
     "data": {
      "text/plain": [
       "(328, 10)"
      ]
     },
     "execution_count": 14,
     "metadata": {},
     "output_type": "execute_result"
    }
   ],
   "source": [
    "df.shape"
   ]
  },
  {
   "cell_type": "code",
   "execution_count": 15,
   "metadata": {},
   "outputs": [
    {
     "data": {
      "text/html": [
       "<div>\n",
       "<style scoped>\n",
       "    .dataframe tbody tr th:only-of-type {\n",
       "        vertical-align: middle;\n",
       "    }\n",
       "\n",
       "    .dataframe tbody tr th {\n",
       "        vertical-align: top;\n",
       "    }\n",
       "\n",
       "    .dataframe thead th {\n",
       "        text-align: right;\n",
       "    }\n",
       "</style>\n",
       "<table border=\"1\" class=\"dataframe\">\n",
       "  <thead>\n",
       "    <tr style=\"text-align: right;\">\n",
       "      <th></th>\n",
       "      <th>Age</th>\n",
       "      <th>Gender</th>\n",
       "      <th>Heard_from_plateform</th>\n",
       "      <th>Listening</th>\n",
       "      <th>Listening_wish</th>\n",
       "      <th>Listening_time</th>\n",
       "      <th>Duration</th>\n",
       "      <th>Plateform_from_you_wantToFollow</th>\n",
       "      <th>Your_Service</th>\n",
       "      <th>Competitions?</th>\n",
       "    </tr>\n",
       "  </thead>\n",
       "  <tbody>\n",
       "    <tr>\n",
       "      <th>count</th>\n",
       "      <td>328</td>\n",
       "      <td>328</td>\n",
       "      <td>328</td>\n",
       "      <td>328</td>\n",
       "      <td>328</td>\n",
       "      <td>328</td>\n",
       "      <td>328</td>\n",
       "      <td>328</td>\n",
       "      <td>328</td>\n",
       "      <td>328</td>\n",
       "    </tr>\n",
       "    <tr>\n",
       "      <th>unique</th>\n",
       "      <td>20</td>\n",
       "      <td>2</td>\n",
       "      <td>15</td>\n",
       "      <td>27</td>\n",
       "      <td>96</td>\n",
       "      <td>12</td>\n",
       "      <td>5</td>\n",
       "      <td>38</td>\n",
       "      <td>54</td>\n",
       "      <td>2</td>\n",
       "    </tr>\n",
       "    <tr>\n",
       "      <th>top</th>\n",
       "      <td>21</td>\n",
       "      <td>Female</td>\n",
       "      <td>WhatsApp</td>\n",
       "      <td>None</td>\n",
       "      <td>Technology Information</td>\n",
       "      <td>Evening</td>\n",
       "      <td>1 hour</td>\n",
       "      <td>Facebook</td>\n",
       "      <td>None</td>\n",
       "      <td>Yes</td>\n",
       "    </tr>\n",
       "    <tr>\n",
       "      <th>freq</th>\n",
       "      <td>115</td>\n",
       "      <td>167</td>\n",
       "      <td>101</td>\n",
       "      <td>130</td>\n",
       "      <td>38</td>\n",
       "      <td>84</td>\n",
       "      <td>184</td>\n",
       "      <td>109</td>\n",
       "      <td>76</td>\n",
       "      <td>267</td>\n",
       "    </tr>\n",
       "  </tbody>\n",
       "</table>\n",
       "</div>"
      ],
      "text/plain": [
       "        Age  Gender Heard_from_plateform Listening          Listening_wish  \\\n",
       "count   328     328                  328       328                     328   \n",
       "unique   20       2                   15        27                      96   \n",
       "top      21  Female             WhatsApp      None  Technology Information   \n",
       "freq    115     167                  101       130                      38   \n",
       "\n",
       "       Listening_time Duration Plateform_from_you_wantToFollow Your_Service  \\\n",
       "count             328      328                             328          328   \n",
       "unique             12        5                              38           54   \n",
       "top           Evening   1 hour                        Facebook         None   \n",
       "freq               84      184                             109           76   \n",
       "\n",
       "       Competitions?  \n",
       "count            328  \n",
       "unique             2  \n",
       "top              Yes  \n",
       "freq             267  "
      ]
     },
     "execution_count": 15,
     "metadata": {},
     "output_type": "execute_result"
    }
   ],
   "source": [
    "df.describe()"
   ]
  },
  {
   "cell_type": "code",
   "execution_count": 16,
   "metadata": {},
   "outputs": [
    {
     "data": {
      "text/plain": [
       "3280"
      ]
     },
     "execution_count": 16,
     "metadata": {},
     "output_type": "execute_result"
    }
   ],
   "source": [
    "df.size"
   ]
  },
  {
   "cell_type": "code",
   "execution_count": 17,
   "metadata": {},
   "outputs": [
    {
     "data": {
      "text/plain": [
       "Age                                328\n",
       "Gender                             328\n",
       "Heard_from_plateform               328\n",
       "Listening                          328\n",
       "Listening_wish                     328\n",
       "Listening_time                     328\n",
       "Duration                           328\n",
       "Plateform_from_you_wantToFollow    328\n",
       "Your_Service                       328\n",
       "Competitions?                      328\n",
       "dtype: int64"
      ]
     },
     "execution_count": 17,
     "metadata": {},
     "output_type": "execute_result"
    }
   ],
   "source": [
    "df.count()"
   ]
  },
  {
   "cell_type": "code",
   "execution_count": 18,
   "metadata": {},
   "outputs": [
    {
     "data": {
      "text/plain": [
       "Age                                20\n",
       "Gender                              2\n",
       "Heard_from_plateform               15\n",
       "Listening                          27\n",
       "Listening_wish                     96\n",
       "Listening_time                     12\n",
       "Duration                            5\n",
       "Plateform_from_you_wantToFollow    38\n",
       "Your_Service                       54\n",
       "Competitions?                       2\n",
       "dtype: int64"
      ]
     },
     "execution_count": 18,
     "metadata": {},
     "output_type": "execute_result"
    }
   ],
   "source": [
    "df.nunique()"
   ]
  },
  {
   "cell_type": "code",
   "execution_count": 5,
   "metadata": {},
   "outputs": [
    {
     "data": {
      "text/html": [
       "<div>\n",
       "<style scoped>\n",
       "    .dataframe tbody tr th:only-of-type {\n",
       "        vertical-align: middle;\n",
       "    }\n",
       "\n",
       "    .dataframe tbody tr th {\n",
       "        vertical-align: top;\n",
       "    }\n",
       "\n",
       "    .dataframe thead th {\n",
       "        text-align: right;\n",
       "    }\n",
       "</style>\n",
       "<table border=\"1\" class=\"dataframe\">\n",
       "  <thead>\n",
       "    <tr style=\"text-align: right;\">\n",
       "      <th></th>\n",
       "      <th>Age</th>\n",
       "      <th>Gender</th>\n",
       "      <th>Heard_from_plateform</th>\n",
       "      <th>Listening</th>\n",
       "      <th>Listening_wish</th>\n",
       "      <th>Listening_time</th>\n",
       "      <th>Duration</th>\n",
       "      <th>Plateform_from_you_wantToFollow</th>\n",
       "      <th>Your_Service</th>\n",
       "      <th>Competitions?</th>\n",
       "    </tr>\n",
       "  </thead>\n",
       "  <tbody>\n",
       "    <tr>\n",
       "      <th>0</th>\n",
       "      <td>21</td>\n",
       "      <td>Female</td>\n",
       "      <td>Other</td>\n",
       "      <td>None</td>\n",
       "      <td>Motivational Talks;Technology Information</td>\n",
       "      <td>Evening</td>\n",
       "      <td>1</td>\n",
       "      <td>Twitter</td>\n",
       "      <td>Content Writer;Outdoor Coverage</td>\n",
       "      <td>Yes</td>\n",
       "    </tr>\n",
       "    <tr>\n",
       "      <th>1</th>\n",
       "      <td>21</td>\n",
       "      <td>Male</td>\n",
       "      <td>WhatsApp;Facebook;Other</td>\n",
       "      <td>Podcast;Motivational Talks;Campus News;Interviews</td>\n",
       "      <td>Interviews of Speakers;Motivational Talks;Tech...</td>\n",
       "      <td>Night</td>\n",
       "      <td>1</td>\n",
       "      <td>Facebook;Instagram</td>\n",
       "      <td>Social Media Manager;Outdoor Coverage;Other</td>\n",
       "      <td>Yes</td>\n",
       "    </tr>\n",
       "    <tr>\n",
       "      <th>2</th>\n",
       "      <td>26</td>\n",
       "      <td>Female</td>\n",
       "      <td>Facebook</td>\n",
       "      <td>Podcast</td>\n",
       "      <td>Motivational Talks;Technology Information;Succ...</td>\n",
       "      <td>Night</td>\n",
       "      <td>1</td>\n",
       "      <td>Facebook</td>\n",
       "      <td>Other</td>\n",
       "      <td>Yes</td>\n",
       "    </tr>\n",
       "    <tr>\n",
       "      <th>3</th>\n",
       "      <td>20</td>\n",
       "      <td>Male</td>\n",
       "      <td>WhatsApp;Facebook</td>\n",
       "      <td>Campus News</td>\n",
       "      <td>Podcasts;Interviews of Speakers;Motivational T...</td>\n",
       "      <td>Evening</td>\n",
       "      <td>0</td>\n",
       "      <td>Facebook;YouTube;LinkedIn</td>\n",
       "      <td>Social Media Manager</td>\n",
       "      <td>Yes</td>\n",
       "    </tr>\n",
       "    <tr>\n",
       "      <th>4</th>\n",
       "      <td>21</td>\n",
       "      <td>Male</td>\n",
       "      <td>WhatsApp;Facebook;Other</td>\n",
       "      <td>None</td>\n",
       "      <td>Podcasts;Interviews of Teachers/Professors;Int...</td>\n",
       "      <td>Night</td>\n",
       "      <td>0</td>\n",
       "      <td>Facebook;YouTube;LinkedIn</td>\n",
       "      <td>RJ / Presenter;Other</td>\n",
       "      <td>Yes</td>\n",
       "    </tr>\n",
       "    <tr>\n",
       "      <th>...</th>\n",
       "      <td>...</td>\n",
       "      <td>...</td>\n",
       "      <td>...</td>\n",
       "      <td>...</td>\n",
       "      <td>...</td>\n",
       "      <td>...</td>\n",
       "      <td>...</td>\n",
       "      <td>...</td>\n",
       "      <td>...</td>\n",
       "      <td>...</td>\n",
       "    </tr>\n",
       "    <tr>\n",
       "      <th>323</th>\n",
       "      <td>22</td>\n",
       "      <td>Male</td>\n",
       "      <td>WhatsApp</td>\n",
       "      <td>Jumma Special;Interviews</td>\n",
       "      <td>Interviews of Speakers;Tilawat Quran Majeed</td>\n",
       "      <td>Morning;Night</td>\n",
       "      <td>2</td>\n",
       "      <td>Facebook;Twitter;YouTube</td>\n",
       "      <td>RJ / Presenter;Audio Engineer</td>\n",
       "      <td>Yes</td>\n",
       "    </tr>\n",
       "    <tr>\n",
       "      <th>324</th>\n",
       "      <td>21</td>\n",
       "      <td>Male</td>\n",
       "      <td>Facebook</td>\n",
       "      <td>None</td>\n",
       "      <td>Motivational Talks</td>\n",
       "      <td>Night</td>\n",
       "      <td>0</td>\n",
       "      <td>Facebook</td>\n",
       "      <td>Social Media Manager</td>\n",
       "      <td>Yes</td>\n",
       "    </tr>\n",
       "    <tr>\n",
       "      <th>325</th>\n",
       "      <td>20</td>\n",
       "      <td>Male</td>\n",
       "      <td>WhatsApp</td>\n",
       "      <td>None</td>\n",
       "      <td>Technology Information</td>\n",
       "      <td>Night</td>\n",
       "      <td>0</td>\n",
       "      <td>Facebook</td>\n",
       "      <td>None</td>\n",
       "      <td>No</td>\n",
       "    </tr>\n",
       "    <tr>\n",
       "      <th>326</th>\n",
       "      <td>21</td>\n",
       "      <td>Female</td>\n",
       "      <td>WhatsApp</td>\n",
       "      <td>None</td>\n",
       "      <td>Success Stories</td>\n",
       "      <td>Night</td>\n",
       "      <td>1</td>\n",
       "      <td>YouTube</td>\n",
       "      <td>Content Writer</td>\n",
       "      <td>Yes</td>\n",
       "    </tr>\n",
       "    <tr>\n",
       "      <th>327</th>\n",
       "      <td>21</td>\n",
       "      <td>Female</td>\n",
       "      <td>WhatsApp;Facebook</td>\n",
       "      <td>Podcast;Campus News</td>\n",
       "      <td>Podcasts;Interviews of Teachers/Professors;Int...</td>\n",
       "      <td>Evening</td>\n",
       "      <td>1</td>\n",
       "      <td>Facebook</td>\n",
       "      <td>RJ / Presenter</td>\n",
       "      <td>Yes</td>\n",
       "    </tr>\n",
       "  </tbody>\n",
       "</table>\n",
       "<p>328 rows × 10 columns</p>\n",
       "</div>"
      ],
      "text/plain": [
       "    Age  Gender     Heard_from_plateform  \\\n",
       "0    21  Female                    Other   \n",
       "1    21    Male  WhatsApp;Facebook;Other   \n",
       "2    26  Female                 Facebook   \n",
       "3    20    Male        WhatsApp;Facebook   \n",
       "4    21    Male  WhatsApp;Facebook;Other   \n",
       "..   ..     ...                      ...   \n",
       "323  22    Male                 WhatsApp   \n",
       "324  21    Male                 Facebook   \n",
       "325  20    Male                 WhatsApp   \n",
       "326  21  Female                 WhatsApp   \n",
       "327  21  Female        WhatsApp;Facebook   \n",
       "\n",
       "                                             Listening  \\\n",
       "0                                                 None   \n",
       "1    Podcast;Motivational Talks;Campus News;Interviews   \n",
       "2                                              Podcast   \n",
       "3                                          Campus News   \n",
       "4                                                 None   \n",
       "..                                                 ...   \n",
       "323                           Jumma Special;Interviews   \n",
       "324                                               None   \n",
       "325                                               None   \n",
       "326                                               None   \n",
       "327                                Podcast;Campus News   \n",
       "\n",
       "                                        Listening_wish Listening_time  \\\n",
       "0            Motivational Talks;Technology Information        Evening   \n",
       "1    Interviews of Speakers;Motivational Talks;Tech...          Night   \n",
       "2    Motivational Talks;Technology Information;Succ...          Night   \n",
       "3    Podcasts;Interviews of Speakers;Motivational T...        Evening   \n",
       "4    Podcasts;Interviews of Teachers/Professors;Int...          Night   \n",
       "..                                                 ...            ...   \n",
       "323        Interviews of Speakers;Tilawat Quran Majeed  Morning;Night   \n",
       "324                                 Motivational Talks          Night   \n",
       "325                             Technology Information          Night   \n",
       "326                                    Success Stories          Night   \n",
       "327  Podcasts;Interviews of Teachers/Professors;Int...        Evening   \n",
       "\n",
       "    Duration Plateform_from_you_wantToFollow  \\\n",
       "0         1                          Twitter   \n",
       "1         1               Facebook;Instagram   \n",
       "2         1                         Facebook   \n",
       "3         0        Facebook;YouTube;LinkedIn   \n",
       "4         0        Facebook;YouTube;LinkedIn   \n",
       "..       ...                             ...   \n",
       "323       2         Facebook;Twitter;YouTube   \n",
       "324       0                         Facebook   \n",
       "325       0                         Facebook   \n",
       "326       1                          YouTube   \n",
       "327       1                         Facebook   \n",
       "\n",
       "                                    Your_Service Competitions?  \n",
       "0                Content Writer;Outdoor Coverage           Yes  \n",
       "1    Social Media Manager;Outdoor Coverage;Other           Yes  \n",
       "2                                          Other           Yes  \n",
       "3                           Social Media Manager           Yes  \n",
       "4                           RJ / Presenter;Other           Yes  \n",
       "..                                           ...           ...  \n",
       "323                RJ / Presenter;Audio Engineer           Yes  \n",
       "324                         Social Media Manager           Yes  \n",
       "325                                         None            No  \n",
       "326                               Content Writer           Yes  \n",
       "327                               RJ / Presenter           Yes  \n",
       "\n",
       "[328 rows x 10 columns]"
      ]
     },
     "execution_count": 5,
     "metadata": {},
     "output_type": "execute_result"
    }
   ],
   "source": [
    "df['Duration']= df['Duration'].str.replace('hours','')\n",
    "df['Duration']= df['Duration'].str.replace('hour','')\n",
    "df['Duration']= df['Duration'].str.replace('s','')\n",
    "df"
   ]
  },
  {
   "cell_type": "code",
   "execution_count": 20,
   "metadata": {},
   "outputs": [
    {
     "data": {
      "text/plain": [
       "Age                                20\n",
       "Gender                              2\n",
       "Heard_from_plateform               15\n",
       "Listening                          27\n",
       "Listening_wish                     96\n",
       "Listening_time                     12\n",
       "Duration                            5\n",
       "Plateform_from_you_wantToFollow    38\n",
       "Your_Service                       54\n",
       "Competitions?                       2\n",
       "dtype: int64"
      ]
     },
     "execution_count": 20,
     "metadata": {},
     "output_type": "execute_result"
    }
   ],
   "source": [
    "df.nunique()"
   ]
  },
  {
   "cell_type": "code",
   "execution_count": 6,
   "metadata": {},
   "outputs": [],
   "source": [
    "df.to_csv('Clean_data.csv')"
   ]
  },
  {
   "cell_type": "markdown",
   "metadata": {},
   "source": [
    "## **INSIGHTS**"
   ]
  },
  {
   "cell_type": "code",
   "execution_count": 82,
   "metadata": {},
   "outputs": [
    {
     "data": {
      "application/vnd.plotly.v1+json": {
       "config": {
        "plotlyServerURL": "https://plot.ly"
       },
       "data": [
        {
         "alignmentgroup": "True",
         "bingroup": "x",
         "histfunc": "sum",
         "hovertemplate": "Gender=Female<br>Heard_from_plateform=%{x}<br>sum of Duration=%{y}<extra></extra>",
         "legendgroup": "Female",
         "marker": {
          "color": "#636efa",
          "pattern": {
           "shape": ""
          }
         },
         "name": "Female",
         "offsetgroup": "Female",
         "orientation": "v",
         "showlegend": true,
         "type": "histogram",
         "x": [
          "Other",
          "Facebook",
          "Other",
          "WhatsApp",
          "WhatsApp;Facebook",
          "WhatsApp",
          "Other",
          "Facebook",
          "WhatsApp;Facebook;Other",
          "WhatsApp",
          "Other",
          "Other",
          "WhatsApp",
          "WhatsApp",
          "Other",
          "WhatsApp",
          "Not heard before",
          "WhatsApp",
          "Other;Not heard before",
          "WhatsApp;Other",
          "WhatsApp;Facebook",
          "Other",
          "WhatsApp;Facebook",
          "Facebook",
          "WhatsApp;Facebook",
          "Other",
          "WhatsApp;Other",
          "Other",
          "WhatsApp;Facebook;Other",
          "Facebook;Other",
          "WhatsApp",
          "Other",
          "WhatsApp;Other",
          "Other",
          "Not heard before",
          "WhatsApp",
          "Other",
          "WhatsApp;Facebook;Other",
          "WhatsApp",
          "Other",
          "Other",
          "Not heard before",
          "Facebook",
          "Other",
          "WhatsApp",
          "Facebook",
          "WhatsApp",
          "WhatsApp",
          "WhatsApp",
          "WhatsApp",
          "Other",
          "WhatsApp",
          "Not heard before",
          "Facebook",
          "Facebook",
          "Facebook",
          "Other",
          "Other",
          "WhatsApp;Facebook",
          "Not heard before",
          "WhatsApp",
          "WhatsApp",
          "WhatsApp",
          "WhatsApp",
          "WhatsApp",
          "WhatsApp",
          "WhatsApp",
          "Other",
          "Facebook;Other",
          "WhatsApp",
          "Not heard before",
          "Other",
          "WhatsApp",
          "WhatsApp;Facebook",
          "Facebook",
          "Facebook",
          "Not heard before",
          "Not heard before",
          "Facebook",
          "Facebook",
          "WhatsApp;Facebook;Other",
          "Facebook",
          "WhatsApp",
          "Not heard before",
          "Not heard before",
          "Facebook",
          "Facebook",
          "Facebook;Other",
          "Other",
          "WhatsApp",
          "WhatsApp;Facebook;Instagram",
          "Facebook",
          "Facebook",
          "Facebook;Not heard before",
          "Other",
          "WhatsApp",
          "Facebook",
          "WhatsApp",
          "WhatsApp",
          "Other",
          "WhatsApp;Facebook;Other",
          "Not heard before",
          "Not heard before",
          "WhatsApp",
          "Not heard before",
          "Facebook",
          "WhatsApp;Facebook",
          "Other",
          "WhatsApp",
          "Not heard before",
          "WhatsApp",
          "Facebook",
          "Facebook",
          "Facebook",
          "Not heard before",
          "Facebook",
          "Not heard before",
          "WhatsApp",
          "WhatsApp",
          "WhatsApp",
          "Instagram",
          "Other",
          "WhatsApp",
          "WhatsApp",
          "WhatsApp",
          "WhatsApp",
          "Facebook",
          "Facebook",
          "Not heard before",
          "Facebook",
          "Other",
          "WhatsApp;Facebook;Instagram",
          "Facebook;Instagram",
          "Facebook",
          "WhatsApp",
          "Not heard before",
          "Other",
          "Other",
          "Facebook",
          "Instagram",
          "WhatsApp",
          "Not heard before",
          "Facebook",
          "WhatsApp",
          "WhatsApp",
          "WhatsApp",
          "Facebook",
          "WhatsApp",
          "Not heard before",
          "WhatsApp;Facebook",
          "Other",
          "Other",
          "WhatsApp",
          "WhatsApp",
          "WhatsApp",
          "WhatsApp",
          "Facebook",
          "Not heard before",
          "Facebook",
          "Other",
          "Facebook",
          "WhatsApp;Not heard before",
          "Facebook",
          "WhatsApp;Facebook",
          "Other",
          "WhatsApp",
          "WhatsApp;Facebook"
         ],
         "xaxis": "x",
         "y": [
          "1 ",
          "1 ",
          "0 ",
          "2 ",
          "1 ",
          "0 ",
          "1 ",
          "0 ",
          "1 ",
          "1 ",
          "2 ",
          "1 ",
          "0 ",
          "1 ",
          "0 ",
          "1 ",
          "0 ",
          "1 ",
          "1 ",
          "1 ",
          "2 ",
          "1 ",
          "0 ",
          "2 ",
          "2 ",
          "2 ",
          "1 ",
          "2 ",
          "0 ",
          "1 ",
          "0 ",
          "0 ",
          "2 ",
          "0 ",
          "1 ",
          "1 ",
          "2 ",
          "1 ",
          "1 ",
          "1 ",
          "1 ",
          "0 ",
          "0 ",
          "0 ",
          "1 ",
          "0 ",
          "1 ",
          "1 ",
          "1 ",
          "1 ",
          "1 ",
          "2 ",
          "0 ",
          "1 ",
          "0 ",
          "0 ",
          "1 ",
          "1 ",
          "0 ",
          "1 ",
          "0 ",
          "1 ",
          "0 ",
          "0 ",
          "0 ",
          "0 ",
          "0 ",
          "1 ",
          "1 ",
          "1 ",
          "0 ",
          "1 ",
          "1 ",
          "0 ",
          "0 ",
          "1 ",
          "1 ",
          "1 ",
          "1 ",
          "2 ",
          "1 ",
          "0 ",
          "0 ",
          "0 ",
          "0 ",
          "0 ",
          "1 ",
          "0 ",
          "2 ",
          "0 ",
          "2 ",
          "1 ",
          "1 ",
          "0 ",
          "1 ",
          "1 ",
          "1 ",
          "0 ",
          "1 ",
          "1 ",
          "1 ",
          "1 ",
          "0 ",
          "1 ",
          "0 ",
          "1 ",
          "2 ",
          "0 ",
          "1 ",
          "0 ",
          "1 ",
          "1 ",
          "0 ",
          "1 ",
          "1 ",
          "1 ",
          "1 ",
          "0 ",
          "1 ",
          "1 ",
          "2 ",
          "1 ",
          "1 ",
          "1 ",
          "1 ",
          "1 ",
          "1 ",
          "1 ",
          "0 ",
          "1 ",
          "1 ",
          "0 ",
          "1 ",
          "1 ",
          "0 ",
          "0 ",
          "1 ",
          "0 ",
          "1 ",
          "1 ",
          "1 ",
          "0 ",
          "2 ",
          "1 ",
          "1 ",
          "0 ",
          "0 ",
          "0 ",
          "1 ",
          "1 ",
          "0 ",
          "0 ",
          "2 ",
          "1 ",
          "1 ",
          "1 ",
          "1 ",
          "1 ",
          "1 ",
          "2 ",
          "1 ",
          "0 ",
          "1 ",
          "1 ",
          "0 ",
          "1 ",
          "1 "
         ],
         "yaxis": "y"
        },
        {
         "alignmentgroup": "True",
         "bingroup": "x",
         "histfunc": "sum",
         "hovertemplate": "Gender=Male<br>Heard_from_plateform=%{x}<br>sum of Duration=%{y}<extra></extra>",
         "legendgroup": "Male",
         "marker": {
          "color": "#EF553B",
          "pattern": {
           "shape": ""
          }
         },
         "name": "Male",
         "offsetgroup": "Male",
         "orientation": "v",
         "showlegend": true,
         "type": "histogram",
         "x": [
          "WhatsApp;Facebook;Other",
          "WhatsApp;Facebook",
          "WhatsApp;Facebook;Other",
          "Other",
          "Facebook",
          "WhatsApp",
          "WhatsApp",
          "WhatsApp",
          "WhatsApp",
          "Facebook",
          "WhatsApp",
          "Facebook",
          "WhatsApp",
          "Other",
          "Facebook",
          "WhatsApp",
          "WhatsApp",
          "WhatsApp;Facebook",
          "Facebook",
          "Not heard before",
          "WhatsApp",
          "WhatsApp",
          "Other",
          "Facebook",
          "Other",
          "Other",
          "Other",
          "WhatsApp",
          "Facebook",
          "WhatsApp",
          "Other",
          "WhatsApp",
          "WhatsApp",
          "Other",
          "WhatsApp",
          "WhatsApp",
          "WhatsApp",
          "Other",
          "Other",
          "Other",
          "WhatsApp;Facebook",
          "WhatsApp",
          "Facebook",
          "WhatsApp",
          "Other",
          "WhatsApp",
          "WhatsApp",
          "WhatsApp",
          "WhatsApp;Facebook",
          "WhatsApp",
          "Facebook",
          "WhatsApp;Facebook;Other",
          "Facebook",
          "WhatsApp",
          "Not heard before",
          "Other",
          "Not heard before",
          "WhatsApp",
          "Facebook",
          "WhatsApp",
          "Not heard before",
          "WhatsApp;Facebook",
          "WhatsApp;Facebook;Other",
          "WhatsApp",
          "WhatsApp",
          "WhatsApp;Facebook",
          "Facebook",
          "Facebook",
          "Other",
          "WhatsApp",
          "WhatsApp",
          "WhatsApp",
          "WhatsApp",
          "Not heard before",
          "WhatsApp;Facebook",
          "WhatsApp;Facebook;Other",
          "Other",
          "Other",
          "WhatsApp;Facebook",
          "WhatsApp;Other",
          "Other",
          "WhatsApp",
          "Facebook",
          "WhatsApp",
          "Facebook",
          "WhatsApp",
          "WhatsApp;Facebook",
          "Facebook",
          "WhatsApp",
          "WhatsApp",
          "Other",
          "WhatsApp;Facebook;Instagram",
          "Facebook",
          "Other",
          "Not heard before",
          "WhatsApp;Facebook",
          "Facebook",
          "Facebook",
          "Facebook",
          "Other",
          "Facebook",
          "Facebook",
          "TikTok",
          "WhatsApp;Facebook;Other",
          "Other",
          "Other",
          "Other",
          "Other",
          "Not heard before",
          "WhatsApp",
          "WhatsApp",
          "WhatsApp",
          "Facebook",
          "WhatsApp;Facebook",
          "WhatsApp;Facebook",
          "Facebook",
          "Facebook",
          "WhatsApp;Facebook",
          "WhatsApp;Facebook;Instagram",
          "WhatsApp",
          "Other",
          "Other",
          "WhatsApp;Facebook;Instagram",
          "Facebook",
          "WhatsApp",
          "WhatsApp",
          "WhatsApp;Facebook",
          "Not heard before",
          "Other",
          "WhatsApp",
          "WhatsApp;Facebook;Other",
          "WhatsApp",
          "Facebook",
          "Facebook",
          "WhatsApp;Facebook",
          "Other",
          "Other",
          "Instagram",
          "Not heard before",
          "Facebook",
          "Other",
          "WhatsApp",
          "WhatsApp;Facebook;Instagram",
          "Other",
          "WhatsApp",
          "Not heard before",
          "Facebook",
          "WhatsApp",
          "Facebook",
          "Not heard before",
          "Other",
          "Other",
          "Facebook",
          "Not heard before",
          "Facebook;Other",
          "Facebook;Other",
          "Other",
          "Not heard before",
          "WhatsApp",
          "Facebook",
          "WhatsApp"
         ],
         "xaxis": "x",
         "y": [
          "1 ",
          "0 ",
          "0 ",
          "0 ",
          "1 ",
          "1 ",
          "0 ",
          "1 ",
          "1 ",
          "1 ",
          "1 ",
          "1 ",
          "1 ",
          "0 ",
          "1 ",
          "0 ",
          "1 ",
          "3 ",
          "1 ",
          "0 ",
          "1 ",
          "1 ",
          "3 ",
          "1 ",
          "2 ",
          "2 ",
          "0 ",
          "1 ",
          "1 ",
          "1 ",
          "1 ",
          "1 ",
          "0 ",
          "1 ",
          "2 ",
          "0 ",
          "1 ",
          "1 ",
          "1 ",
          "2 ",
          "2 ",
          "0 ",
          "1 ",
          "1 ",
          "1 ",
          "0 ",
          "1 ",
          "0 ",
          "1 ",
          "3 ",
          "1 ",
          "1 ",
          "1 ",
          "1 ",
          "0 ",
          "0 ",
          "1 ",
          "0 ",
          "1 ",
          "1 ",
          "0 ",
          "1 ",
          "1 ",
          "0 ",
          "1 ",
          "1 ",
          "1 ",
          "0 ",
          "1 ",
          "1 ",
          "2 ",
          "0 ",
          "1 ",
          "more than 3 ",
          "1 ",
          "0 ",
          "0 ",
          "2 ",
          "0 ",
          "1 ",
          "1 ",
          "1 ",
          "0 ",
          "0 ",
          "1 ",
          "1 ",
          "1 ",
          "1 ",
          "1 ",
          "1 ",
          "1 ",
          "1 ",
          "1 ",
          "0 ",
          "0 ",
          "0 ",
          "0 ",
          "1 ",
          "1 ",
          "0 ",
          "0 ",
          "1 ",
          "1 ",
          "1 ",
          "1 ",
          "0 ",
          "0 ",
          "0 ",
          "0 ",
          "0 ",
          "1 ",
          "0 ",
          "1 ",
          "1 ",
          "0 ",
          "1 ",
          "1 ",
          "1 ",
          "2 ",
          "0 ",
          "1 ",
          "0 ",
          "1 ",
          "1 ",
          "1 ",
          "0 ",
          "0 ",
          "0 ",
          "1 ",
          "1 ",
          "1 ",
          "1 ",
          "2 ",
          "1 ",
          "1 ",
          "0 ",
          "1 ",
          "1 ",
          "1 ",
          "0 ",
          "0 ",
          "1 ",
          "0 ",
          "1 ",
          "0 ",
          "0 ",
          "0 ",
          "1 ",
          "1 ",
          "0 ",
          "1 ",
          "0 ",
          "0 ",
          "1 ",
          "0 ",
          "1 ",
          "1 ",
          "1 ",
          "2 ",
          "0 ",
          "0 "
         ],
         "yaxis": "y"
        }
       ],
       "layout": {
        "barmode": "relative",
        "legend": {
         "title": {
          "text": "Gender"
         },
         "tracegroupgap": 0
        },
        "template": {
         "data": {
          "bar": [
           {
            "error_x": {
             "color": "#2a3f5f"
            },
            "error_y": {
             "color": "#2a3f5f"
            },
            "marker": {
             "line": {
              "color": "#E5ECF6",
              "width": 0.5
             },
             "pattern": {
              "fillmode": "overlay",
              "size": 10,
              "solidity": 0.2
             }
            },
            "type": "bar"
           }
          ],
          "barpolar": [
           {
            "marker": {
             "line": {
              "color": "#E5ECF6",
              "width": 0.5
             },
             "pattern": {
              "fillmode": "overlay",
              "size": 10,
              "solidity": 0.2
             }
            },
            "type": "barpolar"
           }
          ],
          "carpet": [
           {
            "aaxis": {
             "endlinecolor": "#2a3f5f",
             "gridcolor": "white",
             "linecolor": "white",
             "minorgridcolor": "white",
             "startlinecolor": "#2a3f5f"
            },
            "baxis": {
             "endlinecolor": "#2a3f5f",
             "gridcolor": "white",
             "linecolor": "white",
             "minorgridcolor": "white",
             "startlinecolor": "#2a3f5f"
            },
            "type": "carpet"
           }
          ],
          "choropleth": [
           {
            "colorbar": {
             "outlinewidth": 0,
             "ticks": ""
            },
            "type": "choropleth"
           }
          ],
          "contour": [
           {
            "colorbar": {
             "outlinewidth": 0,
             "ticks": ""
            },
            "colorscale": [
             [
              0,
              "#0d0887"
             ],
             [
              0.1111111111111111,
              "#46039f"
             ],
             [
              0.2222222222222222,
              "#7201a8"
             ],
             [
              0.3333333333333333,
              "#9c179e"
             ],
             [
              0.4444444444444444,
              "#bd3786"
             ],
             [
              0.5555555555555556,
              "#d8576b"
             ],
             [
              0.6666666666666666,
              "#ed7953"
             ],
             [
              0.7777777777777778,
              "#fb9f3a"
             ],
             [
              0.8888888888888888,
              "#fdca26"
             ],
             [
              1,
              "#f0f921"
             ]
            ],
            "type": "contour"
           }
          ],
          "contourcarpet": [
           {
            "colorbar": {
             "outlinewidth": 0,
             "ticks": ""
            },
            "type": "contourcarpet"
           }
          ],
          "heatmap": [
           {
            "colorbar": {
             "outlinewidth": 0,
             "ticks": ""
            },
            "colorscale": [
             [
              0,
              "#0d0887"
             ],
             [
              0.1111111111111111,
              "#46039f"
             ],
             [
              0.2222222222222222,
              "#7201a8"
             ],
             [
              0.3333333333333333,
              "#9c179e"
             ],
             [
              0.4444444444444444,
              "#bd3786"
             ],
             [
              0.5555555555555556,
              "#d8576b"
             ],
             [
              0.6666666666666666,
              "#ed7953"
             ],
             [
              0.7777777777777778,
              "#fb9f3a"
             ],
             [
              0.8888888888888888,
              "#fdca26"
             ],
             [
              1,
              "#f0f921"
             ]
            ],
            "type": "heatmap"
           }
          ],
          "heatmapgl": [
           {
            "colorbar": {
             "outlinewidth": 0,
             "ticks": ""
            },
            "colorscale": [
             [
              0,
              "#0d0887"
             ],
             [
              0.1111111111111111,
              "#46039f"
             ],
             [
              0.2222222222222222,
              "#7201a8"
             ],
             [
              0.3333333333333333,
              "#9c179e"
             ],
             [
              0.4444444444444444,
              "#bd3786"
             ],
             [
              0.5555555555555556,
              "#d8576b"
             ],
             [
              0.6666666666666666,
              "#ed7953"
             ],
             [
              0.7777777777777778,
              "#fb9f3a"
             ],
             [
              0.8888888888888888,
              "#fdca26"
             ],
             [
              1,
              "#f0f921"
             ]
            ],
            "type": "heatmapgl"
           }
          ],
          "histogram": [
           {
            "marker": {
             "pattern": {
              "fillmode": "overlay",
              "size": 10,
              "solidity": 0.2
             }
            },
            "type": "histogram"
           }
          ],
          "histogram2d": [
           {
            "colorbar": {
             "outlinewidth": 0,
             "ticks": ""
            },
            "colorscale": [
             [
              0,
              "#0d0887"
             ],
             [
              0.1111111111111111,
              "#46039f"
             ],
             [
              0.2222222222222222,
              "#7201a8"
             ],
             [
              0.3333333333333333,
              "#9c179e"
             ],
             [
              0.4444444444444444,
              "#bd3786"
             ],
             [
              0.5555555555555556,
              "#d8576b"
             ],
             [
              0.6666666666666666,
              "#ed7953"
             ],
             [
              0.7777777777777778,
              "#fb9f3a"
             ],
             [
              0.8888888888888888,
              "#fdca26"
             ],
             [
              1,
              "#f0f921"
             ]
            ],
            "type": "histogram2d"
           }
          ],
          "histogram2dcontour": [
           {
            "colorbar": {
             "outlinewidth": 0,
             "ticks": ""
            },
            "colorscale": [
             [
              0,
              "#0d0887"
             ],
             [
              0.1111111111111111,
              "#46039f"
             ],
             [
              0.2222222222222222,
              "#7201a8"
             ],
             [
              0.3333333333333333,
              "#9c179e"
             ],
             [
              0.4444444444444444,
              "#bd3786"
             ],
             [
              0.5555555555555556,
              "#d8576b"
             ],
             [
              0.6666666666666666,
              "#ed7953"
             ],
             [
              0.7777777777777778,
              "#fb9f3a"
             ],
             [
              0.8888888888888888,
              "#fdca26"
             ],
             [
              1,
              "#f0f921"
             ]
            ],
            "type": "histogram2dcontour"
           }
          ],
          "mesh3d": [
           {
            "colorbar": {
             "outlinewidth": 0,
             "ticks": ""
            },
            "type": "mesh3d"
           }
          ],
          "parcoords": [
           {
            "line": {
             "colorbar": {
              "outlinewidth": 0,
              "ticks": ""
             }
            },
            "type": "parcoords"
           }
          ],
          "pie": [
           {
            "automargin": true,
            "type": "pie"
           }
          ],
          "scatter": [
           {
            "marker": {
             "colorbar": {
              "outlinewidth": 0,
              "ticks": ""
             }
            },
            "type": "scatter"
           }
          ],
          "scatter3d": [
           {
            "line": {
             "colorbar": {
              "outlinewidth": 0,
              "ticks": ""
             }
            },
            "marker": {
             "colorbar": {
              "outlinewidth": 0,
              "ticks": ""
             }
            },
            "type": "scatter3d"
           }
          ],
          "scattercarpet": [
           {
            "marker": {
             "colorbar": {
              "outlinewidth": 0,
              "ticks": ""
             }
            },
            "type": "scattercarpet"
           }
          ],
          "scattergeo": [
           {
            "marker": {
             "colorbar": {
              "outlinewidth": 0,
              "ticks": ""
             }
            },
            "type": "scattergeo"
           }
          ],
          "scattergl": [
           {
            "marker": {
             "colorbar": {
              "outlinewidth": 0,
              "ticks": ""
             }
            },
            "type": "scattergl"
           }
          ],
          "scattermapbox": [
           {
            "marker": {
             "colorbar": {
              "outlinewidth": 0,
              "ticks": ""
             }
            },
            "type": "scattermapbox"
           }
          ],
          "scatterpolar": [
           {
            "marker": {
             "colorbar": {
              "outlinewidth": 0,
              "ticks": ""
             }
            },
            "type": "scatterpolar"
           }
          ],
          "scatterpolargl": [
           {
            "marker": {
             "colorbar": {
              "outlinewidth": 0,
              "ticks": ""
             }
            },
            "type": "scatterpolargl"
           }
          ],
          "scatterternary": [
           {
            "marker": {
             "colorbar": {
              "outlinewidth": 0,
              "ticks": ""
             }
            },
            "type": "scatterternary"
           }
          ],
          "surface": [
           {
            "colorbar": {
             "outlinewidth": 0,
             "ticks": ""
            },
            "colorscale": [
             [
              0,
              "#0d0887"
             ],
             [
              0.1111111111111111,
              "#46039f"
             ],
             [
              0.2222222222222222,
              "#7201a8"
             ],
             [
              0.3333333333333333,
              "#9c179e"
             ],
             [
              0.4444444444444444,
              "#bd3786"
             ],
             [
              0.5555555555555556,
              "#d8576b"
             ],
             [
              0.6666666666666666,
              "#ed7953"
             ],
             [
              0.7777777777777778,
              "#fb9f3a"
             ],
             [
              0.8888888888888888,
              "#fdca26"
             ],
             [
              1,
              "#f0f921"
             ]
            ],
            "type": "surface"
           }
          ],
          "table": [
           {
            "cells": {
             "fill": {
              "color": "#EBF0F8"
             },
             "line": {
              "color": "white"
             }
            },
            "header": {
             "fill": {
              "color": "#C8D4E3"
             },
             "line": {
              "color": "white"
             }
            },
            "type": "table"
           }
          ]
         },
         "layout": {
          "annotationdefaults": {
           "arrowcolor": "#2a3f5f",
           "arrowhead": 0,
           "arrowwidth": 1
          },
          "autotypenumbers": "strict",
          "coloraxis": {
           "colorbar": {
            "outlinewidth": 0,
            "ticks": ""
           }
          },
          "colorscale": {
           "diverging": [
            [
             0,
             "#8e0152"
            ],
            [
             0.1,
             "#c51b7d"
            ],
            [
             0.2,
             "#de77ae"
            ],
            [
             0.3,
             "#f1b6da"
            ],
            [
             0.4,
             "#fde0ef"
            ],
            [
             0.5,
             "#f7f7f7"
            ],
            [
             0.6,
             "#e6f5d0"
            ],
            [
             0.7,
             "#b8e186"
            ],
            [
             0.8,
             "#7fbc41"
            ],
            [
             0.9,
             "#4d9221"
            ],
            [
             1,
             "#276419"
            ]
           ],
           "sequential": [
            [
             0,
             "#0d0887"
            ],
            [
             0.1111111111111111,
             "#46039f"
            ],
            [
             0.2222222222222222,
             "#7201a8"
            ],
            [
             0.3333333333333333,
             "#9c179e"
            ],
            [
             0.4444444444444444,
             "#bd3786"
            ],
            [
             0.5555555555555556,
             "#d8576b"
            ],
            [
             0.6666666666666666,
             "#ed7953"
            ],
            [
             0.7777777777777778,
             "#fb9f3a"
            ],
            [
             0.8888888888888888,
             "#fdca26"
            ],
            [
             1,
             "#f0f921"
            ]
           ],
           "sequentialminus": [
            [
             0,
             "#0d0887"
            ],
            [
             0.1111111111111111,
             "#46039f"
            ],
            [
             0.2222222222222222,
             "#7201a8"
            ],
            [
             0.3333333333333333,
             "#9c179e"
            ],
            [
             0.4444444444444444,
             "#bd3786"
            ],
            [
             0.5555555555555556,
             "#d8576b"
            ],
            [
             0.6666666666666666,
             "#ed7953"
            ],
            [
             0.7777777777777778,
             "#fb9f3a"
            ],
            [
             0.8888888888888888,
             "#fdca26"
            ],
            [
             1,
             "#f0f921"
            ]
           ]
          },
          "colorway": [
           "#636efa",
           "#EF553B",
           "#00cc96",
           "#ab63fa",
           "#FFA15A",
           "#19d3f3",
           "#FF6692",
           "#B6E880",
           "#FF97FF",
           "#FECB52"
          ],
          "font": {
           "color": "#2a3f5f"
          },
          "geo": {
           "bgcolor": "white",
           "lakecolor": "white",
           "landcolor": "#E5ECF6",
           "showlakes": true,
           "showland": true,
           "subunitcolor": "white"
          },
          "hoverlabel": {
           "align": "left"
          },
          "hovermode": "closest",
          "mapbox": {
           "style": "light"
          },
          "paper_bgcolor": "white",
          "plot_bgcolor": "#E5ECF6",
          "polar": {
           "angularaxis": {
            "gridcolor": "white",
            "linecolor": "white",
            "ticks": ""
           },
           "bgcolor": "#E5ECF6",
           "radialaxis": {
            "gridcolor": "white",
            "linecolor": "white",
            "ticks": ""
           }
          },
          "scene": {
           "xaxis": {
            "backgroundcolor": "#E5ECF6",
            "gridcolor": "white",
            "gridwidth": 2,
            "linecolor": "white",
            "showbackground": true,
            "ticks": "",
            "zerolinecolor": "white"
           },
           "yaxis": {
            "backgroundcolor": "#E5ECF6",
            "gridcolor": "white",
            "gridwidth": 2,
            "linecolor": "white",
            "showbackground": true,
            "ticks": "",
            "zerolinecolor": "white"
           },
           "zaxis": {
            "backgroundcolor": "#E5ECF6",
            "gridcolor": "white",
            "gridwidth": 2,
            "linecolor": "white",
            "showbackground": true,
            "ticks": "",
            "zerolinecolor": "white"
           }
          },
          "shapedefaults": {
           "line": {
            "color": "#2a3f5f"
           }
          },
          "ternary": {
           "aaxis": {
            "gridcolor": "white",
            "linecolor": "white",
            "ticks": ""
           },
           "baxis": {
            "gridcolor": "white",
            "linecolor": "white",
            "ticks": ""
           },
           "bgcolor": "#E5ECF6",
           "caxis": {
            "gridcolor": "white",
            "linecolor": "white",
            "ticks": ""
           }
          },
          "title": {
           "x": 0.05
          },
          "xaxis": {
           "automargin": true,
           "gridcolor": "white",
           "linecolor": "white",
           "ticks": "",
           "title": {
            "standoff": 15
           },
           "zerolinecolor": "white",
           "zerolinewidth": 2
          },
          "yaxis": {
           "automargin": true,
           "gridcolor": "white",
           "linecolor": "white",
           "ticks": "",
           "title": {
            "standoff": 15
           },
           "zerolinecolor": "white",
           "zerolinewidth": 2
          }
         }
        },
        "title": {
         "text": "FM is going to famous from which plateform"
        },
        "xaxis": {
         "anchor": "y",
         "domain": [
          0,
          1
         ],
         "title": {
          "text": "Heard_from_plateform"
         }
        },
        "yaxis": {
         "anchor": "x",
         "domain": [
          0,
          1
         ],
         "title": {
          "text": "sum of Duration"
         }
        }
       }
      }
     },
     "metadata": {},
     "output_type": "display_data"
    }
   ],
   "source": [
    "px.histogram(df,x='Heard_from_plateform',y='Duration', color='Gender',title='FM is going to famous from which platform')"
   ]
  },
  {
   "cell_type": "markdown",
   "metadata": {},
   "source": [
    "### **RESULT**\n",
    "**WhatsApp is the platform from where people become aware of MUET FM 92.6**"
   ]
  },
  {
   "cell_type": "code",
   "execution_count": 81,
   "metadata": {},
   "outputs": [
    {
     "data": {
      "application/vnd.plotly.v1+json": {
       "config": {
        "plotlyServerURL": "https://plot.ly"
       },
       "data": [
        {
         "alignmentgroup": "True",
         "hovertemplate": "Gender=Female<br>Listening=%{x}<br>Age=%{y}<extra></extra>",
         "legendgroup": "Female",
         "marker": {
          "color": "#636efa",
          "pattern": {
           "shape": ""
          }
         },
         "name": "Female",
         "offsetgroup": "Female",
         "orientation": "v",
         "showlegend": true,
         "textposition": "auto",
         "type": "bar",
         "x": [
          "None",
          "Podcast",
          "None",
          "Motivational Talks",
          "Campus News",
          "None",
          "Campus News",
          "None",
          "Campus News",
          "Motivational Talks",
          "Campus News",
          "None",
          "Podcast",
          "None",
          "Motivational Talks",
          "Motivational Talks;None",
          "None",
          "Motivational Talks",
          "Campus News",
          "None",
          "Campus News",
          "Jumma Special",
          "None",
          "Campus News;Interviews",
          "Campus News",
          "Motivational Talks;Campus News;Interviews",
          "Podcast;Motivational Talks",
          "Podcast;Motivational Talks;Interviews",
          "None"
         ],
         "xaxis": "x",
         "y": [
          "21",
          "26",
          "21",
          "21",
          "21",
          "21",
          "20",
          "20",
          "21",
          "20",
          "20",
          "21",
          "21",
          "19",
          "18",
          "19",
          "18",
          "21",
          "20",
          "20",
          "21",
          "21",
          "20",
          "23",
          "20",
          "21",
          "20",
          "21",
          "21"
         ],
         "yaxis": "y"
        },
        {
         "alignmentgroup": "True",
         "hovertemplate": "Gender=Male<br>Listening=%{x}<br>Age=%{y}<extra></extra>",
         "legendgroup": "Male",
         "marker": {
          "color": "#EF553B",
          "pattern": {
           "shape": ""
          }
         },
         "name": "Male",
         "offsetgroup": "Male",
         "orientation": "v",
         "showlegend": true,
         "textposition": "auto",
         "type": "bar",
         "x": [
          "Podcast;Motivational Talks;Campus News;Interviews",
          "Campus News",
          "None",
          "None",
          "Motivational Talks",
          "Interviews",
          "Motivational Talks",
          "Podcast",
          "Jumma Special",
          "Podcast;Motivational Talks",
          "Campus News",
          "Motivational Talks",
          "None",
          "None",
          "Motivational Talks",
          "None",
          "Campus News",
          "Podcast;Motivational Talks;Campus News;Jumma Special;Interviews",
          "Campus News",
          "None",
          "None",
          "Campus News;None",
          "Campus News",
          "None",
          "Campus News",
          "Interviews",
          "None",
          "Podcast;Interviews",
          "Podcast",
          "Podcast",
          "Podcast;Campus News"
         ],
         "xaxis": "x",
         "y": [
          "21",
          "20",
          "21",
          "20",
          "22",
          "22",
          "20",
          "22",
          "22",
          "21",
          "21",
          "20",
          "20",
          "20",
          "21",
          "20",
          "20",
          "20",
          "19 years ",
          "24",
          "22",
          "19",
          "21",
          "22",
          "20",
          "20",
          "21",
          "19",
          "19",
          "19",
          "18"
         ],
         "yaxis": "y"
        }
       ],
       "layout": {
        "barmode": "relative",
        "legend": {
         "title": {
          "text": "Gender"
         },
         "tracegroupgap": 0
        },
        "template": {
         "data": {
          "bar": [
           {
            "error_x": {
             "color": "#2a3f5f"
            },
            "error_y": {
             "color": "#2a3f5f"
            },
            "marker": {
             "line": {
              "color": "#E5ECF6",
              "width": 0.5
             },
             "pattern": {
              "fillmode": "overlay",
              "size": 10,
              "solidity": 0.2
             }
            },
            "type": "bar"
           }
          ],
          "barpolar": [
           {
            "marker": {
             "line": {
              "color": "#E5ECF6",
              "width": 0.5
             },
             "pattern": {
              "fillmode": "overlay",
              "size": 10,
              "solidity": 0.2
             }
            },
            "type": "barpolar"
           }
          ],
          "carpet": [
           {
            "aaxis": {
             "endlinecolor": "#2a3f5f",
             "gridcolor": "white",
             "linecolor": "white",
             "minorgridcolor": "white",
             "startlinecolor": "#2a3f5f"
            },
            "baxis": {
             "endlinecolor": "#2a3f5f",
             "gridcolor": "white",
             "linecolor": "white",
             "minorgridcolor": "white",
             "startlinecolor": "#2a3f5f"
            },
            "type": "carpet"
           }
          ],
          "choropleth": [
           {
            "colorbar": {
             "outlinewidth": 0,
             "ticks": ""
            },
            "type": "choropleth"
           }
          ],
          "contour": [
           {
            "colorbar": {
             "outlinewidth": 0,
             "ticks": ""
            },
            "colorscale": [
             [
              0,
              "#0d0887"
             ],
             [
              0.1111111111111111,
              "#46039f"
             ],
             [
              0.2222222222222222,
              "#7201a8"
             ],
             [
              0.3333333333333333,
              "#9c179e"
             ],
             [
              0.4444444444444444,
              "#bd3786"
             ],
             [
              0.5555555555555556,
              "#d8576b"
             ],
             [
              0.6666666666666666,
              "#ed7953"
             ],
             [
              0.7777777777777778,
              "#fb9f3a"
             ],
             [
              0.8888888888888888,
              "#fdca26"
             ],
             [
              1,
              "#f0f921"
             ]
            ],
            "type": "contour"
           }
          ],
          "contourcarpet": [
           {
            "colorbar": {
             "outlinewidth": 0,
             "ticks": ""
            },
            "type": "contourcarpet"
           }
          ],
          "heatmap": [
           {
            "colorbar": {
             "outlinewidth": 0,
             "ticks": ""
            },
            "colorscale": [
             [
              0,
              "#0d0887"
             ],
             [
              0.1111111111111111,
              "#46039f"
             ],
             [
              0.2222222222222222,
              "#7201a8"
             ],
             [
              0.3333333333333333,
              "#9c179e"
             ],
             [
              0.4444444444444444,
              "#bd3786"
             ],
             [
              0.5555555555555556,
              "#d8576b"
             ],
             [
              0.6666666666666666,
              "#ed7953"
             ],
             [
              0.7777777777777778,
              "#fb9f3a"
             ],
             [
              0.8888888888888888,
              "#fdca26"
             ],
             [
              1,
              "#f0f921"
             ]
            ],
            "type": "heatmap"
           }
          ],
          "heatmapgl": [
           {
            "colorbar": {
             "outlinewidth": 0,
             "ticks": ""
            },
            "colorscale": [
             [
              0,
              "#0d0887"
             ],
             [
              0.1111111111111111,
              "#46039f"
             ],
             [
              0.2222222222222222,
              "#7201a8"
             ],
             [
              0.3333333333333333,
              "#9c179e"
             ],
             [
              0.4444444444444444,
              "#bd3786"
             ],
             [
              0.5555555555555556,
              "#d8576b"
             ],
             [
              0.6666666666666666,
              "#ed7953"
             ],
             [
              0.7777777777777778,
              "#fb9f3a"
             ],
             [
              0.8888888888888888,
              "#fdca26"
             ],
             [
              1,
              "#f0f921"
             ]
            ],
            "type": "heatmapgl"
           }
          ],
          "histogram": [
           {
            "marker": {
             "pattern": {
              "fillmode": "overlay",
              "size": 10,
              "solidity": 0.2
             }
            },
            "type": "histogram"
           }
          ],
          "histogram2d": [
           {
            "colorbar": {
             "outlinewidth": 0,
             "ticks": ""
            },
            "colorscale": [
             [
              0,
              "#0d0887"
             ],
             [
              0.1111111111111111,
              "#46039f"
             ],
             [
              0.2222222222222222,
              "#7201a8"
             ],
             [
              0.3333333333333333,
              "#9c179e"
             ],
             [
              0.4444444444444444,
              "#bd3786"
             ],
             [
              0.5555555555555556,
              "#d8576b"
             ],
             [
              0.6666666666666666,
              "#ed7953"
             ],
             [
              0.7777777777777778,
              "#fb9f3a"
             ],
             [
              0.8888888888888888,
              "#fdca26"
             ],
             [
              1,
              "#f0f921"
             ]
            ],
            "type": "histogram2d"
           }
          ],
          "histogram2dcontour": [
           {
            "colorbar": {
             "outlinewidth": 0,
             "ticks": ""
            },
            "colorscale": [
             [
              0,
              "#0d0887"
             ],
             [
              0.1111111111111111,
              "#46039f"
             ],
             [
              0.2222222222222222,
              "#7201a8"
             ],
             [
              0.3333333333333333,
              "#9c179e"
             ],
             [
              0.4444444444444444,
              "#bd3786"
             ],
             [
              0.5555555555555556,
              "#d8576b"
             ],
             [
              0.6666666666666666,
              "#ed7953"
             ],
             [
              0.7777777777777778,
              "#fb9f3a"
             ],
             [
              0.8888888888888888,
              "#fdca26"
             ],
             [
              1,
              "#f0f921"
             ]
            ],
            "type": "histogram2dcontour"
           }
          ],
          "mesh3d": [
           {
            "colorbar": {
             "outlinewidth": 0,
             "ticks": ""
            },
            "type": "mesh3d"
           }
          ],
          "parcoords": [
           {
            "line": {
             "colorbar": {
              "outlinewidth": 0,
              "ticks": ""
             }
            },
            "type": "parcoords"
           }
          ],
          "pie": [
           {
            "automargin": true,
            "type": "pie"
           }
          ],
          "scatter": [
           {
            "marker": {
             "colorbar": {
              "outlinewidth": 0,
              "ticks": ""
             }
            },
            "type": "scatter"
           }
          ],
          "scatter3d": [
           {
            "line": {
             "colorbar": {
              "outlinewidth": 0,
              "ticks": ""
             }
            },
            "marker": {
             "colorbar": {
              "outlinewidth": 0,
              "ticks": ""
             }
            },
            "type": "scatter3d"
           }
          ],
          "scattercarpet": [
           {
            "marker": {
             "colorbar": {
              "outlinewidth": 0,
              "ticks": ""
             }
            },
            "type": "scattercarpet"
           }
          ],
          "scattergeo": [
           {
            "marker": {
             "colorbar": {
              "outlinewidth": 0,
              "ticks": ""
             }
            },
            "type": "scattergeo"
           }
          ],
          "scattergl": [
           {
            "marker": {
             "colorbar": {
              "outlinewidth": 0,
              "ticks": ""
             }
            },
            "type": "scattergl"
           }
          ],
          "scattermapbox": [
           {
            "marker": {
             "colorbar": {
              "outlinewidth": 0,
              "ticks": ""
             }
            },
            "type": "scattermapbox"
           }
          ],
          "scatterpolar": [
           {
            "marker": {
             "colorbar": {
              "outlinewidth": 0,
              "ticks": ""
             }
            },
            "type": "scatterpolar"
           }
          ],
          "scatterpolargl": [
           {
            "marker": {
             "colorbar": {
              "outlinewidth": 0,
              "ticks": ""
             }
            },
            "type": "scatterpolargl"
           }
          ],
          "scatterternary": [
           {
            "marker": {
             "colorbar": {
              "outlinewidth": 0,
              "ticks": ""
             }
            },
            "type": "scatterternary"
           }
          ],
          "surface": [
           {
            "colorbar": {
             "outlinewidth": 0,
             "ticks": ""
            },
            "colorscale": [
             [
              0,
              "#0d0887"
             ],
             [
              0.1111111111111111,
              "#46039f"
             ],
             [
              0.2222222222222222,
              "#7201a8"
             ],
             [
              0.3333333333333333,
              "#9c179e"
             ],
             [
              0.4444444444444444,
              "#bd3786"
             ],
             [
              0.5555555555555556,
              "#d8576b"
             ],
             [
              0.6666666666666666,
              "#ed7953"
             ],
             [
              0.7777777777777778,
              "#fb9f3a"
             ],
             [
              0.8888888888888888,
              "#fdca26"
             ],
             [
              1,
              "#f0f921"
             ]
            ],
            "type": "surface"
           }
          ],
          "table": [
           {
            "cells": {
             "fill": {
              "color": "#EBF0F8"
             },
             "line": {
              "color": "white"
             }
            },
            "header": {
             "fill": {
              "color": "#C8D4E3"
             },
             "line": {
              "color": "white"
             }
            },
            "type": "table"
           }
          ]
         },
         "layout": {
          "annotationdefaults": {
           "arrowcolor": "#2a3f5f",
           "arrowhead": 0,
           "arrowwidth": 1
          },
          "autotypenumbers": "strict",
          "coloraxis": {
           "colorbar": {
            "outlinewidth": 0,
            "ticks": ""
           }
          },
          "colorscale": {
           "diverging": [
            [
             0,
             "#8e0152"
            ],
            [
             0.1,
             "#c51b7d"
            ],
            [
             0.2,
             "#de77ae"
            ],
            [
             0.3,
             "#f1b6da"
            ],
            [
             0.4,
             "#fde0ef"
            ],
            [
             0.5,
             "#f7f7f7"
            ],
            [
             0.6,
             "#e6f5d0"
            ],
            [
             0.7,
             "#b8e186"
            ],
            [
             0.8,
             "#7fbc41"
            ],
            [
             0.9,
             "#4d9221"
            ],
            [
             1,
             "#276419"
            ]
           ],
           "sequential": [
            [
             0,
             "#0d0887"
            ],
            [
             0.1111111111111111,
             "#46039f"
            ],
            [
             0.2222222222222222,
             "#7201a8"
            ],
            [
             0.3333333333333333,
             "#9c179e"
            ],
            [
             0.4444444444444444,
             "#bd3786"
            ],
            [
             0.5555555555555556,
             "#d8576b"
            ],
            [
             0.6666666666666666,
             "#ed7953"
            ],
            [
             0.7777777777777778,
             "#fb9f3a"
            ],
            [
             0.8888888888888888,
             "#fdca26"
            ],
            [
             1,
             "#f0f921"
            ]
           ],
           "sequentialminus": [
            [
             0,
             "#0d0887"
            ],
            [
             0.1111111111111111,
             "#46039f"
            ],
            [
             0.2222222222222222,
             "#7201a8"
            ],
            [
             0.3333333333333333,
             "#9c179e"
            ],
            [
             0.4444444444444444,
             "#bd3786"
            ],
            [
             0.5555555555555556,
             "#d8576b"
            ],
            [
             0.6666666666666666,
             "#ed7953"
            ],
            [
             0.7777777777777778,
             "#fb9f3a"
            ],
            [
             0.8888888888888888,
             "#fdca26"
            ],
            [
             1,
             "#f0f921"
            ]
           ]
          },
          "colorway": [
           "#636efa",
           "#EF553B",
           "#00cc96",
           "#ab63fa",
           "#FFA15A",
           "#19d3f3",
           "#FF6692",
           "#B6E880",
           "#FF97FF",
           "#FECB52"
          ],
          "font": {
           "color": "#2a3f5f"
          },
          "geo": {
           "bgcolor": "white",
           "lakecolor": "white",
           "landcolor": "#E5ECF6",
           "showlakes": true,
           "showland": true,
           "subunitcolor": "white"
          },
          "hoverlabel": {
           "align": "left"
          },
          "hovermode": "closest",
          "mapbox": {
           "style": "light"
          },
          "paper_bgcolor": "white",
          "plot_bgcolor": "#E5ECF6",
          "polar": {
           "angularaxis": {
            "gridcolor": "white",
            "linecolor": "white",
            "ticks": ""
           },
           "bgcolor": "#E5ECF6",
           "radialaxis": {
            "gridcolor": "white",
            "linecolor": "white",
            "ticks": ""
           }
          },
          "scene": {
           "xaxis": {
            "backgroundcolor": "#E5ECF6",
            "gridcolor": "white",
            "gridwidth": 2,
            "linecolor": "white",
            "showbackground": true,
            "ticks": "",
            "zerolinecolor": "white"
           },
           "yaxis": {
            "backgroundcolor": "#E5ECF6",
            "gridcolor": "white",
            "gridwidth": 2,
            "linecolor": "white",
            "showbackground": true,
            "ticks": "",
            "zerolinecolor": "white"
           },
           "zaxis": {
            "backgroundcolor": "#E5ECF6",
            "gridcolor": "white",
            "gridwidth": 2,
            "linecolor": "white",
            "showbackground": true,
            "ticks": "",
            "zerolinecolor": "white"
           }
          },
          "shapedefaults": {
           "line": {
            "color": "#2a3f5f"
           }
          },
          "ternary": {
           "aaxis": {
            "gridcolor": "white",
            "linecolor": "white",
            "ticks": ""
           },
           "baxis": {
            "gridcolor": "white",
            "linecolor": "white",
            "ticks": ""
           },
           "bgcolor": "#E5ECF6",
           "caxis": {
            "gridcolor": "white",
            "linecolor": "white",
            "ticks": ""
           }
          },
          "title": {
           "x": 0.05
          },
          "xaxis": {
           "automargin": true,
           "gridcolor": "white",
           "linecolor": "white",
           "ticks": "",
           "title": {
            "standoff": 15
           },
           "zerolinecolor": "white",
           "zerolinewidth": 2
          },
          "yaxis": {
           "automargin": true,
           "gridcolor": "white",
           "linecolor": "white",
           "ticks": "",
           "title": {
            "standoff": 15
           },
           "zerolinecolor": "white",
           "zerolinewidth": 2
          }
         }
        },
        "title": {
         "text": "Listening Category"
        },
        "xaxis": {
         "anchor": "y",
         "domain": [
          0,
          1
         ],
         "title": {
          "text": "Listening"
         }
        },
        "yaxis": {
         "anchor": "x",
         "domain": [
          0,
          1
         ],
         "title": {
          "text": "Age"
         }
        }
       }
      }
     },
     "metadata": {},
     "output_type": "display_data"
    }
   ],
   "source": [
    "px.bar(df.head(60), x='Listening', y='Age', color='Gender',title='Listening Category')"
   ]
  },
  {
   "cell_type": "markdown",
   "metadata": {},
   "source": [
    "## **RESULT**\n",
    "**Here the maximum poeple are confused that what they want to listen and the 2nd position they want to listen CAMPUS NEWS and on 3rd is MOTIVATIONAL TALKS**"
   ]
  },
  {
   "cell_type": "code",
   "execution_count": 80,
   "metadata": {},
   "outputs": [
    {
     "data": {
      "application/vnd.plotly.v1+json": {
       "config": {
        "plotlyServerURL": "https://plot.ly"
       },
       "data": [
        {
         "alignmentgroup": "True",
         "hovertemplate": "Gender=Female<br>Competitions?=%{x}<br>count=%{y}<extra></extra>",
         "legendgroup": "Female",
         "marker": {
          "color": "#636efa",
          "pattern": {
           "shape": ""
          }
         },
         "name": "Female",
         "offsetgroup": "Female",
         "orientation": "v",
         "showlegend": true,
         "textposition": "auto",
         "type": "bar",
         "x": [
          "Yes",
          "Yes",
          "Yes",
          "Yes",
          "Yes",
          "Yes",
          "Yes",
          "Yes",
          "Yes",
          "Yes",
          "Yes",
          "Yes",
          "Yes",
          "Yes",
          "No",
          "Yes",
          "Yes",
          "Yes",
          "Yes",
          "Yes",
          "No",
          "Yes",
          "Yes",
          "Yes",
          "Yes",
          "Yes",
          "Yes",
          "Yes",
          "Yes",
          "Yes",
          "Yes",
          "Yes",
          "Yes",
          "Yes",
          "No",
          "Yes",
          "Yes",
          "Yes",
          "No",
          "Yes",
          "Yes",
          "No",
          "Yes",
          "Yes",
          "Yes",
          "Yes",
          "Yes",
          "No",
          "Yes",
          "Yes",
          "Yes",
          "Yes",
          "Yes",
          "Yes",
          "Yes",
          "Yes",
          "Yes",
          "Yes",
          "Yes",
          "Yes",
          "Yes",
          "Yes",
          "Yes",
          "Yes",
          "Yes",
          "Yes",
          "Yes",
          "Yes",
          "Yes",
          "Yes",
          "No",
          "No",
          "Yes",
          "Yes",
          "No",
          "Yes",
          "No",
          "Yes",
          "Yes",
          "Yes",
          "Yes",
          "No",
          "Yes",
          "Yes",
          "Yes",
          "Yes",
          "Yes",
          "Yes",
          "No",
          "Yes",
          "Yes",
          "Yes",
          "Yes",
          "Yes",
          "Yes",
          "Yes",
          "Yes",
          "Yes",
          "Yes",
          "Yes",
          "Yes",
          "Yes",
          "Yes",
          "No",
          "Yes",
          "No",
          "No",
          "Yes",
          "Yes",
          "Yes",
          "Yes",
          "Yes",
          "Yes",
          "Yes",
          "Yes",
          "No",
          "Yes",
          "Yes",
          "Yes",
          "Yes",
          "Yes",
          "Yes",
          "Yes",
          "Yes",
          "Yes",
          "Yes",
          "Yes",
          "Yes",
          "Yes",
          "Yes",
          "Yes",
          "Yes",
          "Yes",
          "No",
          "No",
          "No",
          "Yes",
          "Yes",
          "Yes",
          "No",
          "Yes",
          "Yes",
          "Yes",
          "No",
          "Yes",
          "Yes",
          "Yes",
          "Yes",
          "Yes",
          "Yes",
          "Yes",
          "Yes",
          "Yes",
          "Yes",
          "Yes",
          "Yes",
          "Yes",
          "Yes",
          "Yes",
          "Yes",
          "Yes",
          "No",
          "Yes",
          "Yes",
          "Yes",
          "Yes",
          "Yes"
         ],
         "xaxis": "x",
         "y": [
          1,
          1,
          1,
          1,
          1,
          1,
          1,
          1,
          1,
          1,
          1,
          1,
          1,
          1,
          1,
          1,
          1,
          1,
          1,
          1,
          1,
          1,
          1,
          1,
          1,
          1,
          1,
          1,
          1,
          1,
          1,
          1,
          1,
          1,
          1,
          1,
          1,
          1,
          1,
          1,
          1,
          1,
          1,
          1,
          1,
          1,
          1,
          1,
          1,
          1,
          1,
          1,
          1,
          1,
          1,
          1,
          1,
          1,
          1,
          1,
          1,
          1,
          1,
          1,
          1,
          1,
          1,
          1,
          1,
          1,
          1,
          1,
          1,
          1,
          1,
          1,
          1,
          1,
          1,
          1,
          1,
          1,
          1,
          1,
          1,
          1,
          1,
          1,
          1,
          1,
          1,
          1,
          1,
          1,
          1,
          1,
          1,
          1,
          1,
          1,
          1,
          1,
          1,
          1,
          1,
          1,
          1,
          1,
          1,
          1,
          1,
          1,
          1,
          1,
          1,
          1,
          1,
          1,
          1,
          1,
          1,
          1,
          1,
          1,
          1,
          1,
          1,
          1,
          1,
          1,
          1,
          1,
          1,
          1,
          1,
          1,
          1,
          1,
          1,
          1,
          1,
          1,
          1,
          1,
          1,
          1,
          1,
          1,
          1,
          1,
          1,
          1,
          1,
          1,
          1,
          1,
          1,
          1,
          1,
          1,
          1,
          1,
          1,
          1,
          1,
          1,
          1
         ],
         "yaxis": "y"
        },
        {
         "alignmentgroup": "True",
         "hovertemplate": "Gender=Male<br>Competitions?=%{x}<br>count=%{y}<extra></extra>",
         "legendgroup": "Male",
         "marker": {
          "color": "#EF553B",
          "pattern": {
           "shape": ""
          }
         },
         "name": "Male",
         "offsetgroup": "Male",
         "orientation": "v",
         "showlegend": true,
         "textposition": "auto",
         "type": "bar",
         "x": [
          "Yes",
          "Yes",
          "Yes",
          "Yes",
          "Yes",
          "Yes",
          "No",
          "Yes",
          "No",
          "No",
          "Yes",
          "Yes",
          "Yes",
          "Yes",
          "Yes",
          "No",
          "Yes",
          "Yes",
          "Yes",
          "No",
          "Yes",
          "Yes",
          "Yes",
          "Yes",
          "Yes",
          "Yes",
          "Yes",
          "Yes",
          "Yes",
          "Yes",
          "Yes",
          "Yes",
          "Yes",
          "Yes",
          "Yes",
          "No",
          "Yes",
          "Yes",
          "Yes",
          "No",
          "Yes",
          "No",
          "Yes",
          "Yes",
          "Yes",
          "No",
          "Yes",
          "Yes",
          "Yes",
          "Yes",
          "No",
          "Yes",
          "Yes",
          "Yes",
          "No",
          "Yes",
          "Yes",
          "Yes",
          "Yes",
          "Yes",
          "No",
          "Yes",
          "Yes",
          "No",
          "Yes",
          "Yes",
          "No",
          "No",
          "Yes",
          "Yes",
          "Yes",
          "No",
          "Yes",
          "Yes",
          "Yes",
          "Yes",
          "No",
          "Yes",
          "Yes",
          "Yes",
          "Yes",
          "No",
          "Yes",
          "Yes",
          "Yes",
          "Yes",
          "Yes",
          "Yes",
          "Yes",
          "Yes",
          "No",
          "Yes",
          "No",
          "No",
          "Yes",
          "Yes",
          "No",
          "Yes",
          "Yes",
          "Yes",
          "Yes",
          "No",
          "Yes",
          "No",
          "No",
          "Yes",
          "No",
          "Yes",
          "Yes",
          "No",
          "No",
          "Yes",
          "Yes",
          "Yes",
          "Yes",
          "Yes",
          "No",
          "Yes",
          "Yes",
          "Yes",
          "Yes",
          "No",
          "Yes",
          "Yes",
          "Yes",
          "Yes",
          "Yes",
          "No",
          "Yes",
          "Yes",
          "Yes",
          "Yes",
          "Yes",
          "Yes",
          "Yes",
          "No",
          "Yes",
          "No",
          "Yes",
          "No",
          "Yes",
          "Yes",
          "Yes",
          "Yes",
          "No",
          "No",
          "Yes",
          "Yes",
          "No",
          "No",
          "Yes",
          "Yes",
          "Yes",
          "Yes",
          "Yes",
          "Yes",
          "Yes",
          "Yes",
          "Yes",
          "Yes",
          "No"
         ],
         "xaxis": "x",
         "y": [
          1,
          1,
          1,
          1,
          1,
          1,
          1,
          1,
          1,
          1,
          1,
          1,
          1,
          1,
          1,
          1,
          1,
          1,
          1,
          1,
          1,
          1,
          1,
          1,
          1,
          1,
          1,
          1,
          1,
          1,
          1,
          1,
          1,
          1,
          1,
          1,
          1,
          1,
          1,
          1,
          1,
          1,
          1,
          1,
          1,
          1,
          1,
          1,
          1,
          1,
          1,
          1,
          1,
          1,
          1,
          1,
          1,
          1,
          1,
          1,
          1,
          1,
          1,
          1,
          1,
          1,
          1,
          1,
          1,
          1,
          1,
          1,
          1,
          1,
          1,
          1,
          1,
          1,
          1,
          1,
          1,
          1,
          1,
          1,
          1,
          1,
          1,
          1,
          1,
          1,
          1,
          1,
          1,
          1,
          1,
          1,
          1,
          1,
          1,
          1,
          1,
          1,
          1,
          1,
          1,
          1,
          1,
          1,
          1,
          1,
          1,
          1,
          1,
          1,
          1,
          1,
          1,
          1,
          1,
          1,
          1,
          1,
          1,
          1,
          1,
          1,
          1,
          1,
          1,
          1,
          1,
          1,
          1,
          1,
          1,
          1,
          1,
          1,
          1,
          1,
          1,
          1,
          1,
          1,
          1,
          1,
          1,
          1,
          1,
          1,
          1,
          1,
          1,
          1,
          1,
          1,
          1,
          1,
          1,
          1,
          1
         ],
         "yaxis": "y"
        }
       ],
       "layout": {
        "barmode": "group",
        "legend": {
         "title": {
          "text": "Gender"
         },
         "tracegroupgap": 0
        },
        "template": {
         "data": {
          "bar": [
           {
            "error_x": {
             "color": "#2a3f5f"
            },
            "error_y": {
             "color": "#2a3f5f"
            },
            "marker": {
             "line": {
              "color": "#E5ECF6",
              "width": 0.5
             },
             "pattern": {
              "fillmode": "overlay",
              "size": 10,
              "solidity": 0.2
             }
            },
            "type": "bar"
           }
          ],
          "barpolar": [
           {
            "marker": {
             "line": {
              "color": "#E5ECF6",
              "width": 0.5
             },
             "pattern": {
              "fillmode": "overlay",
              "size": 10,
              "solidity": 0.2
             }
            },
            "type": "barpolar"
           }
          ],
          "carpet": [
           {
            "aaxis": {
             "endlinecolor": "#2a3f5f",
             "gridcolor": "white",
             "linecolor": "white",
             "minorgridcolor": "white",
             "startlinecolor": "#2a3f5f"
            },
            "baxis": {
             "endlinecolor": "#2a3f5f",
             "gridcolor": "white",
             "linecolor": "white",
             "minorgridcolor": "white",
             "startlinecolor": "#2a3f5f"
            },
            "type": "carpet"
           }
          ],
          "choropleth": [
           {
            "colorbar": {
             "outlinewidth": 0,
             "ticks": ""
            },
            "type": "choropleth"
           }
          ],
          "contour": [
           {
            "colorbar": {
             "outlinewidth": 0,
             "ticks": ""
            },
            "colorscale": [
             [
              0,
              "#0d0887"
             ],
             [
              0.1111111111111111,
              "#46039f"
             ],
             [
              0.2222222222222222,
              "#7201a8"
             ],
             [
              0.3333333333333333,
              "#9c179e"
             ],
             [
              0.4444444444444444,
              "#bd3786"
             ],
             [
              0.5555555555555556,
              "#d8576b"
             ],
             [
              0.6666666666666666,
              "#ed7953"
             ],
             [
              0.7777777777777778,
              "#fb9f3a"
             ],
             [
              0.8888888888888888,
              "#fdca26"
             ],
             [
              1,
              "#f0f921"
             ]
            ],
            "type": "contour"
           }
          ],
          "contourcarpet": [
           {
            "colorbar": {
             "outlinewidth": 0,
             "ticks": ""
            },
            "type": "contourcarpet"
           }
          ],
          "heatmap": [
           {
            "colorbar": {
             "outlinewidth": 0,
             "ticks": ""
            },
            "colorscale": [
             [
              0,
              "#0d0887"
             ],
             [
              0.1111111111111111,
              "#46039f"
             ],
             [
              0.2222222222222222,
              "#7201a8"
             ],
             [
              0.3333333333333333,
              "#9c179e"
             ],
             [
              0.4444444444444444,
              "#bd3786"
             ],
             [
              0.5555555555555556,
              "#d8576b"
             ],
             [
              0.6666666666666666,
              "#ed7953"
             ],
             [
              0.7777777777777778,
              "#fb9f3a"
             ],
             [
              0.8888888888888888,
              "#fdca26"
             ],
             [
              1,
              "#f0f921"
             ]
            ],
            "type": "heatmap"
           }
          ],
          "heatmapgl": [
           {
            "colorbar": {
             "outlinewidth": 0,
             "ticks": ""
            },
            "colorscale": [
             [
              0,
              "#0d0887"
             ],
             [
              0.1111111111111111,
              "#46039f"
             ],
             [
              0.2222222222222222,
              "#7201a8"
             ],
             [
              0.3333333333333333,
              "#9c179e"
             ],
             [
              0.4444444444444444,
              "#bd3786"
             ],
             [
              0.5555555555555556,
              "#d8576b"
             ],
             [
              0.6666666666666666,
              "#ed7953"
             ],
             [
              0.7777777777777778,
              "#fb9f3a"
             ],
             [
              0.8888888888888888,
              "#fdca26"
             ],
             [
              1,
              "#f0f921"
             ]
            ],
            "type": "heatmapgl"
           }
          ],
          "histogram": [
           {
            "marker": {
             "pattern": {
              "fillmode": "overlay",
              "size": 10,
              "solidity": 0.2
             }
            },
            "type": "histogram"
           }
          ],
          "histogram2d": [
           {
            "colorbar": {
             "outlinewidth": 0,
             "ticks": ""
            },
            "colorscale": [
             [
              0,
              "#0d0887"
             ],
             [
              0.1111111111111111,
              "#46039f"
             ],
             [
              0.2222222222222222,
              "#7201a8"
             ],
             [
              0.3333333333333333,
              "#9c179e"
             ],
             [
              0.4444444444444444,
              "#bd3786"
             ],
             [
              0.5555555555555556,
              "#d8576b"
             ],
             [
              0.6666666666666666,
              "#ed7953"
             ],
             [
              0.7777777777777778,
              "#fb9f3a"
             ],
             [
              0.8888888888888888,
              "#fdca26"
             ],
             [
              1,
              "#f0f921"
             ]
            ],
            "type": "histogram2d"
           }
          ],
          "histogram2dcontour": [
           {
            "colorbar": {
             "outlinewidth": 0,
             "ticks": ""
            },
            "colorscale": [
             [
              0,
              "#0d0887"
             ],
             [
              0.1111111111111111,
              "#46039f"
             ],
             [
              0.2222222222222222,
              "#7201a8"
             ],
             [
              0.3333333333333333,
              "#9c179e"
             ],
             [
              0.4444444444444444,
              "#bd3786"
             ],
             [
              0.5555555555555556,
              "#d8576b"
             ],
             [
              0.6666666666666666,
              "#ed7953"
             ],
             [
              0.7777777777777778,
              "#fb9f3a"
             ],
             [
              0.8888888888888888,
              "#fdca26"
             ],
             [
              1,
              "#f0f921"
             ]
            ],
            "type": "histogram2dcontour"
           }
          ],
          "mesh3d": [
           {
            "colorbar": {
             "outlinewidth": 0,
             "ticks": ""
            },
            "type": "mesh3d"
           }
          ],
          "parcoords": [
           {
            "line": {
             "colorbar": {
              "outlinewidth": 0,
              "ticks": ""
             }
            },
            "type": "parcoords"
           }
          ],
          "pie": [
           {
            "automargin": true,
            "type": "pie"
           }
          ],
          "scatter": [
           {
            "marker": {
             "colorbar": {
              "outlinewidth": 0,
              "ticks": ""
             }
            },
            "type": "scatter"
           }
          ],
          "scatter3d": [
           {
            "line": {
             "colorbar": {
              "outlinewidth": 0,
              "ticks": ""
             }
            },
            "marker": {
             "colorbar": {
              "outlinewidth": 0,
              "ticks": ""
             }
            },
            "type": "scatter3d"
           }
          ],
          "scattercarpet": [
           {
            "marker": {
             "colorbar": {
              "outlinewidth": 0,
              "ticks": ""
             }
            },
            "type": "scattercarpet"
           }
          ],
          "scattergeo": [
           {
            "marker": {
             "colorbar": {
              "outlinewidth": 0,
              "ticks": ""
             }
            },
            "type": "scattergeo"
           }
          ],
          "scattergl": [
           {
            "marker": {
             "colorbar": {
              "outlinewidth": 0,
              "ticks": ""
             }
            },
            "type": "scattergl"
           }
          ],
          "scattermapbox": [
           {
            "marker": {
             "colorbar": {
              "outlinewidth": 0,
              "ticks": ""
             }
            },
            "type": "scattermapbox"
           }
          ],
          "scatterpolar": [
           {
            "marker": {
             "colorbar": {
              "outlinewidth": 0,
              "ticks": ""
             }
            },
            "type": "scatterpolar"
           }
          ],
          "scatterpolargl": [
           {
            "marker": {
             "colorbar": {
              "outlinewidth": 0,
              "ticks": ""
             }
            },
            "type": "scatterpolargl"
           }
          ],
          "scatterternary": [
           {
            "marker": {
             "colorbar": {
              "outlinewidth": 0,
              "ticks": ""
             }
            },
            "type": "scatterternary"
           }
          ],
          "surface": [
           {
            "colorbar": {
             "outlinewidth": 0,
             "ticks": ""
            },
            "colorscale": [
             [
              0,
              "#0d0887"
             ],
             [
              0.1111111111111111,
              "#46039f"
             ],
             [
              0.2222222222222222,
              "#7201a8"
             ],
             [
              0.3333333333333333,
              "#9c179e"
             ],
             [
              0.4444444444444444,
              "#bd3786"
             ],
             [
              0.5555555555555556,
              "#d8576b"
             ],
             [
              0.6666666666666666,
              "#ed7953"
             ],
             [
              0.7777777777777778,
              "#fb9f3a"
             ],
             [
              0.8888888888888888,
              "#fdca26"
             ],
             [
              1,
              "#f0f921"
             ]
            ],
            "type": "surface"
           }
          ],
          "table": [
           {
            "cells": {
             "fill": {
              "color": "#EBF0F8"
             },
             "line": {
              "color": "white"
             }
            },
            "header": {
             "fill": {
              "color": "#C8D4E3"
             },
             "line": {
              "color": "white"
             }
            },
            "type": "table"
           }
          ]
         },
         "layout": {
          "annotationdefaults": {
           "arrowcolor": "#2a3f5f",
           "arrowhead": 0,
           "arrowwidth": 1
          },
          "autotypenumbers": "strict",
          "coloraxis": {
           "colorbar": {
            "outlinewidth": 0,
            "ticks": ""
           }
          },
          "colorscale": {
           "diverging": [
            [
             0,
             "#8e0152"
            ],
            [
             0.1,
             "#c51b7d"
            ],
            [
             0.2,
             "#de77ae"
            ],
            [
             0.3,
             "#f1b6da"
            ],
            [
             0.4,
             "#fde0ef"
            ],
            [
             0.5,
             "#f7f7f7"
            ],
            [
             0.6,
             "#e6f5d0"
            ],
            [
             0.7,
             "#b8e186"
            ],
            [
             0.8,
             "#7fbc41"
            ],
            [
             0.9,
             "#4d9221"
            ],
            [
             1,
             "#276419"
            ]
           ],
           "sequential": [
            [
             0,
             "#0d0887"
            ],
            [
             0.1111111111111111,
             "#46039f"
            ],
            [
             0.2222222222222222,
             "#7201a8"
            ],
            [
             0.3333333333333333,
             "#9c179e"
            ],
            [
             0.4444444444444444,
             "#bd3786"
            ],
            [
             0.5555555555555556,
             "#d8576b"
            ],
            [
             0.6666666666666666,
             "#ed7953"
            ],
            [
             0.7777777777777778,
             "#fb9f3a"
            ],
            [
             0.8888888888888888,
             "#fdca26"
            ],
            [
             1,
             "#f0f921"
            ]
           ],
           "sequentialminus": [
            [
             0,
             "#0d0887"
            ],
            [
             0.1111111111111111,
             "#46039f"
            ],
            [
             0.2222222222222222,
             "#7201a8"
            ],
            [
             0.3333333333333333,
             "#9c179e"
            ],
            [
             0.4444444444444444,
             "#bd3786"
            ],
            [
             0.5555555555555556,
             "#d8576b"
            ],
            [
             0.6666666666666666,
             "#ed7953"
            ],
            [
             0.7777777777777778,
             "#fb9f3a"
            ],
            [
             0.8888888888888888,
             "#fdca26"
            ],
            [
             1,
             "#f0f921"
            ]
           ]
          },
          "colorway": [
           "#636efa",
           "#EF553B",
           "#00cc96",
           "#ab63fa",
           "#FFA15A",
           "#19d3f3",
           "#FF6692",
           "#B6E880",
           "#FF97FF",
           "#FECB52"
          ],
          "font": {
           "color": "#2a3f5f"
          },
          "geo": {
           "bgcolor": "white",
           "lakecolor": "white",
           "landcolor": "#E5ECF6",
           "showlakes": true,
           "showland": true,
           "subunitcolor": "white"
          },
          "hoverlabel": {
           "align": "left"
          },
          "hovermode": "closest",
          "mapbox": {
           "style": "light"
          },
          "paper_bgcolor": "white",
          "plot_bgcolor": "#E5ECF6",
          "polar": {
           "angularaxis": {
            "gridcolor": "white",
            "linecolor": "white",
            "ticks": ""
           },
           "bgcolor": "#E5ECF6",
           "radialaxis": {
            "gridcolor": "white",
            "linecolor": "white",
            "ticks": ""
           }
          },
          "scene": {
           "xaxis": {
            "backgroundcolor": "#E5ECF6",
            "gridcolor": "white",
            "gridwidth": 2,
            "linecolor": "white",
            "showbackground": true,
            "ticks": "",
            "zerolinecolor": "white"
           },
           "yaxis": {
            "backgroundcolor": "#E5ECF6",
            "gridcolor": "white",
            "gridwidth": 2,
            "linecolor": "white",
            "showbackground": true,
            "ticks": "",
            "zerolinecolor": "white"
           },
           "zaxis": {
            "backgroundcolor": "#E5ECF6",
            "gridcolor": "white",
            "gridwidth": 2,
            "linecolor": "white",
            "showbackground": true,
            "ticks": "",
            "zerolinecolor": "white"
           }
          },
          "shapedefaults": {
           "line": {
            "color": "#2a3f5f"
           }
          },
          "ternary": {
           "aaxis": {
            "gridcolor": "white",
            "linecolor": "white",
            "ticks": ""
           },
           "baxis": {
            "gridcolor": "white",
            "linecolor": "white",
            "ticks": ""
           },
           "bgcolor": "#E5ECF6",
           "caxis": {
            "gridcolor": "white",
            "linecolor": "white",
            "ticks": ""
           }
          },
          "title": {
           "x": 0.05
          },
          "xaxis": {
           "automargin": true,
           "gridcolor": "white",
           "linecolor": "white",
           "ticks": "",
           "title": {
            "standoff": 15
           },
           "zerolinecolor": "white",
           "zerolinewidth": 2
          },
          "yaxis": {
           "automargin": true,
           "gridcolor": "white",
           "linecolor": "white",
           "ticks": "",
           "title": {
            "standoff": 15
           },
           "zerolinecolor": "white",
           "zerolinewidth": 2
          }
         }
        },
        "title": {
         "text": "How Many Wants FM to join Competition"
        },
        "xaxis": {
         "anchor": "y",
         "domain": [
          0,
          1
         ],
         "title": {
          "text": "Competitions?"
         }
        },
        "yaxis": {
         "anchor": "x",
         "domain": [
          0,
          1
         ],
         "title": {
          "text": "count"
         }
        }
       }
      }
     },
     "metadata": {},
     "output_type": "display_data"
    }
   ],
   "source": [
    "px.bar(df, x='Competitions?',  color='Gender', barmode='group', title='How Many Wants FM to join Competition')"
   ]
  },
  {
   "cell_type": "markdown",
   "metadata": {},
   "source": [
    "## **RESULT**\n",
    "**-> Around 140 females and 120 males wants that FM should start with competitions session**\n",
    "**-> and 20 females and 40 males don't want any competition**"
   ]
  },
  {
   "cell_type": "code",
   "execution_count": 78,
   "metadata": {},
   "outputs": [
    {
     "data": {
      "application/vnd.plotly.v1+json": {
       "config": {
        "plotlyServerURL": "https://plot.ly"
       },
       "data": [
        {
         "alignmentgroup": "True",
         "hovertemplate": "Age=21<br>Gender=%{x}<br>Listening_time=%{y}<extra></extra>",
         "legendgroup": "21",
         "marker": {
          "color": "#636efa"
         },
         "name": "21",
         "notched": false,
         "offsetgroup": "21",
         "orientation": "v",
         "showlegend": true,
         "type": "box",
         "x": [
          "Female",
          "Male",
          "Male",
          "Female",
          "Female",
          "Female",
          "Female",
          "Female",
          "Female",
          "Male",
          "Female",
          "Male",
          "Female",
          "Female",
          "Male",
          "Female",
          "Male",
          "Female",
          "Male",
          "Female",
          "Female",
          "Male",
          "Male",
          "Male",
          "Male",
          "Male",
          "Male",
          "Female",
          "Female",
          "Male",
          "Female",
          "Male",
          "Female",
          "Female",
          "Female",
          "Male",
          "Male",
          "Male",
          "Male",
          "Male",
          "Female",
          "Female",
          "Female",
          "Male",
          "Female",
          "Female",
          "Male",
          "Male",
          "Female",
          "Male",
          "Female",
          "Female",
          "Female",
          "Male",
          "Male",
          "Male",
          "Female",
          "Female",
          "Female",
          "Female",
          "Male",
          "Male",
          "Male",
          "Male",
          "Female",
          "Female",
          "Female",
          "Female",
          "Male",
          "Female",
          "Female",
          "Female",
          "Female",
          "Male",
          "Male",
          "Female",
          "Female",
          "Male",
          "Male",
          "Female",
          "Male",
          "Male",
          "Female",
          "Female",
          "Female",
          "Male",
          "Male",
          "Male",
          "Female",
          "Male",
          "Male",
          "Male",
          "Male",
          "Male",
          "Male",
          "Male",
          "Male",
          "Female",
          "Female",
          "Female",
          "Male",
          "Male",
          "Male",
          "Male",
          "Female",
          "Male",
          "Female",
          "Female",
          "Male",
          "Male",
          "Male",
          "Male",
          "Male",
          "Female",
          "Female"
         ],
         "x0": " ",
         "xaxis": "x",
         "y": [
          "Evening",
          "Night",
          "Night",
          "Morning",
          "Morning;Evening",
          "Morning;Afternoon",
          "Morning",
          "Morning",
          "Afternoon",
          "Morning",
          "Morning",
          "Evening",
          "Night",
          "Morning",
          "Night",
          "Morning;Afternoon",
          "Evening",
          "Morning;Night",
          "Morning;Afternoon",
          "Morning;Evening",
          "Night",
          "Morning;Afternoon",
          "Evening",
          "Evening;Night",
          "Morning",
          "Evening",
          "Morning",
          "Evening",
          "Morning;Evening",
          "Night",
          "Afternoon",
          "Night",
          "Afternoon",
          "Afternoon",
          "Morning;Afternoon",
          "Evening",
          "Night",
          "Evening",
          "Night",
          "Night",
          "Night",
          "Morning",
          "Night",
          "Morning;Afternoon;Evening;Night",
          "Afternoon",
          "Morning",
          "Morning",
          "Morning",
          "Afternoon",
          "Night",
          "Night",
          "Night",
          "Night",
          "Morning",
          "Night",
          "Morning;Afternoon",
          "Evening",
          "Evening",
          "Morning",
          "Evening",
          "Evening",
          "Morning",
          "Evening",
          "Night",
          "Afternoon",
          "Night",
          "Evening;Night",
          "Night",
          "Evening",
          "Evening",
          "Morning",
          "Morning;Night",
          "Morning",
          "Morning",
          "Night",
          "Evening;Night",
          "Evening",
          "Afternoon",
          "Evening",
          "Afternoon",
          "Evening",
          "Evening",
          "Morning",
          "Morning",
          "Evening",
          "Morning",
          "Morning",
          "Evening",
          "Evening",
          "Evening",
          "Night",
          "Morning;Afternoon;Evening;Night",
          "Night",
          "Morning",
          "Morning",
          "Night",
          "Morning;Afternoon;Evening;Night",
          "Morning",
          "Evening",
          "Evening;Night",
          "Night",
          "Morning",
          "Morning",
          "Evening",
          "Night",
          "Night",
          "Morning;Evening",
          "Afternoon;Night",
          "Afternoon",
          "Morning",
          "Evening",
          "Evening",
          "Night",
          "Night",
          "Evening"
         ],
         "y0": " ",
         "yaxis": "y"
        },
        {
         "alignmentgroup": "True",
         "hovertemplate": "Age=26<br>Gender=%{x}<br>Listening_time=%{y}<extra></extra>",
         "legendgroup": "26",
         "marker": {
          "color": "#EF553B"
         },
         "name": "26",
         "notched": false,
         "offsetgroup": "26",
         "orientation": "v",
         "showlegend": true,
         "type": "box",
         "x": [
          "Female",
          "Female"
         ],
         "x0": " ",
         "xaxis": "x",
         "y": [
          "Night",
          "Morning"
         ],
         "y0": " ",
         "yaxis": "y"
        },
        {
         "alignmentgroup": "True",
         "hovertemplate": "Age=20<br>Gender=%{x}<br>Listening_time=%{y}<extra></extra>",
         "legendgroup": "20",
         "marker": {
          "color": "#00cc96"
         },
         "name": "20",
         "notched": false,
         "offsetgroup": "20",
         "orientation": "v",
         "showlegend": true,
         "type": "box",
         "x": [
          "Male",
          "Male",
          "Male",
          "Female",
          "Female",
          "Female",
          "Female",
          "Male",
          "Female",
          "Female",
          "Male",
          "Male",
          "Male",
          "Male",
          "Male",
          "Female",
          "Male",
          "Female",
          "Male",
          "Female",
          "Male",
          "Male",
          "Female",
          "Male",
          "Female",
          "Female",
          "Male",
          "Female",
          "Male",
          "Male",
          "Female",
          "Female",
          "Female",
          "Female",
          "Male",
          "Male",
          "Male",
          "Male",
          "Female",
          "Female",
          "Female",
          "Female",
          "Female",
          "Female",
          "Female",
          "Female",
          "Female",
          "Female",
          "Female",
          "Female",
          "Male",
          "Female",
          "Male",
          "Male",
          "Male",
          "Female",
          "Female",
          "Male",
          "Male",
          "Female",
          "Female",
          "Female",
          "Female",
          "Female",
          "Male",
          "Male",
          "Female",
          "Male",
          "Female",
          "Female",
          "Male",
          "Female",
          "Female",
          "Male",
          "Female",
          "Male",
          "Male",
          "Female",
          "Male",
          "Male",
          "Female",
          "Female",
          "Female",
          "Female",
          "Female",
          "Female",
          "Male",
          "Female",
          "Male",
          "Male"
         ],
         "x0": " ",
         "xaxis": "x",
         "y": [
          "Evening",
          "Night",
          "Night",
          "Night",
          "Afternoon",
          "Evening",
          "Morning",
          "Evening",
          "Afternoon",
          "Evening",
          "Night",
          "Morning",
          "Night",
          "Night",
          "Evening;Night",
          "Night",
          "Afternoon",
          "Morning;Evening",
          "Evening",
          "Morning",
          "Evening",
          "Morning",
          "Night",
          "Evening",
          "Morning",
          "Morning;Evening",
          "Night",
          "Morning",
          "Evening",
          "Evening",
          "Morning",
          "Night",
          "Evening",
          "Night",
          "Morning;Night",
          "Evening",
          "Morning;Night",
          "Afternoon;Evening",
          "Evening",
          "Morning",
          "Morning",
          "Morning",
          "Morning",
          "Morning;Afternoon;Evening;Night",
          "Morning",
          "Morning",
          "Morning",
          "Morning;Evening",
          "Evening",
          "Evening;Night",
          "Night",
          "Afternoon",
          "Afternoon",
          "Evening",
          "Evening",
          "Night",
          "Evening;Night",
          "Night",
          "Evening",
          "Evening",
          "Morning",
          "Evening",
          "Morning",
          "Morning",
          "Evening",
          "Morning;Evening",
          "Night",
          "Evening",
          "Morning",
          "Morning",
          "Morning;Afternoon;Evening;Night",
          "Evening",
          "Morning",
          "Evening",
          "Afternoon",
          "Morning;Evening;Night",
          "Night",
          "Morning",
          "Night",
          "Evening",
          "Evening",
          "Morning",
          "Afternoon",
          "Morning",
          "Evening",
          "Night",
          "Morning",
          "Evening",
          "Evening",
          "Night"
         ],
         "y0": " ",
         "yaxis": "y"
        },
        {
         "alignmentgroup": "True",
         "hovertemplate": "Age=22<br>Gender=%{x}<br>Listening_time=%{y}<extra></extra>",
         "legendgroup": "22",
         "marker": {
          "color": "#ab63fa"
         },
         "name": "22",
         "notched": false,
         "offsetgroup": "22",
         "orientation": "v",
         "showlegend": true,
         "type": "box",
         "x": [
          "Male",
          "Male",
          "Male",
          "Male",
          "Male",
          "Male",
          "Male",
          "Male",
          "Male",
          "Male",
          "Female",
          "Female",
          "Female",
          "Male",
          "Male",
          "Male",
          "Female",
          "Male",
          "Male",
          "Male",
          "Female",
          "Male",
          "Male",
          "Female",
          "Male",
          "Male",
          "Female",
          "Male",
          "Male",
          "Female",
          "Female",
          "Female",
          "Male",
          "Male",
          "Female",
          "Female",
          "Female",
          "Male"
         ],
         "x0": " ",
         "xaxis": "x",
         "y": [
          "Night",
          "Morning",
          "Morning;Night",
          "Morning",
          "Night",
          "Morning",
          "Night",
          "Night",
          "Morning;Afternoon;Evening;Night",
          "Evening",
          "Night",
          "Night",
          "Evening",
          "Evening;Night",
          "Morning",
          "Morning",
          "Afternoon",
          "Night",
          "Night",
          "Afternoon",
          "Night",
          "Morning",
          "Morning;Afternoon;Evening;Night",
          "Morning",
          "Morning",
          "Night",
          "Evening",
          "Morning",
          "Night",
          "Afternoon",
          "Morning",
          "Morning;Evening",
          "Morning",
          "Morning;Afternoon;Evening;Night",
          "Night",
          "Morning;Afternoon",
          "Morning",
          "Morning;Night"
         ],
         "y0": " ",
         "yaxis": "y"
        },
        {
         "alignmentgroup": "True",
         "hovertemplate": "Age=19<br>Gender=%{x}<br>Listening_time=%{y}<extra></extra>",
         "legendgroup": "19",
         "marker": {
          "color": "#FFA15A"
         },
         "name": "19",
         "notched": false,
         "offsetgroup": "19",
         "orientation": "v",
         "showlegend": true,
         "type": "box",
         "x": [
          "Female",
          "Female",
          "Male",
          "Male",
          "Male",
          "Male",
          "Female",
          "Male",
          "Male",
          "Male",
          "Female",
          "Female",
          "Male",
          "Male",
          "Male",
          "Female",
          "Male",
          "Female",
          "Female",
          "Female",
          "Female",
          "Female",
          "Female",
          "Female",
          "Female",
          "Female",
          "Female",
          "Male",
          "Female",
          "Female",
          "Male",
          "Female",
          "Male",
          "Male",
          "Male",
          "Male",
          "Male",
          "Female",
          "Male"
         ],
         "x0": " ",
         "xaxis": "x",
         "y": [
          "Morning",
          "Night",
          "Evening",
          "Morning",
          "Morning",
          "Morning",
          "Morning",
          "Evening",
          "Morning;Afternoon;Evening;Night",
          "Afternoon",
          "Evening",
          "Evening",
          "Afternoon",
          "Night",
          "Night",
          "Afternoon",
          "Morning",
          "Morning",
          "Afternoon",
          "Night",
          "Evening",
          "Afternoon",
          "Night",
          "Night",
          "Night",
          "Night",
          "Morning",
          "Afternoon",
          "Afternoon",
          "Morning",
          "Evening",
          "Night",
          "Evening;Night",
          "Night",
          "Morning",
          "Morning",
          "Afternoon",
          "Morning",
          "Morning;Evening"
         ],
         "y0": " ",
         "yaxis": "y"
        },
        {
         "alignmentgroup": "True",
         "hovertemplate": "Age=18<br>Gender=%{x}<br>Listening_time=%{y}<extra></extra>",
         "legendgroup": "18",
         "marker": {
          "color": "#19d3f3"
         },
         "name": "18",
         "notched": false,
         "offsetgroup": "18",
         "orientation": "v",
         "showlegend": true,
         "type": "box",
         "x": [
          "Female",
          "Female",
          "Male",
          "Female",
          "Female",
          "Female",
          "Male",
          "Male",
          "Male",
          "Female",
          "Female",
          "Female",
          "Male",
          "Male",
          "Female",
          "Female"
         ],
         "x0": " ",
         "xaxis": "x",
         "y": [
          "Morning",
          "Morning",
          "Night",
          "Evening",
          "Evening",
          "Night",
          "Evening",
          "Morning;Afternoon;Evening;Night",
          "Evening",
          "Evening",
          "Evening",
          "Morning",
          "Afternoon",
          "Night",
          "Evening",
          "Morning"
         ],
         "y0": " ",
         "yaxis": "y"
        },
        {
         "alignmentgroup": "True",
         "hovertemplate": "Age=19 years <br>Gender=%{x}<br>Listening_time=%{y}<extra></extra>",
         "legendgroup": "19 years ",
         "marker": {
          "color": "#FF6692"
         },
         "name": "19 years ",
         "notched": false,
         "offsetgroup": "19 years ",
         "orientation": "v",
         "showlegend": true,
         "type": "box",
         "x": [
          "Male",
          "Female"
         ],
         "x0": " ",
         "xaxis": "x",
         "y": [
          "Evening",
          "Evening"
         ],
         "y0": " ",
         "yaxis": "y"
        },
        {
         "alignmentgroup": "True",
         "hovertemplate": "Age=24<br>Gender=%{x}<br>Listening_time=%{y}<extra></extra>",
         "legendgroup": "24",
         "marker": {
          "color": "#B6E880"
         },
         "name": "24",
         "notched": false,
         "offsetgroup": "24",
         "orientation": "v",
         "showlegend": true,
         "type": "box",
         "x": [
          "Male",
          "Male",
          "Female",
          "Male",
          "Female",
          "Female"
         ],
         "x0": " ",
         "xaxis": "x",
         "y": [
          "Night",
          "Evening",
          "Evening",
          "Evening",
          "Evening",
          "Morning"
         ],
         "y0": " ",
         "yaxis": "y"
        },
        {
         "alignmentgroup": "True",
         "hovertemplate": "Age=23<br>Gender=%{x}<br>Listening_time=%{y}<extra></extra>",
         "legendgroup": "23",
         "marker": {
          "color": "#FF97FF"
         },
         "name": "23",
         "notched": false,
         "offsetgroup": "23",
         "orientation": "v",
         "showlegend": true,
         "type": "box",
         "x": [
          "Female",
          "Male",
          "Male",
          "Female",
          "Male",
          "Male",
          "Female",
          "Male"
         ],
         "x0": " ",
         "xaxis": "x",
         "y": [
          "Evening;Night",
          "Night",
          "Evening",
          "Afternoon",
          "Evening",
          "Night",
          "Night",
          "Afternoon"
         ],
         "y0": " ",
         "yaxis": "y"
        },
        {
         "alignmentgroup": "True",
         "hovertemplate": "Age=Wq<br>Gender=%{x}<br>Listening_time=%{y}<extra></extra>",
         "legendgroup": "Wq",
         "marker": {
          "color": "#FECB52"
         },
         "name": "Wq",
         "notched": false,
         "offsetgroup": "Wq",
         "orientation": "v",
         "showlegend": true,
         "type": "box",
         "x": [
          "Male"
         ],
         "x0": " ",
         "xaxis": "x",
         "y": [
          "Morning;Evening"
         ],
         "y0": " ",
         "yaxis": "y"
        },
        {
         "alignmentgroup": "True",
         "hovertemplate": "Age=29<br>Gender=%{x}<br>Listening_time=%{y}<extra></extra>",
         "legendgroup": "29",
         "marker": {
          "color": "#636efa"
         },
         "name": "29",
         "notched": false,
         "offsetgroup": "29",
         "orientation": "v",
         "showlegend": true,
         "type": "box",
         "x": [
          "Female"
         ],
         "x0": " ",
         "xaxis": "x",
         "y": [
          "Night"
         ],
         "y0": " ",
         "yaxis": "y"
        },
        {
         "alignmentgroup": "True",
         "hovertemplate": "Age=20 Years<br>Gender=%{x}<br>Listening_time=%{y}<extra></extra>",
         "legendgroup": "20 Years",
         "marker": {
          "color": "#EF553B"
         },
         "name": "20 Years",
         "notched": false,
         "offsetgroup": "20 Years",
         "orientation": "v",
         "showlegend": true,
         "type": "box",
         "x": [
          "Male"
         ],
         "x0": " ",
         "xaxis": "x",
         "y": [
          "Evening"
         ],
         "y0": " ",
         "yaxis": "y"
        },
        {
         "alignmentgroup": "True",
         "hovertemplate": "Age=25<br>Gender=%{x}<br>Listening_time=%{y}<extra></extra>",
         "legendgroup": "25",
         "marker": {
          "color": "#00cc96"
         },
         "name": "25",
         "notched": false,
         "offsetgroup": "25",
         "orientation": "v",
         "showlegend": true,
         "type": "box",
         "x": [
          "Female",
          "Female"
         ],
         "x0": " ",
         "xaxis": "x",
         "y": [
          "Evening",
          "Morning"
         ],
         "y0": " ",
         "yaxis": "y"
        },
        {
         "alignmentgroup": "True",
         "hovertemplate": "Age=19 years<br>Gender=%{x}<br>Listening_time=%{y}<extra></extra>",
         "legendgroup": "19 years",
         "marker": {
          "color": "#ab63fa"
         },
         "name": "19 years",
         "notched": false,
         "offsetgroup": "19 years",
         "orientation": "v",
         "showlegend": true,
         "type": "box",
         "x": [
          "Female"
         ],
         "x0": " ",
         "xaxis": "x",
         "y": [
          "Evening"
         ],
         "y0": " ",
         "yaxis": "y"
        },
        {
         "alignmentgroup": "True",
         "hovertemplate": "Age=20 years<br>Gender=%{x}<br>Listening_time=%{y}<extra></extra>",
         "legendgroup": "20 years",
         "marker": {
          "color": "#FFA15A"
         },
         "name": "20 years",
         "notched": false,
         "offsetgroup": "20 years",
         "orientation": "v",
         "showlegend": true,
         "type": "box",
         "x": [
          "Female"
         ],
         "x0": " ",
         "xaxis": "x",
         "y": [
          "Evening"
         ],
         "y0": " ",
         "yaxis": "y"
        },
        {
         "alignmentgroup": "True",
         "hovertemplate": "Age=35<br>Gender=%{x}<br>Listening_time=%{y}<extra></extra>",
         "legendgroup": "35",
         "marker": {
          "color": "#19d3f3"
         },
         "name": "35",
         "notched": false,
         "offsetgroup": "35",
         "orientation": "v",
         "showlegend": true,
         "type": "box",
         "x": [
          "Male"
         ],
         "x0": " ",
         "xaxis": "x",
         "y": [
          "Evening;Night"
         ],
         "y0": " ",
         "yaxis": "y"
        },
        {
         "alignmentgroup": "True",
         "hovertemplate": "Age=21 years old<br>Gender=%{x}<br>Listening_time=%{y}<extra></extra>",
         "legendgroup": "21 years old",
         "marker": {
          "color": "#FF6692"
         },
         "name": "21 years old",
         "notched": false,
         "offsetgroup": "21 years old",
         "orientation": "v",
         "showlegend": true,
         "type": "box",
         "x": [
          "Female"
         ],
         "x0": " ",
         "xaxis": "x",
         "y": [
          "Night"
         ],
         "y0": " ",
         "yaxis": "y"
        },
        {
         "alignmentgroup": "True",
         "hovertemplate": "Age=14<br>Gender=%{x}<br>Listening_time=%{y}<extra></extra>",
         "legendgroup": "14",
         "marker": {
          "color": "#B6E880"
         },
         "name": "14",
         "notched": false,
         "offsetgroup": "14",
         "orientation": "v",
         "showlegend": true,
         "type": "box",
         "x": [
          "Female"
         ],
         "x0": " ",
         "xaxis": "x",
         "y": [
          "Afternoon"
         ],
         "y0": " ",
         "yaxis": "y"
        },
        {
         "alignmentgroup": "True",
         "hovertemplate": "Age=17<br>Gender=%{x}<br>Listening_time=%{y}<extra></extra>",
         "legendgroup": "17",
         "marker": {
          "color": "#FF97FF"
         },
         "name": "17",
         "notched": false,
         "offsetgroup": "17",
         "orientation": "v",
         "showlegend": true,
         "type": "box",
         "x": [
          "Female"
         ],
         "x0": " ",
         "xaxis": "x",
         "y": [
          "Evening"
         ],
         "y0": " ",
         "yaxis": "y"
        },
        {
         "alignmentgroup": "True",
         "hovertemplate": "Age=39<br>Gender=%{x}<br>Listening_time=%{y}<extra></extra>",
         "legendgroup": "39",
         "marker": {
          "color": "#FECB52"
         },
         "name": "39",
         "notched": false,
         "offsetgroup": "39",
         "orientation": "v",
         "showlegend": true,
         "type": "box",
         "x": [
          "Male"
         ],
         "x0": " ",
         "xaxis": "x",
         "y": [
          "Night"
         ],
         "y0": " ",
         "yaxis": "y"
        }
       ],
       "layout": {
        "boxmode": "group",
        "legend": {
         "title": {
          "text": "Age"
         },
         "tracegroupgap": 0
        },
        "template": {
         "data": {
          "bar": [
           {
            "error_x": {
             "color": "#2a3f5f"
            },
            "error_y": {
             "color": "#2a3f5f"
            },
            "marker": {
             "line": {
              "color": "#E5ECF6",
              "width": 0.5
             },
             "pattern": {
              "fillmode": "overlay",
              "size": 10,
              "solidity": 0.2
             }
            },
            "type": "bar"
           }
          ],
          "barpolar": [
           {
            "marker": {
             "line": {
              "color": "#E5ECF6",
              "width": 0.5
             },
             "pattern": {
              "fillmode": "overlay",
              "size": 10,
              "solidity": 0.2
             }
            },
            "type": "barpolar"
           }
          ],
          "carpet": [
           {
            "aaxis": {
             "endlinecolor": "#2a3f5f",
             "gridcolor": "white",
             "linecolor": "white",
             "minorgridcolor": "white",
             "startlinecolor": "#2a3f5f"
            },
            "baxis": {
             "endlinecolor": "#2a3f5f",
             "gridcolor": "white",
             "linecolor": "white",
             "minorgridcolor": "white",
             "startlinecolor": "#2a3f5f"
            },
            "type": "carpet"
           }
          ],
          "choropleth": [
           {
            "colorbar": {
             "outlinewidth": 0,
             "ticks": ""
            },
            "type": "choropleth"
           }
          ],
          "contour": [
           {
            "colorbar": {
             "outlinewidth": 0,
             "ticks": ""
            },
            "colorscale": [
             [
              0,
              "#0d0887"
             ],
             [
              0.1111111111111111,
              "#46039f"
             ],
             [
              0.2222222222222222,
              "#7201a8"
             ],
             [
              0.3333333333333333,
              "#9c179e"
             ],
             [
              0.4444444444444444,
              "#bd3786"
             ],
             [
              0.5555555555555556,
              "#d8576b"
             ],
             [
              0.6666666666666666,
              "#ed7953"
             ],
             [
              0.7777777777777778,
              "#fb9f3a"
             ],
             [
              0.8888888888888888,
              "#fdca26"
             ],
             [
              1,
              "#f0f921"
             ]
            ],
            "type": "contour"
           }
          ],
          "contourcarpet": [
           {
            "colorbar": {
             "outlinewidth": 0,
             "ticks": ""
            },
            "type": "contourcarpet"
           }
          ],
          "heatmap": [
           {
            "colorbar": {
             "outlinewidth": 0,
             "ticks": ""
            },
            "colorscale": [
             [
              0,
              "#0d0887"
             ],
             [
              0.1111111111111111,
              "#46039f"
             ],
             [
              0.2222222222222222,
              "#7201a8"
             ],
             [
              0.3333333333333333,
              "#9c179e"
             ],
             [
              0.4444444444444444,
              "#bd3786"
             ],
             [
              0.5555555555555556,
              "#d8576b"
             ],
             [
              0.6666666666666666,
              "#ed7953"
             ],
             [
              0.7777777777777778,
              "#fb9f3a"
             ],
             [
              0.8888888888888888,
              "#fdca26"
             ],
             [
              1,
              "#f0f921"
             ]
            ],
            "type": "heatmap"
           }
          ],
          "heatmapgl": [
           {
            "colorbar": {
             "outlinewidth": 0,
             "ticks": ""
            },
            "colorscale": [
             [
              0,
              "#0d0887"
             ],
             [
              0.1111111111111111,
              "#46039f"
             ],
             [
              0.2222222222222222,
              "#7201a8"
             ],
             [
              0.3333333333333333,
              "#9c179e"
             ],
             [
              0.4444444444444444,
              "#bd3786"
             ],
             [
              0.5555555555555556,
              "#d8576b"
             ],
             [
              0.6666666666666666,
              "#ed7953"
             ],
             [
              0.7777777777777778,
              "#fb9f3a"
             ],
             [
              0.8888888888888888,
              "#fdca26"
             ],
             [
              1,
              "#f0f921"
             ]
            ],
            "type": "heatmapgl"
           }
          ],
          "histogram": [
           {
            "marker": {
             "pattern": {
              "fillmode": "overlay",
              "size": 10,
              "solidity": 0.2
             }
            },
            "type": "histogram"
           }
          ],
          "histogram2d": [
           {
            "colorbar": {
             "outlinewidth": 0,
             "ticks": ""
            },
            "colorscale": [
             [
              0,
              "#0d0887"
             ],
             [
              0.1111111111111111,
              "#46039f"
             ],
             [
              0.2222222222222222,
              "#7201a8"
             ],
             [
              0.3333333333333333,
              "#9c179e"
             ],
             [
              0.4444444444444444,
              "#bd3786"
             ],
             [
              0.5555555555555556,
              "#d8576b"
             ],
             [
              0.6666666666666666,
              "#ed7953"
             ],
             [
              0.7777777777777778,
              "#fb9f3a"
             ],
             [
              0.8888888888888888,
              "#fdca26"
             ],
             [
              1,
              "#f0f921"
             ]
            ],
            "type": "histogram2d"
           }
          ],
          "histogram2dcontour": [
           {
            "colorbar": {
             "outlinewidth": 0,
             "ticks": ""
            },
            "colorscale": [
             [
              0,
              "#0d0887"
             ],
             [
              0.1111111111111111,
              "#46039f"
             ],
             [
              0.2222222222222222,
              "#7201a8"
             ],
             [
              0.3333333333333333,
              "#9c179e"
             ],
             [
              0.4444444444444444,
              "#bd3786"
             ],
             [
              0.5555555555555556,
              "#d8576b"
             ],
             [
              0.6666666666666666,
              "#ed7953"
             ],
             [
              0.7777777777777778,
              "#fb9f3a"
             ],
             [
              0.8888888888888888,
              "#fdca26"
             ],
             [
              1,
              "#f0f921"
             ]
            ],
            "type": "histogram2dcontour"
           }
          ],
          "mesh3d": [
           {
            "colorbar": {
             "outlinewidth": 0,
             "ticks": ""
            },
            "type": "mesh3d"
           }
          ],
          "parcoords": [
           {
            "line": {
             "colorbar": {
              "outlinewidth": 0,
              "ticks": ""
             }
            },
            "type": "parcoords"
           }
          ],
          "pie": [
           {
            "automargin": true,
            "type": "pie"
           }
          ],
          "scatter": [
           {
            "marker": {
             "colorbar": {
              "outlinewidth": 0,
              "ticks": ""
             }
            },
            "type": "scatter"
           }
          ],
          "scatter3d": [
           {
            "line": {
             "colorbar": {
              "outlinewidth": 0,
              "ticks": ""
             }
            },
            "marker": {
             "colorbar": {
              "outlinewidth": 0,
              "ticks": ""
             }
            },
            "type": "scatter3d"
           }
          ],
          "scattercarpet": [
           {
            "marker": {
             "colorbar": {
              "outlinewidth": 0,
              "ticks": ""
             }
            },
            "type": "scattercarpet"
           }
          ],
          "scattergeo": [
           {
            "marker": {
             "colorbar": {
              "outlinewidth": 0,
              "ticks": ""
             }
            },
            "type": "scattergeo"
           }
          ],
          "scattergl": [
           {
            "marker": {
             "colorbar": {
              "outlinewidth": 0,
              "ticks": ""
             }
            },
            "type": "scattergl"
           }
          ],
          "scattermapbox": [
           {
            "marker": {
             "colorbar": {
              "outlinewidth": 0,
              "ticks": ""
             }
            },
            "type": "scattermapbox"
           }
          ],
          "scatterpolar": [
           {
            "marker": {
             "colorbar": {
              "outlinewidth": 0,
              "ticks": ""
             }
            },
            "type": "scatterpolar"
           }
          ],
          "scatterpolargl": [
           {
            "marker": {
             "colorbar": {
              "outlinewidth": 0,
              "ticks": ""
             }
            },
            "type": "scatterpolargl"
           }
          ],
          "scatterternary": [
           {
            "marker": {
             "colorbar": {
              "outlinewidth": 0,
              "ticks": ""
             }
            },
            "type": "scatterternary"
           }
          ],
          "surface": [
           {
            "colorbar": {
             "outlinewidth": 0,
             "ticks": ""
            },
            "colorscale": [
             [
              0,
              "#0d0887"
             ],
             [
              0.1111111111111111,
              "#46039f"
             ],
             [
              0.2222222222222222,
              "#7201a8"
             ],
             [
              0.3333333333333333,
              "#9c179e"
             ],
             [
              0.4444444444444444,
              "#bd3786"
             ],
             [
              0.5555555555555556,
              "#d8576b"
             ],
             [
              0.6666666666666666,
              "#ed7953"
             ],
             [
              0.7777777777777778,
              "#fb9f3a"
             ],
             [
              0.8888888888888888,
              "#fdca26"
             ],
             [
              1,
              "#f0f921"
             ]
            ],
            "type": "surface"
           }
          ],
          "table": [
           {
            "cells": {
             "fill": {
              "color": "#EBF0F8"
             },
             "line": {
              "color": "white"
             }
            },
            "header": {
             "fill": {
              "color": "#C8D4E3"
             },
             "line": {
              "color": "white"
             }
            },
            "type": "table"
           }
          ]
         },
         "layout": {
          "annotationdefaults": {
           "arrowcolor": "#2a3f5f",
           "arrowhead": 0,
           "arrowwidth": 1
          },
          "autotypenumbers": "strict",
          "coloraxis": {
           "colorbar": {
            "outlinewidth": 0,
            "ticks": ""
           }
          },
          "colorscale": {
           "diverging": [
            [
             0,
             "#8e0152"
            ],
            [
             0.1,
             "#c51b7d"
            ],
            [
             0.2,
             "#de77ae"
            ],
            [
             0.3,
             "#f1b6da"
            ],
            [
             0.4,
             "#fde0ef"
            ],
            [
             0.5,
             "#f7f7f7"
            ],
            [
             0.6,
             "#e6f5d0"
            ],
            [
             0.7,
             "#b8e186"
            ],
            [
             0.8,
             "#7fbc41"
            ],
            [
             0.9,
             "#4d9221"
            ],
            [
             1,
             "#276419"
            ]
           ],
           "sequential": [
            [
             0,
             "#0d0887"
            ],
            [
             0.1111111111111111,
             "#46039f"
            ],
            [
             0.2222222222222222,
             "#7201a8"
            ],
            [
             0.3333333333333333,
             "#9c179e"
            ],
            [
             0.4444444444444444,
             "#bd3786"
            ],
            [
             0.5555555555555556,
             "#d8576b"
            ],
            [
             0.6666666666666666,
             "#ed7953"
            ],
            [
             0.7777777777777778,
             "#fb9f3a"
            ],
            [
             0.8888888888888888,
             "#fdca26"
            ],
            [
             1,
             "#f0f921"
            ]
           ],
           "sequentialminus": [
            [
             0,
             "#0d0887"
            ],
            [
             0.1111111111111111,
             "#46039f"
            ],
            [
             0.2222222222222222,
             "#7201a8"
            ],
            [
             0.3333333333333333,
             "#9c179e"
            ],
            [
             0.4444444444444444,
             "#bd3786"
            ],
            [
             0.5555555555555556,
             "#d8576b"
            ],
            [
             0.6666666666666666,
             "#ed7953"
            ],
            [
             0.7777777777777778,
             "#fb9f3a"
            ],
            [
             0.8888888888888888,
             "#fdca26"
            ],
            [
             1,
             "#f0f921"
            ]
           ]
          },
          "colorway": [
           "#636efa",
           "#EF553B",
           "#00cc96",
           "#ab63fa",
           "#FFA15A",
           "#19d3f3",
           "#FF6692",
           "#B6E880",
           "#FF97FF",
           "#FECB52"
          ],
          "font": {
           "color": "#2a3f5f"
          },
          "geo": {
           "bgcolor": "white",
           "lakecolor": "white",
           "landcolor": "#E5ECF6",
           "showlakes": true,
           "showland": true,
           "subunitcolor": "white"
          },
          "hoverlabel": {
           "align": "left"
          },
          "hovermode": "closest",
          "mapbox": {
           "style": "light"
          },
          "paper_bgcolor": "white",
          "plot_bgcolor": "#E5ECF6",
          "polar": {
           "angularaxis": {
            "gridcolor": "white",
            "linecolor": "white",
            "ticks": ""
           },
           "bgcolor": "#E5ECF6",
           "radialaxis": {
            "gridcolor": "white",
            "linecolor": "white",
            "ticks": ""
           }
          },
          "scene": {
           "xaxis": {
            "backgroundcolor": "#E5ECF6",
            "gridcolor": "white",
            "gridwidth": 2,
            "linecolor": "white",
            "showbackground": true,
            "ticks": "",
            "zerolinecolor": "white"
           },
           "yaxis": {
            "backgroundcolor": "#E5ECF6",
            "gridcolor": "white",
            "gridwidth": 2,
            "linecolor": "white",
            "showbackground": true,
            "ticks": "",
            "zerolinecolor": "white"
           },
           "zaxis": {
            "backgroundcolor": "#E5ECF6",
            "gridcolor": "white",
            "gridwidth": 2,
            "linecolor": "white",
            "showbackground": true,
            "ticks": "",
            "zerolinecolor": "white"
           }
          },
          "shapedefaults": {
           "line": {
            "color": "#2a3f5f"
           }
          },
          "ternary": {
           "aaxis": {
            "gridcolor": "white",
            "linecolor": "white",
            "ticks": ""
           },
           "baxis": {
            "gridcolor": "white",
            "linecolor": "white",
            "ticks": ""
           },
           "bgcolor": "#E5ECF6",
           "caxis": {
            "gridcolor": "white",
            "linecolor": "white",
            "ticks": ""
           }
          },
          "title": {
           "x": 0.05
          },
          "xaxis": {
           "automargin": true,
           "gridcolor": "white",
           "linecolor": "white",
           "ticks": "",
           "title": {
            "standoff": 15
           },
           "zerolinecolor": "white",
           "zerolinewidth": 2
          },
          "yaxis": {
           "automargin": true,
           "gridcolor": "white",
           "linecolor": "white",
           "ticks": "",
           "title": {
            "standoff": 15
           },
           "zerolinecolor": "white",
           "zerolinewidth": 2
          }
         }
        },
        "title": {
         "text": "Timing Of Listen The FM According to Male/Female"
        },
        "xaxis": {
         "anchor": "y",
         "domain": [
          0,
          1
         ],
         "title": {
          "text": "Gender"
         }
        },
        "yaxis": {
         "anchor": "x",
         "domain": [
          0,
          1
         ],
         "title": {
          "text": "Listening_time"
         }
        }
       }
      }
     },
     "metadata": {},
     "output_type": "display_data"
    }
   ],
   "source": [
    "px.box(df, x='Gender', y='Listening_time', color='Age', title='Timing Of Listen The FM According to Male/Female')"
   ]
  },
  {
   "cell_type": "markdown",
   "metadata": {},
   "source": [
    "## **RESULT**\n",
    "**There are maximum public which listen to fm at the time of evening and there age is around 20 to 22**"
   ]
  },
  {
   "cell_type": "code",
   "execution_count": 77,
   "metadata": {},
   "outputs": [
    {
     "data": {
      "application/vnd.plotly.v1+json": {
       "config": {
        "plotlyServerURL": "https://plot.ly"
       },
       "data": [
        {
         "alignmentgroup": "True",
         "hovertemplate": "Duration=1 <br>Gender=%{x}<br>Plateform_from_you_wantToFollow=%{y}<extra></extra>",
         "legendgroup": "1 ",
         "marker": {
          "color": "#636efa"
         },
         "name": "1 ",
         "notched": false,
         "offsetgroup": "1 ",
         "orientation": "v",
         "showlegend": true,
         "type": "box",
         "x": [
          "Female",
          "Male",
          "Female",
          "Male",
          "Female",
          "Male",
          "Female",
          "Female",
          "Male",
          "Female",
          "Male",
          "Female",
          "Male",
          "Female",
          "Female",
          "Male",
          "Female",
          "Male",
          "Female",
          "Female",
          "Male",
          "Male",
          "Female",
          "Male",
          "Male",
          "Male",
          "Male",
          "Male",
          "Female",
          "Male",
          "Male",
          "Male",
          "Male",
          "Male",
          "Female",
          "Male",
          "Male",
          "Male",
          "Male",
          "Male",
          "Male",
          "Male",
          "Male",
          "Male",
          "Female",
          "Female",
          "Male",
          "Male",
          "Female",
          "Female",
          "Male",
          "Female",
          "Female",
          "Male",
          "Female",
          "Female",
          "Female",
          "Female",
          "Female",
          "Female",
          "Male",
          "Male",
          "Male",
          "Male",
          "Male",
          "Male",
          "Female",
          "Male",
          "Male",
          "Male",
          "Male",
          "Female",
          "Male",
          "Male",
          "Female",
          "Female",
          "Female",
          "Female",
          "Female",
          "Female",
          "Female",
          "Female",
          "Female",
          "Female",
          "Male",
          "Female",
          "Male",
          "Male",
          "Female",
          "Female",
          "Female",
          "Male",
          "Male",
          "Male",
          "Male",
          "Male",
          "Male",
          "Male",
          "Male",
          "Male",
          "Female",
          "Female",
          "Female",
          "Female",
          "Female",
          "Female",
          "Male",
          "Male",
          "Female",
          "Female",
          "Female",
          "Female",
          "Female",
          "Male",
          "Male",
          "Female",
          "Female",
          "Female",
          "Male",
          "Female",
          "Male",
          "Female",
          "Female",
          "Female",
          "Male",
          "Female",
          "Female",
          "Male",
          "Male",
          "Female",
          "Female",
          "Female",
          "Female",
          "Male",
          "Female",
          "Male",
          "Female",
          "Female",
          "Male",
          "Female",
          "Male",
          "Female",
          "Female",
          "Male",
          "Female",
          "Male",
          "Male",
          "Female",
          "Male",
          "Male",
          "Male",
          "Male",
          "Male",
          "Male",
          "Female",
          "Male",
          "Female",
          "Female",
          "Female",
          "Female",
          "Male",
          "Female",
          "Male",
          "Female",
          "Male",
          "Male",
          "Male",
          "Female",
          "Female",
          "Male",
          "Female",
          "Female",
          "Female",
          "Female",
          "Male",
          "Female",
          "Female",
          "Male",
          "Female",
          "Male",
          "Male",
          "Male",
          "Female",
          "Female"
         ],
         "x0": " ",
         "xaxis": "x",
         "y": [
          "Twitter",
          "Facebook;Instagram",
          "Facebook",
          "Facebook",
          "Facebook;Twitter;YouTube;LinkedIn",
          "Facebook;SoundCloud",
          "Instagram",
          "Facebook;Twitter",
          "Facebook;SoundCloud",
          "LinkedIn",
          "SoundCloud",
          "LinkedIn",
          "Facebook",
          "Facebook;YouTube;Instagram;LinkedIn",
          "SoundCloud",
          "Facebook",
          "Facebook;Instagram;LinkedIn",
          "Twitter",
          "Facebook",
          "Facebook",
          "Facebook",
          "Facebook",
          "Facebook",
          "Facebook",
          "YouTube",
          "YouTube",
          "Facebook",
          "YouTube",
          "SoundCloud",
          "Facebook;YouTube",
          "Facebook;YouTube",
          "Facebook;Twitter;YouTube;Instagram;LinkedIn",
          "Facebook;YouTube",
          "Facebook",
          "Facebook",
          "Instagram;LinkedIn",
          "Facebook",
          "Instagram",
          "Instagram",
          "Facebook",
          "Facebook;YouTube;Instagram",
          "Facebook;Twitter;YouTube;Instagram;LinkedIn;SoundCloud",
          "Facebook;LinkedIn",
          "Facebook",
          "YouTube",
          "YouTube",
          "Instagram",
          "Facebook;YouTube",
          "Facebook;YouTube;LinkedIn",
          "Facebook;Instagram",
          "Facebook",
          "LinkedIn",
          "LinkedIn",
          "Facebook;YouTube;Instagram",
          "Facebook;YouTube",
          "Instagram",
          "Instagram",
          "Facebook;YouTube;Instagram;LinkedIn",
          "Facebook;YouTube;Instagram",
          "Facebook",
          "Facebook;Instagram;SoundCloud",
          "Facebook;Instagram",
          "Facebook;Twitter;Instagram",
          "Facebook;Twitter;YouTube;Instagram;LinkedIn",
          "Facebook;Twitter;Instagram;LinkedIn",
          "SoundCloud",
          "Facebook;LinkedIn;SoundCloud",
          "Facebook;Twitter;Instagram",
          "Facebook",
          "YouTube",
          "YouTube;LinkedIn;SoundCloud",
          "YouTube",
          "LinkedIn",
          "Facebook",
          "LinkedIn",
          "Instagram",
          "Instagram",
          "SoundCloud",
          "Facebook;Twitter;YouTube",
          "Facebook",
          "YouTube",
          "Facebook",
          "YouTube",
          "Facebook;SoundCloud",
          "Facebook;YouTube",
          "YouTube",
          "Facebook",
          "Facebook",
          "LinkedIn",
          "Facebook;YouTube",
          "Facebook;YouTube;Instagram;LinkedIn",
          "Facebook;Instagram;SoundCloud",
          "Twitter",
          "Facebook;LinkedIn",
          "LinkedIn",
          "Facebook",
          "YouTube",
          "Facebook",
          "Facebook;Twitter;YouTube;Instagram;LinkedIn;SoundCloud",
          "Facebook",
          "Facebook;YouTube;Instagram",
          "Instagram",
          "Twitter;YouTube",
          "Facebook;Twitter;YouTube;Instagram;LinkedIn;SoundCloud",
          "Facebook",
          "YouTube;Instagram",
          "LinkedIn",
          "Facebook",
          "Twitter",
          "Facebook;Twitter;YouTube;LinkedIn",
          "YouTube;SoundCloud",
          "Facebook",
          "Facebook;LinkedIn",
          "Facebook",
          "SoundCloud",
          "Facebook",
          "SoundCloud",
          "Facebook;YouTube;Instagram;LinkedIn;SoundCloud",
          "Facebook",
          "Facebook",
          "Facebook",
          "Facebook",
          "Facebook;YouTube;Instagram",
          "YouTube",
          "Instagram",
          "Facebook",
          "SoundCloud",
          "Facebook",
          "Facebook;Instagram;LinkedIn",
          "Twitter;Instagram",
          "Facebook",
          "Facebook;Twitter;Instagram;LinkedIn",
          "Facebook",
          "Facebook",
          "Facebook;Instagram",
          "Instagram",
          "Facebook",
          "Facebook",
          "Facebook;YouTube;SoundCloud",
          "LinkedIn",
          "Facebook",
          "Facebook",
          "Facebook;YouTube;SoundCloud",
          "Facebook;Instagram",
          "Facebook;Instagram;LinkedIn",
          "Facebook;YouTube",
          "Facebook;Instagram",
          "YouTube",
          "YouTube",
          "Facebook",
          "Facebook",
          "Facebook;Twitter;Instagram",
          "Facebook;YouTube",
          "Facebook;YouTube",
          "YouTube",
          "Facebook;YouTube;Instagram",
          "Instagram",
          "Facebook",
          "Instagram",
          "Facebook",
          "Facebook",
          "Facebook;Twitter;YouTube;Instagram;LinkedIn",
          "Facebook",
          "Facebook;YouTube",
          "Instagram",
          "Facebook;Twitter;YouTube;Instagram;LinkedIn;SoundCloud",
          "Instagram",
          "LinkedIn",
          "YouTube",
          "Facebook",
          "Facebook;LinkedIn",
          "Facebook;Twitter",
          "Facebook",
          "Facebook",
          "Facebook;YouTube",
          "Facebook",
          "Facebook",
          "Facebook",
          "YouTube",
          "Facebook;Twitter;YouTube;Instagram",
          "YouTube;Instagram;LinkedIn",
          "Facebook",
          "YouTube",
          "Facebook"
         ],
         "y0": " ",
         "yaxis": "y"
        },
        {
         "alignmentgroup": "True",
         "hovertemplate": "Duration=0 <br>Gender=%{x}<br>Plateform_from_you_wantToFollow=%{y}<extra></extra>",
         "legendgroup": "0 ",
         "marker": {
          "color": "#EF553B"
         },
         "name": "0 ",
         "notched": false,
         "offsetgroup": "0 ",
         "orientation": "v",
         "showlegend": true,
         "type": "box",
         "x": [
          "Male",
          "Male",
          "Male",
          "Female",
          "Female",
          "Male",
          "Female",
          "Female",
          "Female",
          "Female",
          "Male",
          "Male",
          "Female",
          "Male",
          "Male",
          "Female",
          "Male",
          "Female",
          "Male",
          "Female",
          "Male",
          "Female",
          "Male",
          "Male",
          "Female",
          "Female",
          "Female",
          "Female",
          "Male",
          "Male",
          "Female",
          "Male",
          "Male",
          "Male",
          "Female",
          "Female",
          "Male",
          "Male",
          "Female",
          "Male",
          "Male",
          "Female",
          "Male",
          "Female",
          "Female",
          "Female",
          "Female",
          "Female",
          "Female",
          "Female",
          "Female",
          "Female",
          "Female",
          "Female",
          "Female",
          "Female",
          "Male",
          "Male",
          "Female",
          "Female",
          "Male",
          "Male",
          "Female",
          "Male",
          "Male",
          "Female",
          "Male",
          "Female",
          "Female",
          "Male",
          "Female",
          "Female",
          "Female",
          "Male",
          "Male",
          "Male",
          "Male",
          "Male",
          "Male",
          "Female",
          "Male",
          "Female",
          "Male",
          "Female",
          "Male",
          "Male",
          "Female",
          "Male",
          "Male",
          "Female",
          "Female",
          "Male",
          "Female",
          "Female",
          "Female",
          "Female",
          "Male",
          "Female",
          "Male",
          "Male",
          "Male",
          "Male",
          "Female",
          "Male",
          "Male",
          "Female",
          "Male",
          "Male",
          "Male",
          "Female",
          "Male",
          "Male"
         ],
         "x0": " ",
         "xaxis": "x",
         "y": [
          "Facebook;YouTube;LinkedIn",
          "Facebook;YouTube;LinkedIn",
          "LinkedIn",
          "Facebook",
          "Instagram",
          "Facebook",
          "Facebook",
          "LinkedIn",
          "Twitter",
          "Facebook;YouTube;Instagram;LinkedIn",
          "Facebook",
          "YouTube",
          "Facebook;LinkedIn",
          "Instagram",
          "Facebook",
          "Facebook;Twitter;YouTube;Instagram;LinkedIn;SoundCloud",
          "Facebook",
          "Facebook",
          "Facebook",
          "Facebook;YouTube;Instagram;LinkedIn",
          "LinkedIn",
          "Facebook",
          "Facebook",
          "YouTube",
          "Instagram;LinkedIn",
          "Facebook;YouTube;Instagram;LinkedIn;SoundCloud",
          "Instagram",
          "YouTube;Instagram",
          "Instagram",
          "Facebook;YouTube;Instagram",
          "YouTube",
          "Facebook;YouTube",
          "YouTube",
          "Facebook;Instagram",
          "SoundCloud",
          "Facebook;Instagram",
          "Facebook",
          "Facebook",
          "Facebook;SoundCloud",
          "Facebook",
          "LinkedIn",
          "Facebook",
          "Facebook;YouTube;LinkedIn;SoundCloud",
          "YouTube;Instagram;SoundCloud",
          "Facebook",
          "YouTube;Instagram;SoundCloud",
          "YouTube;Instagram;SoundCloud",
          "YouTube;Instagram;SoundCloud",
          "Instagram;LinkedIn;SoundCloud",
          "Twitter;Instagram;LinkedIn",
          "Facebook",
          "Instagram",
          "Facebook;YouTube;Instagram;LinkedIn",
          "Facebook",
          "Facebook",
          "Facebook",
          "Facebook;Instagram",
          "Facebook",
          "Facebook;YouTube",
          "SoundCloud",
          "Facebook",
          "Facebook",
          "Facebook",
          "Facebook",
          "Facebook;Twitter;YouTube;Instagram;LinkedIn;SoundCloud",
          "Facebook",
          "Facebook",
          "Facebook",
          "Facebook",
          "Facebook",
          "LinkedIn",
          "Facebook;YouTube;Instagram;SoundCloud",
          "Facebook;YouTube",
          "Facebook",
          "Facebook;YouTube",
          "LinkedIn",
          "Facebook",
          "SoundCloud",
          "Instagram",
          "LinkedIn",
          "Facebook;YouTube;LinkedIn",
          "SoundCloud",
          "Facebook;YouTube;Instagram",
          "Facebook;Twitter;Instagram;LinkedIn",
          "YouTube",
          "Facebook",
          "Facebook",
          "Facebook;YouTube;LinkedIn",
          "Facebook",
          "SoundCloud",
          "Facebook;YouTube;Instagram",
          "Instagram",
          "Facebook;Twitter;YouTube;Instagram",
          "Facebook",
          "Facebook",
          "Facebook",
          "Facebook;YouTube",
          "Facebook",
          "Facebook;Twitter;YouTube;LinkedIn",
          "Facebook;Twitter;YouTube;LinkedIn",
          "Facebook",
          "Facebook",
          "Facebook",
          "YouTube",
          "Facebook",
          "Instagram",
          "Facebook;YouTube;Instagram",
          "Facebook;YouTube;Instagram",
          "Facebook;LinkedIn",
          "Facebook;YouTube;Instagram",
          "Facebook",
          "Facebook"
         ],
         "y0": " ",
         "yaxis": "y"
        },
        {
         "alignmentgroup": "True",
         "hovertemplate": "Duration=2 <br>Gender=%{x}<br>Plateform_from_you_wantToFollow=%{y}<extra></extra>",
         "legendgroup": "2 ",
         "marker": {
          "color": "#00cc96"
         },
         "name": "2 ",
         "notched": false,
         "offsetgroup": "2 ",
         "orientation": "v",
         "showlegend": true,
         "type": "box",
         "x": [
          "Female",
          "Female",
          "Female",
          "Male",
          "Female",
          "Female",
          "Male",
          "Female",
          "Female",
          "Male",
          "Male",
          "Male",
          "Female",
          "Female",
          "Female",
          "Male",
          "Male",
          "Female",
          "Female",
          "Female",
          "Female",
          "Female",
          "Male",
          "Male",
          "Female",
          "Female",
          "Female",
          "Male"
         ],
         "x0": " ",
         "xaxis": "x",
         "y": [
          "YouTube",
          "Facebook;Twitter;YouTube;Instagram;LinkedIn",
          "Facebook",
          "YouTube",
          "Facebook;YouTube;Instagram;LinkedIn",
          "SoundCloud",
          "Instagram",
          "Facebook;YouTube",
          "Facebook;YouTube;SoundCloud",
          "Facebook;Twitter;YouTube;Instagram",
          "Facebook;Twitter;YouTube;Instagram;LinkedIn",
          "Facebook;Instagram",
          "Twitter;Instagram;LinkedIn",
          "Facebook;Twitter;YouTube;Instagram;LinkedIn",
          "Instagram",
          "Facebook;YouTube;Instagram",
          "Facebook;YouTube;Instagram",
          "Facebook",
          "Instagram",
          "Facebook;Twitter;YouTube;Instagram;LinkedIn;SoundCloud",
          "Facebook",
          "YouTube",
          "Facebook;Twitter;YouTube;Instagram;LinkedIn",
          "Facebook;Instagram",
          "Facebook",
          "Facebook",
          "Facebook;Twitter;YouTube;Instagram;LinkedIn",
          "Facebook;Twitter;YouTube"
         ],
         "y0": " ",
         "yaxis": "y"
        },
        {
         "alignmentgroup": "True",
         "hovertemplate": "Duration=3 <br>Gender=%{x}<br>Plateform_from_you_wantToFollow=%{y}<extra></extra>",
         "legendgroup": "3 ",
         "marker": {
          "color": "#ab63fa"
         },
         "name": "3 ",
         "notched": false,
         "offsetgroup": "3 ",
         "orientation": "v",
         "showlegend": true,
         "type": "box",
         "x": [
          "Male",
          "Male",
          "Male"
         ],
         "x0": " ",
         "xaxis": "x",
         "y": [
          "Facebook;YouTube",
          "LinkedIn",
          "Facebook"
         ],
         "y0": " ",
         "yaxis": "y"
        },
        {
         "alignmentgroup": "True",
         "hovertemplate": "Duration=more than 3 <br>Gender=%{x}<br>Plateform_from_you_wantToFollow=%{y}<extra></extra>",
         "legendgroup": "more than 3 ",
         "marker": {
          "color": "#FFA15A"
         },
         "name": "more than 3 ",
         "notched": false,
         "offsetgroup": "more than 3 ",
         "orientation": "v",
         "showlegend": true,
         "type": "box",
         "x": [
          "Male"
         ],
         "x0": " ",
         "xaxis": "x",
         "y": [
          "Facebook;YouTube;Instagram;LinkedIn"
         ],
         "y0": " ",
         "yaxis": "y"
        }
       ],
       "layout": {
        "boxmode": "group",
        "legend": {
         "title": {
          "text": "Duration"
         },
         "tracegroupgap": 0
        },
        "template": {
         "data": {
          "bar": [
           {
            "error_x": {
             "color": "#2a3f5f"
            },
            "error_y": {
             "color": "#2a3f5f"
            },
            "marker": {
             "line": {
              "color": "#E5ECF6",
              "width": 0.5
             },
             "pattern": {
              "fillmode": "overlay",
              "size": 10,
              "solidity": 0.2
             }
            },
            "type": "bar"
           }
          ],
          "barpolar": [
           {
            "marker": {
             "line": {
              "color": "#E5ECF6",
              "width": 0.5
             },
             "pattern": {
              "fillmode": "overlay",
              "size": 10,
              "solidity": 0.2
             }
            },
            "type": "barpolar"
           }
          ],
          "carpet": [
           {
            "aaxis": {
             "endlinecolor": "#2a3f5f",
             "gridcolor": "white",
             "linecolor": "white",
             "minorgridcolor": "white",
             "startlinecolor": "#2a3f5f"
            },
            "baxis": {
             "endlinecolor": "#2a3f5f",
             "gridcolor": "white",
             "linecolor": "white",
             "minorgridcolor": "white",
             "startlinecolor": "#2a3f5f"
            },
            "type": "carpet"
           }
          ],
          "choropleth": [
           {
            "colorbar": {
             "outlinewidth": 0,
             "ticks": ""
            },
            "type": "choropleth"
           }
          ],
          "contour": [
           {
            "colorbar": {
             "outlinewidth": 0,
             "ticks": ""
            },
            "colorscale": [
             [
              0,
              "#0d0887"
             ],
             [
              0.1111111111111111,
              "#46039f"
             ],
             [
              0.2222222222222222,
              "#7201a8"
             ],
             [
              0.3333333333333333,
              "#9c179e"
             ],
             [
              0.4444444444444444,
              "#bd3786"
             ],
             [
              0.5555555555555556,
              "#d8576b"
             ],
             [
              0.6666666666666666,
              "#ed7953"
             ],
             [
              0.7777777777777778,
              "#fb9f3a"
             ],
             [
              0.8888888888888888,
              "#fdca26"
             ],
             [
              1,
              "#f0f921"
             ]
            ],
            "type": "contour"
           }
          ],
          "contourcarpet": [
           {
            "colorbar": {
             "outlinewidth": 0,
             "ticks": ""
            },
            "type": "contourcarpet"
           }
          ],
          "heatmap": [
           {
            "colorbar": {
             "outlinewidth": 0,
             "ticks": ""
            },
            "colorscale": [
             [
              0,
              "#0d0887"
             ],
             [
              0.1111111111111111,
              "#46039f"
             ],
             [
              0.2222222222222222,
              "#7201a8"
             ],
             [
              0.3333333333333333,
              "#9c179e"
             ],
             [
              0.4444444444444444,
              "#bd3786"
             ],
             [
              0.5555555555555556,
              "#d8576b"
             ],
             [
              0.6666666666666666,
              "#ed7953"
             ],
             [
              0.7777777777777778,
              "#fb9f3a"
             ],
             [
              0.8888888888888888,
              "#fdca26"
             ],
             [
              1,
              "#f0f921"
             ]
            ],
            "type": "heatmap"
           }
          ],
          "heatmapgl": [
           {
            "colorbar": {
             "outlinewidth": 0,
             "ticks": ""
            },
            "colorscale": [
             [
              0,
              "#0d0887"
             ],
             [
              0.1111111111111111,
              "#46039f"
             ],
             [
              0.2222222222222222,
              "#7201a8"
             ],
             [
              0.3333333333333333,
              "#9c179e"
             ],
             [
              0.4444444444444444,
              "#bd3786"
             ],
             [
              0.5555555555555556,
              "#d8576b"
             ],
             [
              0.6666666666666666,
              "#ed7953"
             ],
             [
              0.7777777777777778,
              "#fb9f3a"
             ],
             [
              0.8888888888888888,
              "#fdca26"
             ],
             [
              1,
              "#f0f921"
             ]
            ],
            "type": "heatmapgl"
           }
          ],
          "histogram": [
           {
            "marker": {
             "pattern": {
              "fillmode": "overlay",
              "size": 10,
              "solidity": 0.2
             }
            },
            "type": "histogram"
           }
          ],
          "histogram2d": [
           {
            "colorbar": {
             "outlinewidth": 0,
             "ticks": ""
            },
            "colorscale": [
             [
              0,
              "#0d0887"
             ],
             [
              0.1111111111111111,
              "#46039f"
             ],
             [
              0.2222222222222222,
              "#7201a8"
             ],
             [
              0.3333333333333333,
              "#9c179e"
             ],
             [
              0.4444444444444444,
              "#bd3786"
             ],
             [
              0.5555555555555556,
              "#d8576b"
             ],
             [
              0.6666666666666666,
              "#ed7953"
             ],
             [
              0.7777777777777778,
              "#fb9f3a"
             ],
             [
              0.8888888888888888,
              "#fdca26"
             ],
             [
              1,
              "#f0f921"
             ]
            ],
            "type": "histogram2d"
           }
          ],
          "histogram2dcontour": [
           {
            "colorbar": {
             "outlinewidth": 0,
             "ticks": ""
            },
            "colorscale": [
             [
              0,
              "#0d0887"
             ],
             [
              0.1111111111111111,
              "#46039f"
             ],
             [
              0.2222222222222222,
              "#7201a8"
             ],
             [
              0.3333333333333333,
              "#9c179e"
             ],
             [
              0.4444444444444444,
              "#bd3786"
             ],
             [
              0.5555555555555556,
              "#d8576b"
             ],
             [
              0.6666666666666666,
              "#ed7953"
             ],
             [
              0.7777777777777778,
              "#fb9f3a"
             ],
             [
              0.8888888888888888,
              "#fdca26"
             ],
             [
              1,
              "#f0f921"
             ]
            ],
            "type": "histogram2dcontour"
           }
          ],
          "mesh3d": [
           {
            "colorbar": {
             "outlinewidth": 0,
             "ticks": ""
            },
            "type": "mesh3d"
           }
          ],
          "parcoords": [
           {
            "line": {
             "colorbar": {
              "outlinewidth": 0,
              "ticks": ""
             }
            },
            "type": "parcoords"
           }
          ],
          "pie": [
           {
            "automargin": true,
            "type": "pie"
           }
          ],
          "scatter": [
           {
            "marker": {
             "colorbar": {
              "outlinewidth": 0,
              "ticks": ""
             }
            },
            "type": "scatter"
           }
          ],
          "scatter3d": [
           {
            "line": {
             "colorbar": {
              "outlinewidth": 0,
              "ticks": ""
             }
            },
            "marker": {
             "colorbar": {
              "outlinewidth": 0,
              "ticks": ""
             }
            },
            "type": "scatter3d"
           }
          ],
          "scattercarpet": [
           {
            "marker": {
             "colorbar": {
              "outlinewidth": 0,
              "ticks": ""
             }
            },
            "type": "scattercarpet"
           }
          ],
          "scattergeo": [
           {
            "marker": {
             "colorbar": {
              "outlinewidth": 0,
              "ticks": ""
             }
            },
            "type": "scattergeo"
           }
          ],
          "scattergl": [
           {
            "marker": {
             "colorbar": {
              "outlinewidth": 0,
              "ticks": ""
             }
            },
            "type": "scattergl"
           }
          ],
          "scattermapbox": [
           {
            "marker": {
             "colorbar": {
              "outlinewidth": 0,
              "ticks": ""
             }
            },
            "type": "scattermapbox"
           }
          ],
          "scatterpolar": [
           {
            "marker": {
             "colorbar": {
              "outlinewidth": 0,
              "ticks": ""
             }
            },
            "type": "scatterpolar"
           }
          ],
          "scatterpolargl": [
           {
            "marker": {
             "colorbar": {
              "outlinewidth": 0,
              "ticks": ""
             }
            },
            "type": "scatterpolargl"
           }
          ],
          "scatterternary": [
           {
            "marker": {
             "colorbar": {
              "outlinewidth": 0,
              "ticks": ""
             }
            },
            "type": "scatterternary"
           }
          ],
          "surface": [
           {
            "colorbar": {
             "outlinewidth": 0,
             "ticks": ""
            },
            "colorscale": [
             [
              0,
              "#0d0887"
             ],
             [
              0.1111111111111111,
              "#46039f"
             ],
             [
              0.2222222222222222,
              "#7201a8"
             ],
             [
              0.3333333333333333,
              "#9c179e"
             ],
             [
              0.4444444444444444,
              "#bd3786"
             ],
             [
              0.5555555555555556,
              "#d8576b"
             ],
             [
              0.6666666666666666,
              "#ed7953"
             ],
             [
              0.7777777777777778,
              "#fb9f3a"
             ],
             [
              0.8888888888888888,
              "#fdca26"
             ],
             [
              1,
              "#f0f921"
             ]
            ],
            "type": "surface"
           }
          ],
          "table": [
           {
            "cells": {
             "fill": {
              "color": "#EBF0F8"
             },
             "line": {
              "color": "white"
             }
            },
            "header": {
             "fill": {
              "color": "#C8D4E3"
             },
             "line": {
              "color": "white"
             }
            },
            "type": "table"
           }
          ]
         },
         "layout": {
          "annotationdefaults": {
           "arrowcolor": "#2a3f5f",
           "arrowhead": 0,
           "arrowwidth": 1
          },
          "autotypenumbers": "strict",
          "coloraxis": {
           "colorbar": {
            "outlinewidth": 0,
            "ticks": ""
           }
          },
          "colorscale": {
           "diverging": [
            [
             0,
             "#8e0152"
            ],
            [
             0.1,
             "#c51b7d"
            ],
            [
             0.2,
             "#de77ae"
            ],
            [
             0.3,
             "#f1b6da"
            ],
            [
             0.4,
             "#fde0ef"
            ],
            [
             0.5,
             "#f7f7f7"
            ],
            [
             0.6,
             "#e6f5d0"
            ],
            [
             0.7,
             "#b8e186"
            ],
            [
             0.8,
             "#7fbc41"
            ],
            [
             0.9,
             "#4d9221"
            ],
            [
             1,
             "#276419"
            ]
           ],
           "sequential": [
            [
             0,
             "#0d0887"
            ],
            [
             0.1111111111111111,
             "#46039f"
            ],
            [
             0.2222222222222222,
             "#7201a8"
            ],
            [
             0.3333333333333333,
             "#9c179e"
            ],
            [
             0.4444444444444444,
             "#bd3786"
            ],
            [
             0.5555555555555556,
             "#d8576b"
            ],
            [
             0.6666666666666666,
             "#ed7953"
            ],
            [
             0.7777777777777778,
             "#fb9f3a"
            ],
            [
             0.8888888888888888,
             "#fdca26"
            ],
            [
             1,
             "#f0f921"
            ]
           ],
           "sequentialminus": [
            [
             0,
             "#0d0887"
            ],
            [
             0.1111111111111111,
             "#46039f"
            ],
            [
             0.2222222222222222,
             "#7201a8"
            ],
            [
             0.3333333333333333,
             "#9c179e"
            ],
            [
             0.4444444444444444,
             "#bd3786"
            ],
            [
             0.5555555555555556,
             "#d8576b"
            ],
            [
             0.6666666666666666,
             "#ed7953"
            ],
            [
             0.7777777777777778,
             "#fb9f3a"
            ],
            [
             0.8888888888888888,
             "#fdca26"
            ],
            [
             1,
             "#f0f921"
            ]
           ]
          },
          "colorway": [
           "#636efa",
           "#EF553B",
           "#00cc96",
           "#ab63fa",
           "#FFA15A",
           "#19d3f3",
           "#FF6692",
           "#B6E880",
           "#FF97FF",
           "#FECB52"
          ],
          "font": {
           "color": "#2a3f5f"
          },
          "geo": {
           "bgcolor": "white",
           "lakecolor": "white",
           "landcolor": "#E5ECF6",
           "showlakes": true,
           "showland": true,
           "subunitcolor": "white"
          },
          "hoverlabel": {
           "align": "left"
          },
          "hovermode": "closest",
          "mapbox": {
           "style": "light"
          },
          "paper_bgcolor": "white",
          "plot_bgcolor": "#E5ECF6",
          "polar": {
           "angularaxis": {
            "gridcolor": "white",
            "linecolor": "white",
            "ticks": ""
           },
           "bgcolor": "#E5ECF6",
           "radialaxis": {
            "gridcolor": "white",
            "linecolor": "white",
            "ticks": ""
           }
          },
          "scene": {
           "xaxis": {
            "backgroundcolor": "#E5ECF6",
            "gridcolor": "white",
            "gridwidth": 2,
            "linecolor": "white",
            "showbackground": true,
            "ticks": "",
            "zerolinecolor": "white"
           },
           "yaxis": {
            "backgroundcolor": "#E5ECF6",
            "gridcolor": "white",
            "gridwidth": 2,
            "linecolor": "white",
            "showbackground": true,
            "ticks": "",
            "zerolinecolor": "white"
           },
           "zaxis": {
            "backgroundcolor": "#E5ECF6",
            "gridcolor": "white",
            "gridwidth": 2,
            "linecolor": "white",
            "showbackground": true,
            "ticks": "",
            "zerolinecolor": "white"
           }
          },
          "shapedefaults": {
           "line": {
            "color": "#2a3f5f"
           }
          },
          "ternary": {
           "aaxis": {
            "gridcolor": "white",
            "linecolor": "white",
            "ticks": ""
           },
           "baxis": {
            "gridcolor": "white",
            "linecolor": "white",
            "ticks": ""
           },
           "bgcolor": "#E5ECF6",
           "caxis": {
            "gridcolor": "white",
            "linecolor": "white",
            "ticks": ""
           }
          },
          "title": {
           "x": 0.05
          },
          "xaxis": {
           "automargin": true,
           "gridcolor": "white",
           "linecolor": "white",
           "ticks": "",
           "title": {
            "standoff": 15
           },
           "zerolinecolor": "white",
           "zerolinewidth": 2
          },
          "yaxis": {
           "automargin": true,
           "gridcolor": "white",
           "linecolor": "white",
           "ticks": "",
           "title": {
            "standoff": 15
           },
           "zerolinecolor": "white",
           "zerolinewidth": 2
          }
         }
        },
        "title": {
         "text": "Plateform_People_like_to_listen_from"
        },
        "xaxis": {
         "anchor": "y",
         "domain": [
          0,
          1
         ],
         "title": {
          "text": "Gender"
         }
        },
        "yaxis": {
         "anchor": "x",
         "domain": [
          0,
          1
         ],
         "title": {
          "text": "Plateform_from_you_wantToFollow"
         }
        }
       }
      }
     },
     "metadata": {},
     "output_type": "display_data"
    }
   ],
   "source": [
    "px.box(df, x='Gender', y='Plateform_from_you_wantToFollow', color='Duration', title='Plateform_People_like_to_listen_from')"
   ]
  },
  {
   "cell_type": "markdown",
   "metadata": {},
   "source": [
    "**There are almost public which want to listen fm from the plateform**\n",
    "**SoundCloud, Instagram, youtube and facebook**\n",
    "**very few suggested the linkedIn and Tweeter**"
   ]
  },
  {
   "cell_type": "code",
   "execution_count": null,
   "metadata": {},
   "outputs": [],
   "source": []
  }
 ],
 "metadata": {
  "kernelspec": {
   "display_name": "Python 3.10.0 64-bit",
   "language": "python",
   "name": "python3"
  },
  "language_info": {
   "codemirror_mode": {
    "name": "ipython",
    "version": 3
   },
   "file_extension": ".py",
   "mimetype": "text/x-python",
   "name": "python",
   "nbconvert_exporter": "python",
   "pygments_lexer": "ipython3",
   "version": "3.10.0"
  },
  "orig_nbformat": 4,
  "vscode": {
   "interpreter": {
    "hash": "f9f548c2a1e31bee259243eb3cadef8e3f5df494eebd1547b8501ebadceda8c5"
   }
  }
 },
 "nbformat": 4,
 "nbformat_minor": 2
}
